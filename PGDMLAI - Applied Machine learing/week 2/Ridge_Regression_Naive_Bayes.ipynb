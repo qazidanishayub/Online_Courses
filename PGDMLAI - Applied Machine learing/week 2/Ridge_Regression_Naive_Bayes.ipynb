{
 "cells": [
  {
   "cell_type": "markdown",
   "metadata": {
    "deletable": false,
    "editable": false,
    "nbgrader": {
     "grade": false,
     "locked": true,
     "solution": false
    }
   },
   "source": [
    "# Ridge Regression and Bayesian Methods\n",
    "\n",
    "\n",
    "**_Author: Khal Makhoul, W.P.G.Peterson_**\n",
    "\n",
    "**_Reviewer: Jessica Cervi_**\n",
    "\n",
    "**Expected time = 2.5 hours**\n",
    "\n",
    "**Total points =  80 points**\n",
    "\n",
    "\n",
    "\n",
    "## Assignment Overview\n",
    "\n",
    "This assignment will test your ability to code your own version of ridge-regularized regression in `Python`. Ridge Regression offers a way to mitigate some of the weaknesses of Least Squares Linear Regression to build more robust models. This assignment draws upon and presupposes the knowledge found in the lectures for Module 13.  \n",
    "\n",
    "The assignment also builds upon the work performed in the module 13 assignment \"*Linear Regression - Least Squares*\". The data used will be the same. Though the last assignment tested your ability to read data into `Pandas` from a `.csv`. Those fundamental processes will not be directly tested here.\n",
    "\n",
    "\n",
    "This assignment is designed to build your familiarity and comfort coding in Python while also helping you review key topics from each module. As you progress through the assignment, answers will get increasingly complex. It is important that you adopt a data scientist's mindset when completing this assignment. **Remember to run your code from each cell before submitting your assignment.** Running your code beforehand will notify you of errors and give you a chance to fix your errors before submitting. You should view your Vocareum submission as if you are delivering a final project to your manager or client. \n",
    "\n",
    "***Vocareum Tips***\n",
    "- Do not add arguments or options to functions unless you are specifically asked to. This will cause an error in Vocareum.\n",
    "- Do not use a library unless you are expicitly asked to in the question. \n",
    "- You can download the Grading Report after submitting the assignment. This will include feedback and hints on incorrect questions. \n",
    "\n",
    "\n",
    "### Learning Objectives\n",
    "\n",
    "- Test both Python and mathematical competencies in ridge regression\n",
    "- Calculate ridge regression weights using linear algebra\n",
    "- Understand how to standardize data and its working \n",
    "- Process data for regularized methods \n",
    "- Implement ridge regression from scratch\n",
    "- Use Naïve grid search to optimize regularization and set hyperparameters\n",
    "- Familiarize with the concept of hyperparameter tuning"
   ]
  },
  {
   "cell_type": "markdown",
   "metadata": {},
   "source": [
    "## Index: \n",
    "\n",
    "#### Ridge Regression and Bayesian Methods\n",
    "\n",
    "- [Question 1](#q1)\n",
    "- [Question 2](#q2)\n",
    "- [Question 3](#q3)\n",
    "- [Question 4](#q4)\n",
    "- [Question 5](#q5)\n",
    "- [Question 6](#q6)\n",
    "- [Question 7](#q7)\n",
    "- [Question 8](#q8)\n",
    "- [Question 9](#q9)\n",
    "- [Question 10](#q10)\n",
    "- [Question 11](#q11)"
   ]
  },
  {
   "cell_type": "markdown",
   "metadata": {},
   "source": [
    "## Ridge Regression and Bayesian Methods\n",
    "\n",
    "\n",
    "For this assignment, we will use a regression model on a housing price dataset to predict the price of a house based on its living area above the ground. More information about this dataset can be found [here](https://www.kaggle.com/c/house-prices-advanced-regression-techniques/data).  \n",
    "\n",
    "Before coding an algorithm, we will take a look at our data using Python's `pandas`. For visualizations, we'll use `matplotlib`.\n",
    "Let's import the necessary libraries and load the datasets by using the pandas pd.read_csv() function.\n",
    "\n"
   ]
  },
  {
   "cell_type": "code",
   "execution_count": 5,
   "metadata": {
    "collapsed": true,
    "deletable": false,
    "editable": false,
    "nbgrader": {
     "grade": false,
     "locked": true,
     "solution": false
    }
   },
   "outputs": [],
   "source": [
    "### Import the necessary modules\n",
    "\n",
    "%matplotlib inline\n",
    "import numpy as np\n",
    "import pandas as pd\n",
    "import matplotlib.pyplot as plt\n",
    "plt.rcParams['figure.figsize'] = (20.0, 10.0)  \n",
    "\n",
    "### Read in the data\n",
    "tr_path = 'data/train.csv'\n",
    "\n",
    "data = pd.read_csv(tr_path)  "
   ]
  },
  {
   "cell_type": "markdown",
   "metadata": {},
   "source": [
    "We begin by performing some basic exploratory data analysis by using the function head() and the attribute columns.\n"
   ]
  },
  {
   "cell_type": "code",
   "execution_count": 6,
   "metadata": {},
   "outputs": [
    {
     "data": {
      "text/html": [
       "<div>\n",
       "<style scoped>\n",
       "    .dataframe tbody tr th:only-of-type {\n",
       "        vertical-align: middle;\n",
       "    }\n",
       "\n",
       "    .dataframe tbody tr th {\n",
       "        vertical-align: top;\n",
       "    }\n",
       "\n",
       "    .dataframe thead th {\n",
       "        text-align: right;\n",
       "    }\n",
       "</style>\n",
       "<table border=\"1\" class=\"dataframe\">\n",
       "  <thead>\n",
       "    <tr style=\"text-align: right;\">\n",
       "      <th></th>\n",
       "      <th>Id</th>\n",
       "      <th>MSSubClass</th>\n",
       "      <th>MSZoning</th>\n",
       "      <th>LotFrontage</th>\n",
       "      <th>LotArea</th>\n",
       "      <th>Street</th>\n",
       "      <th>Alley</th>\n",
       "      <th>LotShape</th>\n",
       "      <th>LandContour</th>\n",
       "      <th>Utilities</th>\n",
       "      <th>...</th>\n",
       "      <th>PoolArea</th>\n",
       "      <th>PoolQC</th>\n",
       "      <th>Fence</th>\n",
       "      <th>MiscFeature</th>\n",
       "      <th>MiscVal</th>\n",
       "      <th>MoSold</th>\n",
       "      <th>YrSold</th>\n",
       "      <th>SaleType</th>\n",
       "      <th>SaleCondition</th>\n",
       "      <th>SalePrice</th>\n",
       "    </tr>\n",
       "  </thead>\n",
       "  <tbody>\n",
       "    <tr>\n",
       "      <th>0</th>\n",
       "      <td>1</td>\n",
       "      <td>60</td>\n",
       "      <td>RL</td>\n",
       "      <td>65.0</td>\n",
       "      <td>8450</td>\n",
       "      <td>Pave</td>\n",
       "      <td>NaN</td>\n",
       "      <td>Reg</td>\n",
       "      <td>Lvl</td>\n",
       "      <td>AllPub</td>\n",
       "      <td>...</td>\n",
       "      <td>0</td>\n",
       "      <td>NaN</td>\n",
       "      <td>NaN</td>\n",
       "      <td>NaN</td>\n",
       "      <td>0</td>\n",
       "      <td>2</td>\n",
       "      <td>2008</td>\n",
       "      <td>WD</td>\n",
       "      <td>Normal</td>\n",
       "      <td>208500</td>\n",
       "    </tr>\n",
       "    <tr>\n",
       "      <th>1</th>\n",
       "      <td>2</td>\n",
       "      <td>20</td>\n",
       "      <td>RL</td>\n",
       "      <td>80.0</td>\n",
       "      <td>9600</td>\n",
       "      <td>Pave</td>\n",
       "      <td>NaN</td>\n",
       "      <td>Reg</td>\n",
       "      <td>Lvl</td>\n",
       "      <td>AllPub</td>\n",
       "      <td>...</td>\n",
       "      <td>0</td>\n",
       "      <td>NaN</td>\n",
       "      <td>NaN</td>\n",
       "      <td>NaN</td>\n",
       "      <td>0</td>\n",
       "      <td>5</td>\n",
       "      <td>2007</td>\n",
       "      <td>WD</td>\n",
       "      <td>Normal</td>\n",
       "      <td>181500</td>\n",
       "    </tr>\n",
       "    <tr>\n",
       "      <th>2</th>\n",
       "      <td>3</td>\n",
       "      <td>60</td>\n",
       "      <td>RL</td>\n",
       "      <td>68.0</td>\n",
       "      <td>11250</td>\n",
       "      <td>Pave</td>\n",
       "      <td>NaN</td>\n",
       "      <td>IR1</td>\n",
       "      <td>Lvl</td>\n",
       "      <td>AllPub</td>\n",
       "      <td>...</td>\n",
       "      <td>0</td>\n",
       "      <td>NaN</td>\n",
       "      <td>NaN</td>\n",
       "      <td>NaN</td>\n",
       "      <td>0</td>\n",
       "      <td>9</td>\n",
       "      <td>2008</td>\n",
       "      <td>WD</td>\n",
       "      <td>Normal</td>\n",
       "      <td>223500</td>\n",
       "    </tr>\n",
       "    <tr>\n",
       "      <th>3</th>\n",
       "      <td>4</td>\n",
       "      <td>70</td>\n",
       "      <td>RL</td>\n",
       "      <td>60.0</td>\n",
       "      <td>9550</td>\n",
       "      <td>Pave</td>\n",
       "      <td>NaN</td>\n",
       "      <td>IR1</td>\n",
       "      <td>Lvl</td>\n",
       "      <td>AllPub</td>\n",
       "      <td>...</td>\n",
       "      <td>0</td>\n",
       "      <td>NaN</td>\n",
       "      <td>NaN</td>\n",
       "      <td>NaN</td>\n",
       "      <td>0</td>\n",
       "      <td>2</td>\n",
       "      <td>2006</td>\n",
       "      <td>WD</td>\n",
       "      <td>Abnorml</td>\n",
       "      <td>140000</td>\n",
       "    </tr>\n",
       "    <tr>\n",
       "      <th>4</th>\n",
       "      <td>5</td>\n",
       "      <td>60</td>\n",
       "      <td>RL</td>\n",
       "      <td>84.0</td>\n",
       "      <td>14260</td>\n",
       "      <td>Pave</td>\n",
       "      <td>NaN</td>\n",
       "      <td>IR1</td>\n",
       "      <td>Lvl</td>\n",
       "      <td>AllPub</td>\n",
       "      <td>...</td>\n",
       "      <td>0</td>\n",
       "      <td>NaN</td>\n",
       "      <td>NaN</td>\n",
       "      <td>NaN</td>\n",
       "      <td>0</td>\n",
       "      <td>12</td>\n",
       "      <td>2008</td>\n",
       "      <td>WD</td>\n",
       "      <td>Normal</td>\n",
       "      <td>250000</td>\n",
       "    </tr>\n",
       "  </tbody>\n",
       "</table>\n",
       "<p>5 rows × 81 columns</p>\n",
       "</div>"
      ],
      "text/plain": [
       "   Id  MSSubClass MSZoning  LotFrontage  LotArea Street Alley LotShape  \\\n",
       "0   1          60       RL         65.0     8450   Pave   NaN      Reg   \n",
       "1   2          20       RL         80.0     9600   Pave   NaN      Reg   \n",
       "2   3          60       RL         68.0    11250   Pave   NaN      IR1   \n",
       "3   4          70       RL         60.0     9550   Pave   NaN      IR1   \n",
       "4   5          60       RL         84.0    14260   Pave   NaN      IR1   \n",
       "\n",
       "  LandContour Utilities  ... PoolArea PoolQC Fence MiscFeature MiscVal MoSold  \\\n",
       "0         Lvl    AllPub  ...        0    NaN   NaN         NaN       0      2   \n",
       "1         Lvl    AllPub  ...        0    NaN   NaN         NaN       0      5   \n",
       "2         Lvl    AllPub  ...        0    NaN   NaN         NaN       0      9   \n",
       "3         Lvl    AllPub  ...        0    NaN   NaN         NaN       0      2   \n",
       "4         Lvl    AllPub  ...        0    NaN   NaN         NaN       0     12   \n",
       "\n",
       "  YrSold  SaleType  SaleCondition  SalePrice  \n",
       "0   2008        WD         Normal     208500  \n",
       "1   2007        WD         Normal     181500  \n",
       "2   2008        WD         Normal     223500  \n",
       "3   2006        WD        Abnorml     140000  \n",
       "4   2008        WD         Normal     250000  \n",
       "\n",
       "[5 rows x 81 columns]"
      ]
     },
     "execution_count": 6,
     "metadata": {},
     "output_type": "execute_result"
    }
   ],
   "source": [
    "data.head()"
   ]
  },
  {
   "cell_type": "markdown",
   "metadata": {
    "deletable": false,
    "editable": false,
    "nbgrader": {
     "grade": false,
     "locked": true,
     "solution": false
    }
   },
   "source": [
    "[Back to top](#Index:) \n",
    "<a id='q1'></a>\n",
    "\n",
    "### Question 1:\n",
    "\n",
    "*5 points*\n",
    "\n",
    "Which column has the most \"null\" values? Assign name of the column as string to `ans1a`.\n",
    "How many nulls are in that column? Assign number as int to `ans1b`.\n",
    "\n",
    "**NOTE:** To find the column that has the higher number of null values, use the `idxmin()` function."
   ]
  },
  {
   "cell_type": "code",
   "execution_count": 7,
   "metadata": {},
   "outputs": [
    {
     "name": "stdout",
     "output_type": "stream",
     "text": [
      "PoolQC\n",
      "1453\n"
     ]
    }
   ],
   "source": [
    "### GRADED\n",
    "###\n",
    "### YOUR CODE HERE\n",
    "###\n",
    "print(data.count().idxmin())\n",
    "print(data['PoolQC'].isna().sum())\n",
    "\n",
    "ans1a = 'PoolQC'\n",
    "ans1b = 1453\n"
   ]
  },
  {
   "cell_type": "code",
   "execution_count": 8,
   "metadata": {},
   "outputs": [
    {
     "data": {
      "text/plain": [
       "'PoolQC'"
      ]
     },
     "execution_count": 8,
     "metadata": {},
     "output_type": "execute_result"
    }
   ],
   "source": [
    "ans1a"
   ]
  },
  {
   "cell_type": "code",
   "execution_count": 9,
   "metadata": {
    "collapsed": true,
    "deletable": false,
    "editable": false,
    "nbgrader": {
     "grade": true,
     "grade_id": "Question 01",
     "locked": true,
     "points": "5",
     "solution": false
    }
   },
   "outputs": [],
   "source": [
    "###\n",
    "### AUTOGRADER TEST - DO NOT REMOVE\n",
    "###\n"
   ]
  },
  {
   "cell_type": "markdown",
   "metadata": {},
   "source": [
    "Next, let's plot the relationship between our variables of interest: the price for each house and the above ground living area in square feet.\n",
    "\n",
    "We can do so by creating a scatter plot using matplotlib."
   ]
  },
  {
   "cell_type": "code",
   "execution_count": 10,
   "metadata": {
    "deletable": false,
    "editable": false,
    "nbgrader": {
     "grade": false,
     "locked": true,
     "solution": false
    }
   },
   "outputs": [
    {
     "data": {
      "image/png": "[encoded data removed]",
      "text/plain": [
       "<Figure size 1440x720 with 1 Axes>"
      ]
     },
     "metadata": {
      "needs_background": "light"
     },
     "output_type": "display_data"
    }
   ],
   "source": [
    "\n",
    "data.plot('GrLivArea', 'SalePrice', kind = 'scatter', marker = 'x');"
   ]
  },
  {
   "cell_type": "markdown",
   "metadata": {
    "deletable": false,
    "editable": false,
    "nbgrader": {
     "grade": false,
     "locked": true,
     "solution": false
    }
   },
   "source": [
    "[Back to top](#Index:) \n",
    "<a id='q2'></a>\n",
    "\n",
    "### Question 2:\n",
    "\n",
    "*5 points*\n",
    "\n",
    "Create a subset of our dataframe below containing only the \"Street\" and \"Alley\" columns from the `data`.\n",
    "Assign the new dataframe to 'ans2'"
   ]
  },
  {
   "cell_type": "code",
   "execution_count": 11,
   "metadata": {},
   "outputs": [
    {
     "data": {
      "text/html": [
       "<div>\n",
       "<style scoped>\n",
       "    .dataframe tbody tr th:only-of-type {\n",
       "        vertical-align: middle;\n",
       "    }\n",
       "\n",
       "    .dataframe tbody tr th {\n",
       "        vertical-align: top;\n",
       "    }\n",
       "\n",
       "    .dataframe thead th {\n",
       "        text-align: right;\n",
       "    }\n",
       "</style>\n",
       "<table border=\"1\" class=\"dataframe\">\n",
       "  <thead>\n",
       "    <tr style=\"text-align: right;\">\n",
       "      <th></th>\n",
       "      <th>Street</th>\n",
       "      <th>Alley</th>\n",
       "    </tr>\n",
       "  </thead>\n",
       "  <tbody>\n",
       "    <tr>\n",
       "      <th>0</th>\n",
       "      <td>Pave</td>\n",
       "      <td>NaN</td>\n",
       "    </tr>\n",
       "    <tr>\n",
       "      <th>1</th>\n",
       "      <td>Pave</td>\n",
       "      <td>NaN</td>\n",
       "    </tr>\n",
       "    <tr>\n",
       "      <th>2</th>\n",
       "      <td>Pave</td>\n",
       "      <td>NaN</td>\n",
       "    </tr>\n",
       "    <tr>\n",
       "      <th>3</th>\n",
       "      <td>Pave</td>\n",
       "      <td>NaN</td>\n",
       "    </tr>\n",
       "    <tr>\n",
       "      <th>4</th>\n",
       "      <td>Pave</td>\n",
       "      <td>NaN</td>\n",
       "    </tr>\n",
       "    <tr>\n",
       "      <th>...</th>\n",
       "      <td>...</td>\n",
       "      <td>...</td>\n",
       "    </tr>\n",
       "    <tr>\n",
       "      <th>1455</th>\n",
       "      <td>Pave</td>\n",
       "      <td>NaN</td>\n",
       "    </tr>\n",
       "    <tr>\n",
       "      <th>1456</th>\n",
       "      <td>Pave</td>\n",
       "      <td>NaN</td>\n",
       "    </tr>\n",
       "    <tr>\n",
       "      <th>1457</th>\n",
       "      <td>Pave</td>\n",
       "      <td>NaN</td>\n",
       "    </tr>\n",
       "    <tr>\n",
       "      <th>1458</th>\n",
       "      <td>Pave</td>\n",
       "      <td>NaN</td>\n",
       "    </tr>\n",
       "    <tr>\n",
       "      <th>1459</th>\n",
       "      <td>Pave</td>\n",
       "      <td>NaN</td>\n",
       "    </tr>\n",
       "  </tbody>\n",
       "</table>\n",
       "<p>1460 rows × 2 columns</p>\n",
       "</div>"
      ],
      "text/plain": [
       "     Street Alley\n",
       "0      Pave   NaN\n",
       "1      Pave   NaN\n",
       "2      Pave   NaN\n",
       "3      Pave   NaN\n",
       "4      Pave   NaN\n",
       "...     ...   ...\n",
       "1455   Pave   NaN\n",
       "1456   Pave   NaN\n",
       "1457   Pave   NaN\n",
       "1458   Pave   NaN\n",
       "1459   Pave   NaN\n",
       "\n",
       "[1460 rows x 2 columns]"
      ]
     },
     "execution_count": 11,
     "metadata": {},
     "output_type": "execute_result"
    }
   ],
   "source": [
    "### GRADED\n",
    "\n",
    "### YOUR SOLUTION HERE\n",
    "ans2 = data[['Street','Alley']]\n",
    "ans2\n",
    "###\n",
    "### YOUR CODE HERE\n",
    "###\n"
   ]
  },
  {
   "cell_type": "code",
   "execution_count": 12,
   "metadata": {
    "collapsed": true,
    "deletable": false,
    "editable": false,
    "nbgrader": {
     "grade": true,
     "grade_id": "Question 02",
     "locked": true,
     "points": "5",
     "solution": false
    }
   },
   "outputs": [],
   "source": [
    "###\n",
    "### AUTOGRADER TEST - DO NOT REMOVE\n",
    "###\n"
   ]
  },
  {
   "cell_type": "markdown",
   "metadata": {
    "deletable": false,
    "editable": false,
    "nbgrader": {
     "grade": false,
     "locked": true,
     "solution": false
    }
   },
   "source": [
    "<a id = \"code\"></a>\n",
    "### Coding Ridge Regression   \n",
    "\n",
    "#### Preprocessing\n",
    "Before implementing ridge regression, it is important to mean-center our target variable and mean-center and standardize observations. We will do this by using the following formulas:  \n",
    "#### Mean Center Target\n",
    "$$y_{cent} = y_0 - \\bar{y}$$\n",
    "\n",
    "#### Standardize Observations\n",
    "$$X_{std} = \\frac{X_0-\\bar{X}}{s_{X}}$$\n",
    "\n",
    "Where $\\bar{X}$ is the sample mean of X and $s_{X}$ is the sample standard deviation of X.  \n",
    "\n",
    "NOTE: The sample standard deviation should be calculated with 0 \"Delta Degrees of Freedom\"\n"
   ]
  },
  {
   "cell_type": "markdown",
   "metadata": {},
   "source": [
    "[Back to top](#Index:) \n",
    "<a id='q3'></a>\n",
    "\n",
    "### Question 3:\n",
    "\n",
    "*5 points*\n",
    "    \n",
    "Why are the centering/standardization transformations described above important for ridge regression?\n",
    "- a) Regression works best when values are unitless\n",
    "- b) The transformations makes the regression more interpretable\n",
    "- c) Ridge penalizes large coefficients; the transformations make the coefficients of similar scales\n",
    "- d) It isn't important\n",
    "\n",
    "Assign character associated with your choice as a string to `ans3`."
   ]
  },
  {
   "cell_type": "code",
   "execution_count": 13,
   "metadata": {
    "collapsed": true
   },
   "outputs": [],
   "source": [
    "### GRADED\n",
    "\n",
    "### YOUR ANSWER BELOW\n",
    "\n",
    "ans3 = 'c'\n",
    "\n",
    "###\n",
    "### YOUR CODE HERE\n",
    "###\n"
   ]
  },
  {
   "cell_type": "code",
   "execution_count": 14,
   "metadata": {
    "collapsed": true,
    "deletable": false,
    "editable": false,
    "nbgrader": {
     "grade": true,
     "grade_id": "Question 03",
     "locked": true,
     "points": "5",
     "solution": false
    }
   },
   "outputs": [],
   "source": [
    "###\n",
    "### AUTOGRADER TEST - DO NOT REMOVE\n",
    "###\n"
   ]
  },
  {
   "cell_type": "markdown",
   "metadata": {
    "deletable": false,
    "editable": false,
    "nbgrader": {
     "grade": false,
     "locked": true,
     "solution": false
    }
   },
   "source": [
    "[Back to top](#Index:) \n",
    "<a id='q4'></a>\n",
    "\n",
    "### Question 4:\n",
    "\n",
    "*10 points*\n",
    "\n",
    "Standardized values can be calculated using the following formula:\n",
    "\n",
    "$$X_{std} = \\frac{X_0-\\bar{X}}{s_{X}}.$$\n",
    "\n",
    "Define a function \"standardize\" that accepts, as input a list of numbers and returns a list where those values have been standardized. Please use the NumPy function `std()` for calculating standard deviation\n",
    "\n",
    "NOTE: The sample standard deviation should be calculated with 0 \"Delta Degrees of Freedom\".  \n",
    "If your answer does not match the example answer, check the default degrees of freedom in your standard deviation function."
   ]
  },
  {
   "cell_type": "code",
   "execution_count": 15,
   "metadata": {},
   "outputs": [
    {
     "data": {
      "text/plain": [
       "array([-2.11, -1.36, -0.61, -0.61,  0.14,  0.14,  0.88,  0.88,  0.88,\n",
       "        0.88,  0.88])"
      ]
     },
     "execution_count": 15,
     "metadata": {},
     "output_type": "execute_result"
    }
   ],
   "source": [
    "### GRADED\n",
    "\n",
    "### YOUR ANSWER BELOW\n",
    "\n",
    "def standardize( num_list):\n",
    "    \"\"\"\n",
    "    Standardize the given list of numbers\n",
    "    \n",
    "    Positional arguments:\n",
    "        num_list -- a list of numbers\n",
    "    \n",
    "    Example:\n",
    "        num_list = [1,2,3,3,4,4,5,5,5,5,5]\n",
    "        nl_std = standardize(num_list)\n",
    "        print(np.round(nl_std,2))\n",
    "        #--> np.array([-2.11, -1.36, -0.61, -0.61,  \n",
    "                0.14,  0.14,  0.88,  0.88,  0.88,\n",
    "                0.88,  0.88])\n",
    "    \n",
    "    NOTE: the sample standard deviation should be calculated with 0 \"Delta Degrees of Freedom\"\n",
    "    \"\"\"\n",
    "    mean = np.mean(num_list)\n",
    "    std = np.std(num_list,0)\n",
    "    standardized_list = (num_list-mean)/std\n",
    "    return np.round(standardized_list,2)\n",
    "\n",
    "###\n",
    "### YOUR CODE HERE\n",
    "###\n",
    "standardize( num_list = [1,2,3,3,4,4,5,5,5,5,5])"
   ]
  },
  {
   "cell_type": "code",
   "execution_count": 16,
   "metadata": {
    "collapsed": true,
    "deletable": false,
    "editable": false,
    "nbgrader": {
     "grade": true,
     "grade_id": "Question 04",
     "locked": true,
     "points": "10",
     "solution": false
    }
   },
   "outputs": [],
   "source": [
    "###\n",
    "### AUTOGRADER TEST - DO NOT REMOVE\n",
    "###\n"
   ]
  },
  {
   "cell_type": "markdown",
   "metadata": {
    "deletable": false,
    "editable": false,
    "nbgrader": {
     "grade": false,
     "locked": true,
     "solution": false
    }
   },
   "source": [
    "Below we will create a function which will preprocess our data by performing:\n",
    "* mean subtraction from $y$,\n",
    "* dimension standardization for $x$.\n",
    "\n",
    "The formulas to Mean Center Target and Standardize Observations are given above.\n",
    "\n",
    "NOTE: The sample standard deviation should be calculated with 0 \"Delta Degrees of Freedom\"  \n",
    "If your answer does not match the example answer, check the default degrees of freedom in your standard deviation function.\n",
    "\n",
    "[Back to top](#Index:) \n",
    "<a id='q5'></a>\n",
    "\n",
    "### Question 5:\n",
    "\n",
    "*10 points*\n",
    "\n",
    "Code a function called \"preprocess_for_regularization\" that accepts, as input, the DataFrame, a `y_column_name` input and an `x_column_names` input input\n",
    "Your function should preprocess our data by performing:\n",
    "- mean subtraction from $y$,\n",
    "- dimension standardization for $x$"
   ]
  },
  {
   "cell_type": "code",
   "execution_count": 18,
   "metadata": {},
   "outputs": [
    {
     "name": "stdout",
     "output_type": "stream",
     "text": [
      "   GrLivArea  YearBuilt  SalePrice\n",
      "0  -0.082772   0.716753     7800.0\n",
      "1  -1.590161  -0.089594   -19200.0\n",
      "2   0.172946   0.657024    22800.0\n",
      "3  -0.059219  -1.911342   -60700.0\n",
      "4   1.559205   0.627159    49300.0\n"
     ]
    }
   ],
   "source": [
    "### GRADED\n",
    "### YOUR ANSWER BELOW\n",
    "def preprocess_for_regularization(data, y_column_name, x_column_names):\n",
    "    \"\"\"\n",
    "    Perform mean subtraction and dimension standardization on data\n",
    "        \n",
    "    Positional argument:\n",
    "        data -- a pandas dataframe of the data to pre-process\n",
    "        y_column_name -- the name (string) of the column that contains\n",
    "            the target of the training data.\n",
    "        x_column_names -- a *list* of the names of columns that contain the\n",
    "            observations to be standardized\n",
    "        \n",
    "    Returns:\n",
    "        Return a DataFrame consisting only of the columns included\n",
    "        in `y_column_name` and `x_column_names`.\n",
    "        Where the y_column has been mean-centered, and the\n",
    "        x_columns have been mean-centered/standardized.\n",
    "        \n",
    "     NOTE: The sample standard deviation should be calculated with 0 \"Delta Degrees of Freedom\"\n",
    "    \n",
    "    If your answer does not match the example answer,\n",
    "    check the default degrees of freedom in your standard deviation function.\n",
    "    \n",
    "    Example:\n",
    "        data = pd.read_csv(tr_path).head()\n",
    "        prepro_data = preprocess_for_regularization(data,'SalePrice', ['GrLivArea','YearBuilt'])\n",
    "        \n",
    "        print(prepro_data) #-->\n",
    "                   GrLivArea  YearBuilt  SalePrice\n",
    "                0  -0.082772   0.716753     7800.0\n",
    "                1  -1.590161  -0.089594   -19200.0\n",
    "                2   0.172946   0.657024    22800.0\n",
    "                3  -0.059219  -1.911342   -60700.0\n",
    "                4   1.559205   0.627159    49300.0\n",
    "       \"\"\"\n",
    "    # Create list of all columns\n",
    "    toRetCol = x_column_names + [y_column_name]\n",
    "    \n",
    "    # subset dataframe\n",
    "    toRet = data[toRetCol].copy() # For \"setting with copy\" warning\n",
    "    \n",
    "    # calculate mean of y, then subtract from all y's\n",
    "    y_mean = np.mean(data[y_column_name])\n",
    "    \n",
    "    toRet[y_column_name] = data[y_column_name].apply(lambda x: x - y_mean)\n",
    "    \n",
    "    # Calc mean and std for every column in x\n",
    "    # Then apply standardization\n",
    "    for column in x_column_names:\n",
    "        mean = np.mean(data[column])\n",
    "        std = np.std(data[column])\n",
    "        \n",
    "        toRet[column] = data[column].apply(lambda x: (x - mean)/std)\n",
    "    \n",
    "    return toRet\n",
    "prepro_data = preprocess_for_regularization(data.head(),'SalePrice', ['GrLivArea','YearBuilt'])\n",
    "print(prepro_data)"
   ]
  },
  {
   "cell_type": "code",
   "execution_count": 149,
   "metadata": {
    "collapsed": true,
    "deletable": false,
    "editable": false,
    "nbgrader": {
     "grade": true,
     "grade_id": "Question 05",
     "locked": true,
     "points": "10",
     "solution": false
    }
   },
   "outputs": [],
   "source": [
    "###\n",
    "### AUTOGRADER TEST - DO NOT REMOVE\n",
    "###\n"
   ]
  },
  {
   "cell_type": "markdown",
   "metadata": {
    "deletable": false,
    "editable": false,
    "nbgrader": {
     "grade": false,
     "locked": true,
     "solution": false
    }
   },
   "source": [
    "Next, you'll implement the equation for ridge regression using the closed form equation:  \n",
    "\n",
    "$$w_{RR}=(\\lambda+X^TX)^{-1}X^Ty$$  \n",
    "\n",
    "The function will be very similar to the function you wrote for Least Squares Regression with a slightly different matrix to invert.  \n",
    "\n",
    "NB: Many `numpy` matrix functions will be useful. e.g. `np.matmul`, `np.linalg.inv`, `np.ones`, `np.transpose`, and `np.identity`.\n",
    "\n",
    "The main change from Least Squares Regression is that $\\lambda$ is a parameter *we* must set. This is different from the $w$ parameters that we calculate from either closed form or approximation algorithms.  \n",
    "\n",
    "We will address tuning parameters such as $\\lambda$ in the next section.  \n",
    "\n",
    "[Back to top](#Index:) \n",
    "<a id='q6'></a>\n",
    "\n",
    "### Question 6:\n",
    "\n",
    "*10 points*\n",
    "\n",
    "Code a function called \"ridge_regression_weights\" that takes, as input, three inputs: two matricies corresponding to the x inputs and y target and a number (int or float) for the lambda parameter\n",
    "\n",
    "Your function should return a numpy array of regression weights\n",
    "\n",
    " The following steps must be accomplished:\n",
    "\n",
    "Ensure the number of rows of each the X matrix is greater than the number of columns.\n",
    "If not, transpose the matrix.\n",
    "Ultimately, the y input will have length n. Thus the x input should be in the shape n-by-p\n",
    "\n",
    "*Prepend* an n-by-1 column of ones to the input_x matrix\n",
    "\n",
    "Use the above equation to calculate the least squares weights. This will involve creating the lambda matrix - a p+1-by-p+1 matrix with the \"lambda_param\" on the diagonal"
   ]
  },
  {
   "cell_type": "code",
   "execution_count": 20,
   "metadata": {},
   "outputs": [
    {
     "name": "stdout",
     "output_type": "stream",
     "text": [
      "[-576.67947107   77.45913349   31.50189177]\n",
      "31.501891773638256\n"
     ]
    }
   ],
   "source": [
    "### GRADED\n",
    "\n",
    "### YOUR ANSWER BELOW\n",
    "\n",
    "def ridge_regression_weights(input_x, output_y, lambda_param):\n",
    "    \"\"\"Calculate ridge regression least squares weights.\n",
    "    \n",
    "    Positional arguments:\n",
    "        input_x -- 2-d matrix of input data\n",
    "        output_y -- 1-d numpy array of target values\n",
    "        lambda_param -- lambda parameter that controls how heavily\n",
    "            to penalize large weight values\n",
    "        \n",
    "    Example:\n",
    "        training_y = np.array([208500, 181500, 223500, \n",
    "                                140000, 250000, 143000, \n",
    "                                307000, 200000, 129900, \n",
    "                                118000])\n",
    "                                \n",
    "        training_x = np.array([[1710, 1262, 1786, \n",
    "                                1717, 2198, 1362, \n",
    "                                1694, 2090, 1774, \n",
    "                                1077], \n",
    "                               [2003, 1976, 2001, \n",
    "                                1915, 2000, 1993, \n",
    "                                2004, 1973, 1931, \n",
    "                                1939]])\n",
    "        lambda_param = 10\n",
    "        \n",
    "        rrw = ridge_regression_weights(training_x, training_y, lambda_param)\n",
    "        \n",
    "        print(rrw) #--> np.array([-576.67947107,   77.45913349,   31.50189177])\n",
    "        print(rrw[2]) #--> 31.50189177\n",
    "        \n",
    "    Assumptions:\n",
    "        -- output_y is a vector whose length is the same as the\n",
    "        number of observations in input_x\n",
    "        -- lambda_param has a value greater than 0\n",
    "    \"\"\"\n",
    "    \n",
    "    # Check to ensure dataframe is long not wide\n",
    "    if input_x.shape[0] < input_x.shape[1]:\n",
    "        input_x = np.transpose(input_x)\n",
    "        \n",
    "    # Create column of ones\n",
    "    ones = np.ones((len(output_y), 1), dtype=int)\n",
    "    \n",
    "    # Add column of ones to X\n",
    "    augmented_x = np.concatenate((ones, input_x), axis=1)\n",
    "    \n",
    "    # Create square lambda_matrix, with size equal to number of columns in X\n",
    "    lambda_matrix = lambda_param * np.identity(min(augmented_x.shape))\n",
    "    \n",
    "    # Invert lambda + dot-prod of x and transposed x\n",
    "    inv = np.linalg.inv(lambda_matrix + np.matmul(np.transpose(augmented_x), augmented_x))\n",
    "    \n",
    "    # dot-prod of inverted matrix and transposed X\n",
    "    left_multiplier = np.matmul(inv , np.transpose(augmented_x))\n",
    "    \n",
    "    # final dot-prod with the ys\n",
    "    weights = np.matmul(left_multiplier, output_y)\n",
    "    \n",
    "    return weights\n",
    "training_y = np.array([208500, 181500, 223500, \n",
    "                                140000, 250000, 143000, \n",
    "                                307000, 200000, 129900, \n",
    "                                118000])\n",
    "                                \n",
    "training_x = np.array([[1710, 1262, 1786, \n",
    "                                1717, 2198, 1362, \n",
    "                                1694, 2090, 1774, \n",
    "                                1077], \n",
    "                               [2003, 1976, 2001, \n",
    "                                1915, 2000, 1993, \n",
    "                                2004, 1973, 1931, \n",
    "                                1939]])\n",
    "lambda_param = 10\n",
    "        \n",
    "rrw = ridge_regression_weights(training_x, training_y, lambda_param)\n",
    "        \n",
    "print(rrw) #--> np.array([-576.67947107,   77.45913349,   31.50189177])\n",
    "print(rrw[2])\n",
    "### YOUR CODE HERE\n",
    "###\n"
   ]
  },
  {
   "cell_type": "code",
   "execution_count": 21,
   "metadata": {
    "collapsed": true,
    "deletable": false,
    "editable": false,
    "nbgrader": {
     "grade": true,
     "grade_id": "Question 06",
     "locked": true,
     "points": "10",
     "solution": false
    }
   },
   "outputs": [],
   "source": [
    "###\n",
    "### AUTOGRADER TEST - DO NOT REMOVE\n",
    "###\n"
   ]
  },
  {
   "cell_type": "markdown",
   "metadata": {
    "deletable": false,
    "editable": false,
    "nbgrader": {
     "grade": false,
     "locked": true,
     "solution": false
    }
   },
   "source": [
    "### Selecting the $\\lambda$ parameter\n",
    "\n",
    "For our final function before looking at the `sklearn` implementation of ridge regression, we will create a hyperparameter tuning algorithm.  \n",
    "\n",
    "In ridge regression, we must pick a value for $\\lambda$. We have some intuition about $\\lambda$ from the equations that define it: small values tend to emulate the results from Least Squares, while large values will reduce the dimensionality of the problem. But the choice of $\\lambda$ can be motivated with a more precise quantitative treatment.\n",
    "\n",
    "Eventually, we will look to choose the value of $\\lambda$ that minimizes the validation error, which we will determine using $k$-fold cross-validation.\n",
    "\n",
    "For this example, we will solve a simpler problem on finding a value that minimizes the list returned by the function."
   ]
  },
  {
   "cell_type": "code",
   "execution_count": 13,
   "metadata": {
    "collapsed": true,
    "deletable": false,
    "editable": false,
    "nbgrader": {
     "grade": false,
     "locked": true,
     "solution": false
    }
   },
   "outputs": [],
   "source": [
    "### Example of hiden function below:\n",
    "\n",
    "### `hidden` takes a single number as a parameter (int or float) and returns a list of 1000 numbers\n",
    "### the input must be between 0 and 50 exclusive\n",
    "\n",
    "def hidden(hp):\n",
    "    if (hp<=0) or (hp >= 50):\n",
    "        print(\"input out of bounds\")\n",
    "    \n",
    "    nums = np.logspace(0,5,num = 1000)\n",
    "    vals = nums** 43.123985172351235134687934\n",
    "    \n",
    "    user_vals = nums** hp\n",
    "    \n",
    "    return vals-user_vals"
   ]
  },
  {
   "cell_type": "code",
   "execution_count": 17,
   "metadata": {},
   "outputs": [
    {
     "data": {
      "text/plain": [
       "array([ 0.00000000e+000, -1.15166606e-001, -3.91873562e-001,\n",
       "       -1.00044318e+000, -2.27118222e+000, -4.83557539e+000,\n",
       "       -9.88736530e+000, -1.96626994e+001, -3.83190704e+001,\n",
       "       -7.35378477e+001, -1.39435947e+002, -2.61840006e+002,\n",
       "       -4.87814360e+002, -9.02832786e+002, -1.66166074e+003,\n",
       "       -3.04379005e+003, -5.55277736e+003, -1.00939859e+004,\n",
       "       -1.82921725e+004, -3.30582388e+004, -5.95994854e+004,\n",
       "       -1.07218565e+005, -1.92513855e+005, -3.45068095e+005,\n",
       "       -6.17551935e+005, -1.10365585e+006, -1.96989493e+006,\n",
       "       -3.51198471e+006, -6.25471512e+006, -1.11287927e+007,\n",
       "       -1.97838191e+007, -3.51419617e+007, -6.23770225e+007,\n",
       "       -1.10645098e+008, -1.96142736e+008, -3.47509110e+008,\n",
       "       -6.15366005e+008, -1.08916035e+009, -1.92689157e+009,\n",
       "       -3.40756830e+009, -6.02375301e+009, -1.06447964e+010,\n",
       "       -1.88047031e+010, -3.32096958e+010, -5.86330047e+010,\n",
       "       -1.03492058e+011, -1.82628102e+011, -3.22204322e+011,\n",
       "       -5.68336016e+011, -1.00229467e+012, -1.76729062e+012,\n",
       "       -3.11564720e+012, -5.49188416e+012, -9.67903192e+012,\n",
       "       -1.70562779e+013, -3.00526246e+013, -5.29456245e+013,\n",
       "       -9.32675840e+013, -1.64281089e+014, -2.89336747e+014,\n",
       "       -5.09543855e+014, -8.97271907e+014, -1.57991419e+015,\n",
       "       -2.78171152e+015, -4.89735870e+015, -8.62154123e+015,\n",
       "       -1.51768930e+016, -2.67151418e+016, -4.70229969e+016,\n",
       "       -8.27642509e+016, -1.45665362e+017, -2.56361076e+017,\n",
       "       -4.51160782e+017, -7.93953671e+017, -1.39715494e+018,\n",
       "       -2.45855838e+018, -4.32617334e+018, -7.61229445e+018,\n",
       "       -1.33941848e+019, -2.35671337e+019, -4.14655748e+019,\n",
       "       -7.29557781e+019, -1.28358125e+020, -2.25828761e+020,\n",
       "       -3.97308511e+020, -6.98987960e+020, -1.22971700e+021,\n",
       "       -2.16338959e+021, -3.80591215e+021, -6.69541670e+021,\n",
       "       -1.17785446e+022, -2.07205434e+022, -3.64507470e+022,\n",
       "       -6.41221071e+022, -1.12799054e+023, -1.98426509e+023,\n",
       "       -3.49052468e+023, -6.14014650e+023, -1.08009996e+024,\n",
       "       -1.89996913e+024, -3.34215579e+024, -5.87901474e+024,\n",
       "       -1.03414222e+025, -1.81908919e+025, -3.19982223e+025,\n",
       "       -5.62854270e+025, -9.90066690e+025, -1.74153181e+026,\n",
       "       -3.06335232e+026, -5.38841651e+026, -9.47816193e+026,\n",
       "       -1.66719320e+027, -2.93255827e+027, -5.15829716e+027,\n",
       "       -9.07329679e+027, -1.59596363e+028, -2.80724320e+028,\n",
       "       -4.93783203e+028, -8.68544079e+028, -1.52773047e+029,\n",
       "       -2.68720616e+029, -4.72666304e+029, -8.31395651e+029,\n",
       "       -1.46238034e+030, -2.57224569e+030, -4.52443245e+030,\n",
       "       -7.95820915e+030, -1.39980067e+031, -2.46216230e+031,\n",
       "       -4.33078690e+031, -7.61757311e+031, -1.33988075e+032,\n",
       "       -2.35676016e+032, -4.14538015e+032, -7.29143647e+032,\n",
       "       -1.28251248e+033, -2.25584830e+033, -3.96787500e+033,\n",
       "       -6.97920390e+033, -1.22759078e+034, -2.15924133e+034,\n",
       "       -3.79794439e+034, -6.68029859e+034, -1.17501393e+035,\n",
       "       -2.06675993e+035, -3.63527218e+035, -6.39416333e+035,\n",
       "       -1.12468374e+036, -1.97823104e+036, -3.47955352e+036,\n",
       "       -6.12026104e+036, -1.07650560e+037, -1.89348805e+037,\n",
       "       -3.33049494e+037, -5.85807494e+037, -1.03038851e+038,\n",
       "       -1.81237073e+038, -3.18781434e+038, -5.60710839e+038,\n",
       "       -9.86245055e+038, -1.73472518e+039, -3.05124084e+039,\n",
       "       -5.36688460e+039, -9.43991300e+039, -1.66040371e+040,\n",
       "       -2.92051450e+040, -5.13694613e+040, -9.03546754e+040,\n",
       "       -1.58926465e+041, -2.79538606e+041, -4.91685436e+041,\n",
       "       -8.64834238e+041, -1.52117222e+042, -2.67561659e+042,\n",
       "       -4.70618892e+042, -8.27779791e+042, -1.45599629e+043,\n",
       "       -2.56097714e+043, -4.50454702e+043, -7.92312551e+043,\n",
       "       -1.39361219e+044, -2.45124841e+044, -4.31154284e+044,\n",
       "       -7.58364644e+044, -1.33390052e+045, -2.34622034e+045,\n",
       "       -4.12680687e+045, -7.25871067e+045, -1.27674693e+046,\n",
       "       -2.24569179e+046, -3.94998526e+046, -6.94769577e+046,\n",
       "       -1.22204193e+047, -2.14947014e+047, -3.78073921e+047,\n",
       "       -6.65000579e+047, -1.16968069e+048, -2.05737100e+048,\n",
       "       -3.61874437e+048, -6.36507014e+048, -1.11956285e+049,\n",
       "       -1.96921784e+049, -3.46369021e+049, -6.09234263e+049,\n",
       "       -1.07159233e+050, -1.88484165e+050, -3.31527944e+050,\n",
       "       -5.83130035e+050, -1.02567715e+051, -1.80408064e+051,\n",
       "       -3.17322752e+051, -5.58144277e+051, -9.81729269e+051,\n",
       "       -1.72677996e+052, -3.03726203e+052, -5.34229076e+052,\n",
       "       -9.39664414e+052, -1.65279138e+053, -2.90712225e+053,\n",
       "       -5.11338568e+053, -8.99401913e+053, -1.58197298e+054,\n",
       "       -2.78255858e+054, -4.89428854e+054, -8.60864547e+054,\n",
       "       -1.51418896e+055, -2.66333212e+055, -4.68457913e+055,\n",
       "       -8.23978406e+055, -1.44930931e+056, -2.54921422e+056,\n",
       "       -4.48385523e+056, -7.88672743e+056, -1.38720959e+057,\n",
       "       -2.43998598e+057, -4.29173185e+057, -7.54879842e+057,\n",
       "       -1.32777069e+058, -2.33543791e+058, -4.10784051e+058,\n",
       "       -7.22534886e+058, -1.27087861e+059, -2.23536948e+059,\n",
       "       -3.93182848e+059, -6.91575837e+059, -1.21642422e+060,\n",
       "       -2.13958875e+060, -3.76335816e+060, -6.61943312e+060,\n",
       "       -1.16430308e+061, -2.04791201e+061, -3.60210641e+061,\n",
       "       -6.33580475e+061, -1.11441521e+062, -1.96016341e+062,\n",
       "       -3.44776395e+062, -6.06432922e+062, -1.06666493e+063,\n",
       "       -1.87617464e+063, -3.30003471e+063, -5.80448581e+063,\n",
       "       -1.02096064e+064, -1.79578461e+064, -3.15863535e+064,\n",
       "       -5.55577613e+064, -9.77214681e+064, -1.71883912e+065,\n",
       "       -3.02329464e+065, -5.31772311e+065, -9.35343141e+065,\n",
       "       -1.64519057e+066, -2.89375299e+066, -5.08987014e+066,\n",
       "       -8.95265704e+066, -1.57469770e+067, -2.76976191e+067,\n",
       "       -4.87178018e+067, -8.56905499e+067, -1.50722530e+068,\n",
       "       -2.65108359e+068, -4.66303490e+068, -8.20188945e+068,\n",
       "       -1.44264394e+069, -2.53749037e+069, -4.46323391e+069,\n",
       "       -7.85045617e+069, -1.38082976e+070, -2.42876437e+070,\n",
       "       -4.27199395e+070, -7.51408104e+070, -1.32166418e+071,\n",
       "       -2.32469705e+071, -4.08894822e+071, -7.19211885e+071,\n",
       "       -1.26503372e+072, -2.22508879e+072, -3.91374559e+072,\n",
       "       -6.88395206e+072, -1.21082975e+073, -2.12974853e+073,\n",
       "       -3.74605003e+073, -6.58898954e+073, -1.15894830e+074,\n",
       "       -2.03849340e+074, -3.58553985e+074, -6.30666553e+074,\n",
       "       -1.10928986e+075, -1.95114835e+075, -3.43190719e+075,\n",
       "       -6.03643850e+075, -1.06175918e+076, -1.86754584e+076,\n",
       "       -3.28485736e+076, -5.77779011e+076, -1.01626509e+077,\n",
       "       -1.78752552e+077, -3.14410830e+077, -5.53022425e+077,\n",
       "       -9.72720319e+077, -1.71093391e+078, -3.00939003e+078,\n",
       "       -5.29326606e+078, -9.31041348e+078, -1.63762407e+079,\n",
       "       -2.88044415e+079, -5.06646101e+079, -8.91148232e+079,\n",
       "       -1.56745541e+080, -2.75702332e+080, -4.84937407e+080,\n",
       "       -8.52964450e+080, -1.50029332e+081, -2.63889081e+081,\n",
       "       -4.64158883e+081, -8.16416760e+081, -1.43600898e+082,\n",
       "       -2.52582003e+082, -4.44270675e+082, -7.81435061e+082,\n",
       "       -1.37447909e+083, -2.41759408e+083, -4.25234633e+083,\n",
       "       -7.47952251e+083, -1.31558562e+084, -2.31400538e+084,\n",
       "       -4.07014245e+084, -7.15904109e+084, -1.25921561e+085,\n",
       "       -2.21485523e+085, -3.89574562e+085, -6.85229159e+085,\n",
       "       -1.20526094e+086, -2.11995346e+086, -3.72882131e+086,\n",
       "       -6.55868566e+086, -1.15361810e+087, -2.02911802e+087,\n",
       "       -3.56904935e+087, -6.27766011e+087, -1.10418805e+088,\n",
       "       -1.94217468e+088, -3.41612327e+088, -6.00867589e+088,\n",
       "       -1.05687597e+089, -1.85895668e+089, -3.26974974e+089,\n",
       "       -5.75121707e+089, -1.01159111e+090, -1.77930439e+090,\n",
       "       -3.12964801e+090, -5.50478981e+090, -9.68246612e+090,\n",
       "       -1.70306503e+091, -2.99554933e+091, -5.26892142e+091,\n",
       "       -9.26759330e+091, -1.63009236e+092, -2.86719650e+092,\n",
       "       -5.04315949e+092, -8.87049689e+092, -1.56024641e+093,\n",
       "       -2.74434330e+093, -4.82707097e+093, -8.49041520e+093,\n",
       "       -1.49339322e+094, -2.62675410e+094, -4.62024137e+094,\n",
       "       -8.12661920e+094, -1.42940453e+095, -2.51420335e+095,\n",
       "       -4.42227398e+095, -7.77841107e+095, -1.36815763e+096,\n",
       "       -2.40647515e+096, -4.23278907e+096, -7.44512291e+096,\n",
       "       -1.30953502e+097, -2.30336287e+097, -4.05142317e+097,\n",
       "       -7.12611543e+097, -1.25342427e+098, -2.20466874e+098,\n",
       "       -3.87782841e+098, -6.82077673e+098, -1.19971774e+099,\n",
       "       -2.11020343e+099, -3.71167182e+099, -6.52852114e+099,\n",
       "       -1.14831241e+100, -2.01978576e+100, -3.55263468e+100,\n",
       "       -6.24878807e+100, -1.09910970e+101, -1.93324229e+101,\n",
       "       -3.40041193e+101, -5.98104096e+101, -1.05201522e+102,\n",
       "       -1.85040702e+102, -3.25471161e+102, -5.72476624e+102,\n",
       "       -1.00693863e+103, -1.77112106e+103, -3.11525422e+103,\n",
       "       -5.47947234e+103, -9.63793480e+103, -1.69523234e+104,\n",
       "       -2.98177229e+104, -5.24468875e+104, -9.22497005e+104,\n",
       "       -1.62259529e+105, -2.85400977e+105, -5.01996513e+105,\n",
       "       -8.82969996e+105, -1.55307057e+106, -2.73172160e+106,\n",
       "       -4.80487044e+106, -8.45136633e+106, -1.48652484e+107,\n",
       "       -2.61467321e+107, -4.59899209e+107, -8.08924349e+107,\n",
       "       -1.42283046e+108, -2.50264010e+108, -4.40193519e+108,\n",
       "       -7.74263683e+108, -1.36186524e+109, -2.39540736e+109,\n",
       "       -4.21332174e+109, -7.41088152e+109, -1.30351224e+110,\n",
       "       -2.29276931e+110, -4.03278998e+110, -7.09334120e+110,\n",
       "       -1.24765955e+111, -2.19452909e+111, -3.85999362e+111,\n",
       "       -6.78940681e+111, -1.19420003e+112, -2.10049824e+112,\n",
       "       -3.69460121e+112, -6.49849535e+112, -1.14303113e+113,\n",
       "       -2.01049642e+113, -3.53629550e+113, -6.22004883e+113,\n",
       "       -1.09405471e+114, -1.92435098e+114, -3.38477286e+114,\n",
       "       -5.95353313e+114, -1.04717682e+115, -1.84189668e+115,\n",
       "       -3.23974263e+115, -5.69843706e+115, -1.00230755e+116,\n",
       "       -1.76297538e+116, -3.10092664e+116, -5.45427131e+116,\n",
       "       -9.59360829e+116, -1.68743568e+117, -2.96805861e+117,\n",
       "       -5.22056753e+117, -9.18254284e+117, -1.61513269e+118,\n",
       "       -2.84088369e+118, -4.99687745e+118, -8.78909065e+118,\n",
       "       -1.54592774e+119, -2.71915794e+119, -4.78277202e+119,\n",
       "       -8.41249705e+119, -1.47968806e+120, -2.60264788e+120,\n",
       "       -4.57784054e+120, -8.05203967e+120, -1.41628662e+121,\n",
       "       -2.49113003e+121, -4.38168993e+121, -7.70702711e+121,\n",
       "       -1.35560179e+122, -2.38439047e+122, -4.19394396e+122,\n",
       "       -7.37679760e+122, -1.29751717e+123, -2.28222447e+123,\n",
       "       -4.01424249e+123, -7.06071771e+123, -1.24192135e+124,\n",
       "       -2.18443607e+124, -3.84224085e+124, -6.75818117e+124,\n",
       "       -1.18870770e+125, -2.09083769e+125, -3.67760910e+125,\n",
       "       -6.46860766e+125, -1.13777413e+126, -2.00124980e+126,\n",
       "       -3.52003147e+126, -6.19144176e+126, -1.08902296e+127,\n",
       "       -1.91550056e+127, -3.36920571e+127, -5.92615181e+127,\n",
       "       -1.04236067e+128, -1.83342548e+128, -3.22484250e+128,\n",
       "       -5.67222897e+128, -9.97697764e+128, -1.75486715e+129,\n",
       "       -3.08666494e+129, -5.42918618e+129, -9.54948564e+129,\n",
       "       -1.67967487e+130, -2.95440800e+130, -5.19655724e+130,\n",
       "       -9.14031075e+130, -1.60770442e+131, -2.82781798e+131,\n",
       "       -4.97389596e+131, -8.74866812e+131, -1.53881775e+132,\n",
       "       -2.70665207e+132, -4.76077523e+132, -8.37380654e+132,\n",
       "       -1.47288272e+133, -2.59067786e+133, -4.55678627e+133,\n",
       "       -8.01500696e+133, -1.40977287e+134, -2.47967289e+134,\n",
       "       -4.36153779e+134, -7.67158118e+134, -1.34936714e+135,\n",
       "       -2.37342425e+135, -4.17465529e+135, -7.34287045e+135,\n",
       "       -1.29154967e+136, -2.27172813e+136, -3.99578030e+136,\n",
       "       -7.02824426e+136, -1.23620954e+137, -2.17438948e+137,\n",
       "       -3.82456972e+137, -6.72709914e+137, -1.18324063e+138,\n",
       "       -2.08122157e+138, -3.66069515e+138, -6.43885743e+138,\n",
       "       -1.13254132e+139, -1.99204571e+139, -3.50384225e+139,\n",
       "       -6.16296626e+139, -1.08401436e+140, -1.90669084e+140,\n",
       "       -3.35371015e+140, -5.89889643e+140, -1.03756668e+141,\n",
       "       -1.82499324e+141, -3.21001090e+141, -5.64614142e+141,\n",
       "       -9.93109181e+141, -1.74679622e+142, -3.07246884e+142,\n",
       "       -5.40421642e+142, -9.50556592e+142, -1.67194976e+143,\n",
       "       -2.94082017e+143, -5.17265739e+143, -9.09827289e+143,\n",
       "       -1.60031031e+144, -2.81481236e+144, -4.95102016e+144,\n",
       "       -8.70843150e+144, -1.53174046e+145, -2.69420371e+145,\n",
       "       -4.73887961e+145, -8.33529397e+145, -1.46610868e+146,\n",
       "       -2.57876289e+146, -4.53582883e+146, -7.97814457e+146,\n",
       "       -1.40328908e+147, -2.46826845e+147, -4.34147833e+147,\n",
       "       -7.63629826e+147, -1.34316117e+148, -2.36250847e+148,\n",
       "       -4.15545533e+148, -7.30909933e+148, -1.28560961e+149,\n",
       "       -2.26128007e+149, -3.97740302e+149, -6.99592017e+149,\n",
       "       -1.23052400e+150, -2.16438909e+150, -3.80697987e+150,\n",
       "       -6.69616005e+150, -1.17779870e+151, -2.07164968e+151,\n",
       "       -3.64385898e+151, -6.40924402e+151, -1.12733256e+152,\n",
       "       -1.98288395e+152, -3.48772747e+152, -6.13462172e+152,\n",
       "       -1.07902879e+153, -1.89792164e+153, -3.33828586e+153,\n",
       "       -5.87176639e+153, -1.03279473e+154, -1.81659979e+154,\n",
       "       -3.19524751e+154, -5.62017385e+154, -9.88541702e+154,\n",
       "       -1.73876240e+155, -3.05833803e+155, -5.37936150e+155,\n",
       "       -9.46184819e+155, -1.66426018e+156, -2.92729484e+156,\n",
       "       -5.14886745e+156, -9.05642838e+156, -1.59295021e+157,\n",
       "       -2.80186656e+157, -4.92824957e+157, -8.66837993e+157,\n",
       "       -1.52469573e+158, -2.68181261e+158, -4.71708469e+158,\n",
       "       -8.29695852e+158, -1.45936580e+159, -2.56690272e+159,\n",
       "       -4.51496777e+159, -7.94145172e+159, -1.39683512e+160,\n",
       "       -2.45691646e+160, -4.32151113e+160, -7.60117762e+160,\n",
       "       -1.33698374e+161, -2.35164288e+161, -4.13634368e+161,\n",
       "       -7.27548353e+161, -1.27969687e+162, -2.25088005e+162,\n",
       "       -3.95911027e+162, -6.96374473e+162, -1.22486461e+163,\n",
       "       -2.15443469e+163, -3.78947092e+163, -6.66536327e+163,\n",
       "       -1.17238180e+164, -2.06212180e+164, -3.62710025e+164,\n",
       "       -6.37976681e+164, -1.12214777e+165, -1.97376433e+165,\n",
       "       -3.47168682e+165, -6.10640754e+165, -1.07406615e+166,\n",
       "       -1.88919278e+166, -3.32293252e+166, -5.84476113e+166,\n",
       "       -1.02804473e+167, -1.80824493e+167, -3.18055202e+167,\n",
       "       -5.59432571e+167, -9.83995230e+167, -1.73076553e+168,\n",
       "       -3.04427221e+168, -5.35462090e+168, -9.41833153e+168,\n",
       "       -1.65660596e+169, -2.91383170e+169, -5.12518693e+169,\n",
       "       -9.01477631e+169, -1.58562396e+170, -2.78898029e+170,\n",
       "       -4.90558371e+170, -8.62851257e+170, -1.51768339e+171,\n",
       "       -2.66947849e+171, -4.69539001e+171, -8.25879939e+171,\n",
       "       -1.45265393e+172, -2.55509709e+172, -4.49420266e+172,\n",
       "       -7.90492762e+172, -1.39041083e+173, -2.44561668e+173,\n",
       "       -4.30163576e+173, -7.56621850e+173, -1.33083472e+174,\n",
       "       -2.34082728e+174, -4.11731993e+174, -7.24202233e+174,\n",
       "       -1.27381132e+175, -2.24052787e+175, -3.94090164e+175,\n",
       "       -6.93171728e+175, -1.21923125e+176, -2.14452608e+176,\n",
       "       -3.77204249e+176, -6.63470812e+176, -1.16698982e+177,\n",
       "       -2.05263775e+177, -3.61041860e+177, -6.35042517e+177,\n",
       "       -1.11698682e+178, -1.96468665e+178, -3.45571994e+178,\n",
       "       -6.07832313e+178, -1.06912634e+179, -1.88050406e+179,\n",
       "       -3.30764978e+179, -5.81788007e+179, -1.02331658e+180,\n",
       "       -1.79992851e+180, -3.16592411e+180, -5.56859644e+180,\n",
       "       -9.79469667e+180, -1.72280545e+181, -3.03027108e+181,\n",
       "       -5.32999408e+181, -9.37501502e+181, -1.64898694e+182,\n",
       "       -2.90043049e+182, -5.10161531e+182, -8.97331581e+182,\n",
       "       -1.57833141e+183, -2.77615329e+183, -4.88302209e+183,\n",
       "       -8.58882856e+183, -1.51070330e+184, -2.65720111e+184,\n",
       "       -4.67379511e+184, -8.22081576e+184, -1.44597292e+185,\n",
       "       -2.54334576e+185, -4.47353305e+185, -7.86857151e+185,\n",
       "       -1.38401610e+186, -2.43436887e+186, -4.28185180e+186,\n",
       "       -7.53142017e+186, -1.32471399e+187, -2.33006141e+187,\n",
       "       -4.09838367e+187, -7.20871503e+187, -1.26795285e+188,\n",
       "       -2.23022330e+188, -3.92277676e+188, -6.89983712e+188,\n",
       "       -1.21362380e+189, -2.13466303e+189, -3.75469422e+189,\n",
       "       -6.60419396e+189, -1.16162263e+190, -2.04319732e+190,\n",
       "       -3.59381366e+190, -6.32121848e+190, -1.11184960e+191,\n",
       "       -1.95565072e+191, -3.43982649e+191, -6.05036788e+191,\n",
       "       -1.06420924e+192, -1.87185529e+192, -3.29243733e+192,\n",
       "       -5.79112265e+192, -1.01861017e+193, -1.79165033e+193,\n",
       "       -3.15136348e+193, -5.54298552e+193, -9.74964918e+193,\n",
       "       -1.71488197e+194, -3.01633435e+194, -5.30548053e+194,\n",
       "       -9.33189772e+194, -1.64140297e+195, -2.88709092e+195,\n",
       "       -5.07815211e+195, -8.93204600e+195, -1.57107239e+196,\n",
       "       -2.76338529e+196, -4.86056423e+196, -8.54932707e+196,\n",
       "       -1.50375532e+197, -2.64498018e+197, -4.65229952e+197,\n",
       "       -8.18300682e+197, -1.43932264e+198, -2.53164848e+198,\n",
       "       -4.45295851e+198, -7.83238260e+198, -1.37765077e+199,\n",
       "       -2.42317279e+199, -4.26215883e+199, -7.49678187e+199,\n",
       "       -1.31862140e+200, -2.31934506e+200, -4.07953450e+200,\n",
       "       -7.17556092e+200, -1.26212131e+201, -2.21996612e+201,\n",
       "       -3.90473524e+201, -6.86810359e+201, -1.20804213e+202,\n",
       "       -2.12484535e+202, -3.73742574e+202, -6.57382014e+202,\n",
       "       -1.15628013e+203, -2.03380031e+203, -3.57728510e+203,\n",
       "       -6.29214611e+203, -1.10673602e+204, -1.94665634e+204,\n",
       "       -3.42400614e+204, -6.02254120e+204, -1.05931476e+205,\n",
       "       -1.86324631e+205, -3.27729485e+205, -5.76448828e+205,\n",
       "       -1.01392541e+206, -1.78341022e+206, -3.13686982e+206,\n",
       "       -5.51749238e+206, -9.70480888e+206, -1.70699493e+207,\n",
       "       -3.00246171e+207, -5.28107971e+207, -9.28897872e+207,\n",
       "       -1.63385388e+208, -2.87381269e+208, -5.05479682e+208,\n",
       "       -8.89096599e+208, -1.56384676e+209, -2.75067601e+209,\n",
       "       -4.83820966e+209, -8.51000725e+209, -1.49683929e+210,\n",
       "       -2.63281547e+210, -4.63090280e+210, -8.14537177e+210,\n",
       "       -1.43270295e+211, -2.52000499e+211, -4.43247859e+211,\n",
       "       -7.79636013e+211, -1.37131472e+212, -2.41202821e+212,\n",
       "       -4.24255643e+212, -7.46230289e+212, -1.31255684e+213,\n",
       "       -2.30867799e+213, -4.06077203e+213, -7.14255929e+213,\n",
       "       -1.25631660e+214, -2.20975611e+214, -3.88677669e+214,\n",
       "       -6.83651600e+214, -1.20248614e+215, -2.11507282e+215,\n",
       "       -3.72023668e+215, -6.54358602e+215, -1.15096220e+216,\n",
       "       -2.02444651e+216, -3.56083255e+216, -6.26320745e+216,\n",
       "       -1.10164595e+217, -1.93770334e+217, -3.40825855e+217,\n",
       "       -5.99484250e+217, -1.05444279e+218, -1.85467692e+218,\n",
       "       -3.26222201e+218, -5.73797641e+218, -1.00926219e+219,\n",
       "       -1.77520801e+219, -3.12244282e+219, -5.49211648e+219,\n",
       "       -9.66017480e+219, -1.69914417e+220, -2.98865287e+220,\n",
       "       -5.25679112e+220, -9.24625712e+220, -1.62633950e+221,\n",
       "       -2.86059554e+221, -5.03154895e+221, -8.85007491e+221,\n",
       "       -1.55665436e+222, -2.73802518e+222, -4.81595791e+222,\n",
       "       -8.47086827e+222, -1.48995507e+223, -2.62070670e+223,\n",
       "       -4.60960449e+223, -8.10790981e+223, -1.42611371e+224,\n",
       "       -2.50841506e+224, -4.41209286e+224, -7.76050334e+224,\n",
       "       -1.36500781e+225, -2.40093488e+225, -4.22304419e+225,\n",
       "       -7.42798248e+225, -1.30652016e+226, -2.29805999e+226,\n",
       "       -4.04209584e+226, -7.10970943e+226, -1.25053859e+227,\n",
       "       -2.19959307e+227, -3.86890074e+227, -6.80507370e+227,\n",
       "       -1.19695570e+228, -2.10534524e+228, -3.70312668e+228,\n",
       "       -6.51349095e+228, -1.14566873e+229, -2.01513573e+229,\n",
       "       -3.54445567e+229, -6.23440189e+229, -1.09657929e+230,\n",
       "       -1.92879151e+230, -3.39258338e+230, -5.96727120e+230,\n",
       "       -1.04959323e+231, -1.84614695e+231, -3.24721849e+231,\n",
       "       -5.71158648e+231, -1.00462042e+232, -1.76704353e+232,\n",
       "       -3.10808217e+232, -5.46685730e+232, -9.61574600e+232,\n",
       "       -1.69132952e+233, -2.97490755e+233, -5.23261424e+233,\n",
       "       -9.20373200e+233, -1.61885969e+234, -2.84743917e+234,\n",
       "       -5.00840799e+234, -8.80937190e+234, -1.54949504e+235,\n",
       "       -2.72543253e+235, -4.79380850e+235, -8.43190929e+235,\n",
       "       -1.48310251e+236, -2.60865362e+236, -4.58840413e+236,\n",
       "       -8.07062014e+236, -1.41955477e+237, -2.49687843e+237,\n",
       "       -4.39180089e+237, -7.72481145e+237, -1.35872990e+238,\n",
       "       -2.38989257e+238, -4.20362168e+238, -7.39381992e+238,\n",
       "       -1.30051125e+239, -2.28749082e+239, -4.02350555e+239,\n",
       "       -7.07701066e+239, -1.24478715e+240, -2.18947676e+240,\n",
       "       -3.85110700e+240, -6.77377600e+240, -1.19145070e+241,\n",
       "       -2.09566240e+241, -3.68609536e+241, -6.48353429e+241,\n",
       "       -1.14039960e+242, -2.00586778e+242, -3.52815412e+242,\n",
       "       -6.20572881e+242, -1.09153594e+243, -1.91992067e+243,\n",
       "       -3.37698031e+243, -5.93982669e+243, -1.04476597e+244,\n",
       "       -1.83765620e+244, -3.23228398e+244, -5.68531791e+244,\n",
       "       -1.00000000e+245])"
      ]
     },
     "execution_count": 17,
     "metadata": {},
     "output_type": "execute_result"
    }
   ],
   "source": [
    "hidden(49)"
   ]
  },
  {
   "cell_type": "markdown",
   "metadata": {
    "deletable": false,
    "editable": false,
    "nbgrader": {
     "grade": false,
     "locked": true,
     "solution": false
    }
   },
   "source": [
    "Run the above cell and test out the functionality of `hidden`. Remember, it takes a single number between 0 and 50 as an argument.\n",
    "[Back to top](#Index:) \n",
    "<a id='q7'></a>\n",
    "\n",
    "### Question 7:\n",
    "\n",
    "*10 points*\n",
    "\n",
    "Code a function called \"minimize\" that takes, as input, a function.\n",
    "\n",
    "That function will be similar to `hidden` created above and available for your exploration. Like 'hidden', the passed function will take a single argument, a number between 0 and 50 exclusive and then, the function will return a numpy array of 1000 numbers.\n",
    "\n",
    "Your function should return the value that makes the mean of the array returned by 'passed_func' as close to 0 as possible\n",
    "\n",
    "Note, you will almost certainly NOT be able to find the number that makes the mean exactly 0"
   ]
  },
  {
   "cell_type": "code",
   "execution_count": 22,
   "metadata": {
    "collapsed": true
   },
   "outputs": [],
   "source": [
    "### GRADED\n",
    "\n",
    "### YOUR ANSWER BELOW\n",
    "\n",
    "def minimize( passed_func):\n",
    "    \"\"\"\n",
    "    Find the numeric value that makes the mean of the\n",
    "    output array returned from 'passed_func' as close to 0 as possible.\n",
    "    \n",
    "    Positional Argument:\n",
    "        passed_func -- a function that takes a single number (between 0 and 50 exclusive)\n",
    "            as input, and returns a list of 1000 floats.\n",
    "        \n",
    "    Example:\n",
    "        passed_func = hidden\n",
    "        min_hidden = minimize(passed_func)\n",
    "        print(round(min_hidden,4))\n",
    "        #--> 43.1204 (answers will vary slightly, must be close to 43.123985172351)\n",
    "    \n",
    "    \"\"\"\n",
    "    # Create values to test\n",
    "    test_vals = list(np.linspace(.1,49.9, 1000))\n",
    "\n",
    "    # Find mean of returned array from function\n",
    "    ret_vals = [abs(np.mean(passed_func(x))) for x in test_vals]\n",
    "\n",
    "    # Find smallest mean\n",
    "    min_mean = min(ret_vals)\n",
    "\n",
    "    # Return the test value that creates the smallest mean\n",
    "    return test_vals[ret_vals.index(min_mean)]\n",
    "\n",
    "###\n",
    "### YOUR CODE HERE\n",
    "###\n"
   ]
  },
  {
   "cell_type": "code",
   "execution_count": null,
   "metadata": {
    "collapsed": true,
    "deletable": false,
    "editable": false,
    "nbgrader": {
     "grade": true,
     "grade_id": "Question 07",
     "locked": true,
     "points": "10",
     "solution": false
    }
   },
   "outputs": [],
   "source": [
    "###\n",
    "### AUTOGRADER TEST - DO NOT REMOVE\n",
    "###\n"
   ]
  },
  {
   "cell_type": "markdown",
   "metadata": {
    "deletable": false,
    "editable": false,
    "nbgrader": {
     "grade": false,
     "locked": true,
     "solution": false
    }
   },
   "source": [
    "The above simulates hyperparameter tuning.  \n",
    "\n",
    "In the case of ridge regression, you would be searching lambda parameters to minimize the validation error.  \n",
    "\n",
    "The `hidden` function would be analogous to the model building, the returned list would be analogous to the residuals, and the mean of that list would be analogous to the validation error.  \n",
    "\n",
    "See below for an example of using the functions built above that automatically perform hyperparameter tuning using mean absolute deviation."
   ]
  },
  {
   "cell_type": "code",
   "execution_count": 23,
   "metadata": {
    "deletable": false,
    "editable": false,
    "nbgrader": {
     "grade": false,
     "locked": true,
     "solution": false
    }
   },
   "outputs": [
    {
     "data": {
      "text/plain": [
       "2.9414414414414414"
      ]
     },
     "execution_count": 23,
     "metadata": {},
     "output_type": "execute_result"
    }
   ],
   "source": [
    "def lambda_search_func(lambda_param):\n",
    "    \n",
    "    # Define X and y\n",
    "    # with preprocessing\n",
    "    df = preprocess_for_regularization(data.head(50),'SalePrice', ['GrLivArea','YearBuilt'])\n",
    "    \n",
    "    y_true = df['SalePrice'].values\n",
    "    X = df[['GrLivArea','YearBuilt']].values\n",
    "    \n",
    "    # Calculate Weights then use for predictions\n",
    "    weights = ridge_regression_weights(X, y_true, lambda_param )\n",
    "    y_pred = weights[0] + np.matmul(X,weights[1:])\n",
    "    \n",
    "    # Calculate Residuals\n",
    "    resid = y_true - y_pred\n",
    "    \n",
    "    # take absolute value to tune on mean-absolute-deviation\n",
    "    # Alternatively, could use:\n",
    "    # return resid **2-S\n",
    "    # for tuning on mean-squared-error\n",
    "    \n",
    "    return abs(resid)\n",
    "\n",
    "minimize(lambda_search_func)    # --> about 2.9414414414414414"
   ]
  },
  {
   "cell_type": "markdown",
   "metadata": {
    "deletable": false,
    "editable": false,
    "nbgrader": {
     "grade": false,
     "locked": true,
     "solution": false
    }
   },
   "source": [
    "Implementing a k-folds cross-validation strategy will come in later assignments.\n",
    "\n",
    "[Back to top](#Index:) \n",
    "<a id='q8'></a>\n",
    "\n",
    "### Question 8:\n",
    "\n",
    "*5 points*\n",
    "\n",
    "Why is cross-validation useful?\n",
    "- a) to minimize the liklihood of overfitting\n",
    "- b) Cross-validation allows us to fit on all our data\n",
    "- c) cross-validation standardizes outputs\n",
    "- d) cross-validation is not useful\n",
    "\n",
    "Assing the character associated with your choice as a string to `ans1`"
   ]
  },
  {
   "cell_type": "code",
   "execution_count": 27,
   "metadata": {
    "collapsed": true
   },
   "outputs": [],
   "source": [
    "### GRADED\n",
    "\n",
    "### YOUR ANSWER BELOW\n",
    "\n",
    "ans1 = 'a'\n",
    "\n",
    "###\n",
    "### YOUR CODE HERE\n",
    "###\n"
   ]
  },
  {
   "cell_type": "code",
   "execution_count": null,
   "metadata": {
    "collapsed": true,
    "deletable": false,
    "editable": false,
    "nbgrader": {
     "grade": true,
     "grade_id": "Question 08",
     "locked": true,
     "points": "5",
     "solution": false
    }
   },
   "outputs": [],
   "source": [
    "###\n",
    "### AUTOGRADER TEST - DO NOT REMOVE\n",
    "###\n"
   ]
  },
  {
   "cell_type": "markdown",
   "metadata": {
    "deletable": false,
    "editable": false,
    "nbgrader": {
     "grade": false,
     "locked": true,
     "solution": false
    }
   },
   "source": [
    "### Ridge Regression in `sklearn`  \n",
    "\n",
    "In the next question, we will ask you to implement Ridge regression in `sklearn`.\n",
    "\n",
    "[Back to top](#Index:) \n",
    "<a id='q9'></a>\n",
    "\n",
    "### Question 9:\n",
    "\n",
    "*10 points*\n",
    "\n",
    "Use the function `LinearRegression` from `sklearn` to instantiate the classifier `lr`.\n",
    "Use the function `Ridge` from `sklear` to instantiate the classifier `reg`. For this classifier, set the parameter `alpha=100000`. Use the `Ridge` function to instantiate another classifier, `reg0`, but, this time, set `alpha=0`.\n",
    "\n",
    "\n",
    "Define a for loop with two indices, `m` and `name`. `m` will run over the three classifiers just defined and `name` will run over the list `[\"LeastSquares\",\"Ridge alpha = 100000\",\"Ridge, alpha = 0\"]`. In each iteration of your fol loop, you should fit the \"X\" ('GrLivArea' and 'YearBuilt') and the \"y\" ('SalePrice') from `data`.\n",
    "\n",
    "Complete your for loop with the following print statement: `print(name, \"Intercept:\", m.intercept_, \"Coefs:\",m.coef_,\"\\n\")`\n",
    "\n",
    "\n",
    "**NOTE: Note, the \"alpha\" parameter defines regularization strength. Lambda is a reserved word in `Python` -- Thus \"alpha\" instead**"
   ]
  },
  {
   "cell_type": "code",
   "execution_count": 25,
   "metadata": {},
   "outputs": [
    {
     "name": "stdout",
     "output_type": "stream",
     "text": [
      "LeastSquares Intercept: -2024976.3625856352 Coefs: [  95.16733349 1045.86241944] \n",
      "\n",
      "Ridge alpha = 100000 Intercept: -1876820.7548806802 Coefs: [ 96.01060155 970.05661101] \n",
      "\n",
      "Ridge, alpha = 0 Intercept: -2024976.362585636 Coefs: [  95.16733349 1045.86241944] \n",
      "\n"
     ]
    }
   ],
   "source": [
    "### GRADED\n",
    "\n",
    "from sklearn.linear_model import Ridge, LinearRegression\n",
    "\n",
    "### YOUR ANSWER BELOW\n",
    "\n",
    "\n",
    "### Note, the \"alpha\" parameter defines regularization strength.\n",
    "### Lambda is a reserved word in `Python` -- Thus \"alpha\" instead\n",
    "\n",
    "### An alpha of 0 is equivalent to least-squares regression\n",
    "lr = LinearRegression()\n",
    "reg = Ridge(alpha = 100000)\n",
    "reg0 = Ridge(alpha = 0)\n",
    "\n",
    "# Notice how the consistent sklearn syntax may be used to easily fit many kinds of models\n",
    "for m, name in zip([lr, reg, reg0], [\"LeastSquares\",\"Ridge alpha = 100000\",\"Ridge, alpha = 0\"]):\n",
    "    \n",
    "    m.fit(data[['GrLivArea','YearBuilt']], data['SalePrice'])\n",
    "    print(name, \"Intercept:\", m.intercept_, \"Coefs:\",m.coef_,\"\\n\")\n",
    "### YOUR CODE HERE\n",
    "###\n"
   ]
  },
  {
   "cell_type": "code",
   "execution_count": 3,
   "metadata": {
    "collapsed": true,
    "deletable": false,
    "editable": false,
    "nbgrader": {
     "grade": true,
     "grade_id": "Question 09",
     "locked": true,
     "points": "10",
     "solution": false
    }
   },
   "outputs": [],
   "source": [
    "###\n",
    "### AUTOGRADER TEST - DO NOT REMOVE\n",
    "###\n"
   ]
  },
  {
   "cell_type": "markdown",
   "metadata": {
    "deletable": false,
    "editable": false,
    "nbgrader": {
     "grade": false,
     "locked": true,
     "solution": false
    }
   },
   "source": [
    "Note in the above example, an alpha of 100,000 is set for the ridge regularization. The reason an alpha value this high is required is because standardization/mean centering of our inputs did not occur, and instead of working with inputs on the order of [-4,4] we are on the interval of [0,2000].  \n",
    "\n",
    "[Back to top](#Index:) \n",
    "<a id='q10'></a>\n",
    "\n",
    "### Question 10:\n",
    "\n",
    "*5 points*\n",
    "\n",
    "Above, the coefficent around 95/96 corresponds with:\n",
    "- a) Living Area\n",
    "- b) Year Built\n",
    "- c) Sale Price\n",
    "Assign character associated with your choice as string to `ans2`."
   ]
  },
  {
   "cell_type": "code",
   "execution_count": 26,
   "metadata": {
    "collapsed": true
   },
   "outputs": [],
   "source": [
    "### GRADED\n",
    "\n",
    "### YOUR ANSWER BELOW\n",
    "\n",
    "ans2 = 'a'\n",
    "\n",
    "###\n",
    "### YOUR CODE HERE\n",
    "###\n"
   ]
  },
  {
   "cell_type": "code",
   "execution_count": 2,
   "metadata": {
    "collapsed": true,
    "deletable": false,
    "editable": false,
    "nbgrader": {
     "grade": true,
     "grade_id": "Question 10",
     "locked": true,
     "points": "5",
     "solution": false
    }
   },
   "outputs": [],
   "source": [
    "###\n",
    "### AUTOGRADER TEST - DO NOT REMOVE\n",
    "###\n"
   ]
  },
  {
   "cell_type": "markdown",
   "metadata": {
    "deletable": false,
    "editable": false,
    "nbgrader": {
     "grade": false,
     "locked": true,
     "solution": false
    }
   },
   "source": [
    "[Back to top](#Index:) \n",
    "<a id='q11'></a>\n",
    "\n",
    "### Question 11:\n",
    "\n",
    "*5 points*\n",
    "\n",
    "True or False:\n",
    "\n",
    " A larger \"alpha\" corresponds to a greater amount of regularization\n",
    "\n",
    "Assign boolean choice to `ans3`"
   ]
  },
  {
   "cell_type": "code",
   "execution_count": 1,
   "metadata": {
    "collapsed": true
   },
   "outputs": [],
   "source": [
    "### GRADED\n",
    "\n",
    "### YOUR SOLUTION HERE\n",
    "ans3 = True\n",
    "\n",
    "###\n",
    "### YOUR CODE HERE\n",
    "###\n"
   ]
  },
  {
   "cell_type": "code",
   "execution_count": null,
   "metadata": {
    "collapsed": true,
    "deletable": false,
    "editable": false,
    "nbgrader": {
     "grade": true,
     "grade_id": "Question 11",
     "locked": true,
     "points": "5",
     "solution": false
    }
   },
   "outputs": [],
   "source": [
    "###\n",
    "### AUTOGRADER TEST - DO NOT REMOVE\n",
    "###\n"
   ]
  }
 ],
 "metadata": {
  "kernelspec": {
   "display_name": "Python 3 [3.7]",
   "language": "python",
   "name": "python3"
  },
  "language_info": {
   "codemirror_mode": {
    "name": "ipython",
    "version": 3
   },
   "file_extension": ".py",
   "mimetype": "text/x-python",
   "name": "python",
   "nbconvert_exporter": "python",
   "pygments_lexer": "ipython3",
   "version": "3.7.5"
  }
 },
 "nbformat": 4,
 "nbformat_minor": 2
}
