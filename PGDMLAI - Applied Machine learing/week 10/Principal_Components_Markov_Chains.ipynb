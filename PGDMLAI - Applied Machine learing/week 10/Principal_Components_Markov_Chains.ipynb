{
 "cells": [
  {
   "cell_type": "markdown",
   "metadata": {},
   "source": [
    "# Principal Component Analysis and Markov Chains\n",
    "\n",
    "\n",
    "**Author: Jessica Cervi**\n",
    "\n",
    "**Expected time = 2.5 hours**\n",
    "\n",
    "**Total points = 80 points**\n",
    " \n",
    "## Assignment Overview\n",
    "\n",
    "In this assignment, we will work on principal component analysis. Principal component analysis (PCA) is a technique for reducing the dimensionality of datasets, increasing interpretability but at the same time minimizing information loss. It does so by creating new uncorrelated variables that successively maximize variance.\n",
    "\n",
    " In the second part of the assignment we will explain some basic concepts and familiarize with the theory about Markov chains. We will introduce you to one of the Python libraries, `quantecon` that come with the capability of simulating Markov chains processes. This second part of the assignment is intended to be more theory heavy, most of the coding about Markov chain will be asked for you to do in the next assignment.\n",
    "\n",
    "\n",
    "This assignment is designed to build your familiarity and comfort in coding in Python. It will also help you review the key topics from each module. As you progress through the assignment, answers to the questions will get increasingly complex. You must adopt a data scientist's mindset when completing this assignment. Remember to run your code from each cell before submitting your assignment. Running your code beforehand will notify you of errors and giving you a chance to fix your errors before submitting it. You should view your Vocareum submission as if you are delivering a final project to your manager or client. \n",
    "\n",
    "***Vocareum Tips***\n",
    "- Do not add arguments or options to functions unless asked specifically. This will cause an error in Vocareum.\n",
    "- Do not use a library unless you are explicitly asked in the question. \n",
    "- You can download the Grading Report after submitting the assignment. It will include the feedback and hints on incorrect questions. \n",
    "\n",
    "\n",
    "\n",
    "\n",
    "### Learning Objectives\n",
    "- Understand the implementation of principal components analysis using `sklearn`\n",
    "- Understand the importance of preparing and scaling the data\n",
    "- Understand and interpret the results\n",
    "- Understand the mathematical foundations of Markov chains\n",
    "- Implement Markov chains using `quantecon`\n",
    "- Understand and interpret the results.\n",
    "\n",
    "\n",
    "## Index: \n",
    "\n",
    "#### Principal Component Analysis and Markov Chains\n",
    "\n",
    "+ [Question 01](#q01)\n",
    "+ [Question 02](#q02)\n",
    "+ [Question 03](#q03)\n",
    "+ [Question 04](#q04)\n",
    "+ [Question 05](#q05)\n",
    "+ [Question 06](#q06)\n",
    "+ [Question 07](#q07)\n",
    "+ [Question 08](#q08)\n",
    "+ [Question 09](#q09)\n",
    "\n",
    "\n",
    "\n",
    "\n",
    "\n"
   ]
  },
  {
   "cell_type": "markdown",
   "metadata": {},
   "source": [
    "## Principal Component Analysis and Markov Chains\n",
    "\n",
    "\n",
    "\n",
    "### Importing the dataset and exploratory data analysis\n",
    "\n",
    "In the first part of this assignment, we will be using a data set that includes the information about 721 Pokemon, including their number, name, first and second type, and basic stats: HP, Attack, Defense, Special Attack, Special Defense, and Speed.data modeled from Amazon reviews. A description of the Pokemon data and instructions to download the database [can be found here](https://www.kaggle.com/abcsds/pokemon).\n",
    "We begin by importing the libraries we will use in this assignment.\n",
    "\n",
    "We begin the assignment by importing the necessary libraries:\n"
   ]
  },
  {
   "cell_type": "code",
   "execution_count": 1,
   "metadata": {
    "collapsed": true
   },
   "outputs": [],
   "source": [
    "import pandas as pd\n",
    "from sklearn.decomposition import PCA\n",
    "from sklearn.preprocessing import StandardScaler\n",
    "import seaborn as sns\n",
    "import matplotlib.pyplot as plt\n",
    "from math import sqrt\n",
    "%matplotlib inline\n",
    "\n",
    "import warnings\n",
    "warnings.filterwarnings('ignore')"
   ]
  },
  {
   "cell_type": "markdown",
   "metadata": {},
   "source": [
    "Next, we use the `read_csv` function to read the dataset"
   ]
  },
  {
   "cell_type": "code",
   "execution_count": 2,
   "metadata": {
    "collapsed": true
   },
   "outputs": [],
   "source": [
    "df = pd.read_csv(\"./data/Pokemon.csv\")"
   ]
  },
  {
   "cell_type": "markdown",
   "metadata": {},
   "source": [
    "And, as usual, we use the command `head()` to visualize the first five rows of our dataframe"
   ]
  },
  {
   "cell_type": "code",
   "execution_count": 3,
   "metadata": {},
   "outputs": [
    {
     "data": {
      "text/html": [
       "<div>\n",
       "<style scoped>\n",
       "    .dataframe tbody tr th:only-of-type {\n",
       "        vertical-align: middle;\n",
       "    }\n",
       "\n",
       "    .dataframe tbody tr th {\n",
       "        vertical-align: top;\n",
       "    }\n",
       "\n",
       "    .dataframe thead th {\n",
       "        text-align: right;\n",
       "    }\n",
       "</style>\n",
       "<table border=\"1\" class=\"dataframe\">\n",
       "  <thead>\n",
       "    <tr style=\"text-align: right;\">\n",
       "      <th></th>\n",
       "      <th>#</th>\n",
       "      <th>Name</th>\n",
       "      <th>Type 1</th>\n",
       "      <th>Type 2</th>\n",
       "      <th>Total</th>\n",
       "      <th>HP</th>\n",
       "      <th>Attack</th>\n",
       "      <th>Defense</th>\n",
       "      <th>Sp. Atk</th>\n",
       "      <th>Sp. Def</th>\n",
       "      <th>Speed</th>\n",
       "      <th>Generation</th>\n",
       "      <th>Legendary</th>\n",
       "    </tr>\n",
       "  </thead>\n",
       "  <tbody>\n",
       "    <tr>\n",
       "      <th>0</th>\n",
       "      <td>1</td>\n",
       "      <td>Bulbasaur</td>\n",
       "      <td>Grass</td>\n",
       "      <td>Poison</td>\n",
       "      <td>318</td>\n",
       "      <td>45</td>\n",
       "      <td>49</td>\n",
       "      <td>49</td>\n",
       "      <td>65</td>\n",
       "      <td>65</td>\n",
       "      <td>45</td>\n",
       "      <td>1</td>\n",
       "      <td>False</td>\n",
       "    </tr>\n",
       "    <tr>\n",
       "      <th>1</th>\n",
       "      <td>2</td>\n",
       "      <td>Ivysaur</td>\n",
       "      <td>Grass</td>\n",
       "      <td>Poison</td>\n",
       "      <td>405</td>\n",
       "      <td>60</td>\n",
       "      <td>62</td>\n",
       "      <td>63</td>\n",
       "      <td>80</td>\n",
       "      <td>80</td>\n",
       "      <td>60</td>\n",
       "      <td>1</td>\n",
       "      <td>False</td>\n",
       "    </tr>\n",
       "    <tr>\n",
       "      <th>2</th>\n",
       "      <td>3</td>\n",
       "      <td>Venusaur</td>\n",
       "      <td>Grass</td>\n",
       "      <td>Poison</td>\n",
       "      <td>525</td>\n",
       "      <td>80</td>\n",
       "      <td>82</td>\n",
       "      <td>83</td>\n",
       "      <td>100</td>\n",
       "      <td>100</td>\n",
       "      <td>80</td>\n",
       "      <td>1</td>\n",
       "      <td>False</td>\n",
       "    </tr>\n",
       "    <tr>\n",
       "      <th>3</th>\n",
       "      <td>3</td>\n",
       "      <td>VenusaurMega Venusaur</td>\n",
       "      <td>Grass</td>\n",
       "      <td>Poison</td>\n",
       "      <td>625</td>\n",
       "      <td>80</td>\n",
       "      <td>100</td>\n",
       "      <td>123</td>\n",
       "      <td>122</td>\n",
       "      <td>120</td>\n",
       "      <td>80</td>\n",
       "      <td>1</td>\n",
       "      <td>False</td>\n",
       "    </tr>\n",
       "    <tr>\n",
       "      <th>4</th>\n",
       "      <td>4</td>\n",
       "      <td>Charmander</td>\n",
       "      <td>Fire</td>\n",
       "      <td>NaN</td>\n",
       "      <td>309</td>\n",
       "      <td>39</td>\n",
       "      <td>52</td>\n",
       "      <td>43</td>\n",
       "      <td>60</td>\n",
       "      <td>50</td>\n",
       "      <td>65</td>\n",
       "      <td>1</td>\n",
       "      <td>False</td>\n",
       "    </tr>\n",
       "  </tbody>\n",
       "</table>\n",
       "</div>"
      ],
      "text/plain": [
       "   #                   Name Type 1  Type 2  Total  HP  Attack  Defense  \\\n",
       "0  1              Bulbasaur  Grass  Poison    318  45      49       49   \n",
       "1  2                Ivysaur  Grass  Poison    405  60      62       63   \n",
       "2  3               Venusaur  Grass  Poison    525  80      82       83   \n",
       "3  3  VenusaurMega Venusaur  Grass  Poison    625  80     100      123   \n",
       "4  4             Charmander   Fire     NaN    309  39      52       43   \n",
       "\n",
       "   Sp. Atk  Sp. Def  Speed  Generation  Legendary  \n",
       "0       65       65     45           1      False  \n",
       "1       80       80     60           1      False  \n",
       "2      100      100     80           1      False  \n",
       "3      122      120     80           1      False  \n",
       "4       60       50     65           1      False  "
      ]
     },
     "execution_count": 3,
     "metadata": {},
     "output_type": "execute_result"
    }
   ],
   "source": [
    "df.head()"
   ]
  },
  {
   "cell_type": "markdown",
   "metadata": {},
   "source": [
    "[Back to top](#Index:) \n",
    "<a id='q1'></a>\n",
    "\n",
    "### Question 1:\n",
    "\n",
    "*5 points*\n",
    "\n",
    "Rename the column `#` to `id`. Additionally, create a list, `cols`, of columns we will consider later. In this list include the columns `'HP', 'Attack', 'Defense', 'Sp. Atk', 'Sp. Def', 'Speed'`."
   ]
  },
  {
   "cell_type": "code",
   "execution_count": 4,
   "metadata": {
    "collapsed": true
   },
   "outputs": [],
   "source": [
    "### GRADED\n",
    "\n",
    "### YOUR SOLUTION HERE\n",
    "df.rename(columns={'#':'id'},inplace=True)\n",
    "cols = ['HP', 'Attack', 'Defense', 'Sp. Atk', 'Sp. Def', 'Speed']\n",
    "\n",
    "###\n",
    "### YOUR CODE HERE\n",
    "###\n"
   ]
  },
  {
   "cell_type": "code",
   "execution_count": 5,
   "metadata": {
    "collapsed": true,
    "deletable": false,
    "editable": false,
    "nbgrader": {
     "grade": true,
     "grade_id": "Question 01",
     "locked": true,
     "points": "5",
     "solution": false
    }
   },
   "outputs": [],
   "source": [
    "###\n",
    "### AUTOGRADER TEST - DO NOT REMOVE\n",
    "###\n"
   ]
  },
  {
   "cell_type": "markdown",
   "metadata": {},
   "source": [
    "Before performing the PCA, we need to scale the data so that the distribution of `HP`, `Attack`, and the other columns we are interested in are centered around 0 with a standard deviation of 1. \n",
    "\n",
    "Note that we do not consider the column `Total` because that is the sum of the following columns."
   ]
  },
  {
   "cell_type": "markdown",
   "metadata": {},
   "source": [
    "[Back to top](#Index:) \n",
    "<a id='q2'></a>\n",
    "\n",
    "### Question 2:\n",
    "\n",
    "*10 points*\n",
    "\n",
    "We can scale our data by using the function `StandardScaler` from `sklearn` imported above. You can find the documentation for this function [here](https://scikit-learn.org/stable/modules/generated/sklearn.preprocessing.StandardScaler.html).\n",
    "\n",
    "Instantiate a scaler, `scaler`, by using the function `StandardScaler`. Make sure that you fit the scaler only to the columns we are interested on (the ones listed in `cols`).\n",
    "\n",
    "Next, apply the method `transform` to your scaler by passing `df[cols]` as an argument. Redefine this new object to be `df_scaled`"
   ]
  },
  {
   "cell_type": "code",
   "execution_count": 6,
   "metadata": {},
   "outputs": [
    {
     "data": {
      "text/plain": [
       "array([[-0.95062622, -0.92490618, -0.79715364, -0.2391303 , -0.24818854,\n",
       "        -0.80150318],\n",
       "       [-0.3628221 , -0.5241302 , -0.34791742,  0.21955954,  0.29115635,\n",
       "        -0.28501525],\n",
       "       [ 0.42091674,  0.09244823,  0.29384863,  0.83114599,  1.01028289,\n",
       "         0.40363531],\n",
       "       ...,\n",
       "       [ 0.42091674,  0.95565803, -0.44418232,  2.36011211,  2.08897269,\n",
       "         0.05931003],\n",
       "       [ 0.42091674,  2.49710411, -0.44418232,  2.97169856,  2.08897269,\n",
       "         0.40363531],\n",
       "       [ 0.42091674,  0.95565803,  1.4811158 ,  1.74852566,  0.65071962,\n",
       "         0.05931003]])"
      ]
     },
     "execution_count": 6,
     "metadata": {},
     "output_type": "execute_result"
    }
   ],
   "source": [
    "### GRADED\n",
    "\n",
    "### YOUR SOLUTION HERE\n",
    "scaler = StandardScaler()\n",
    "df_scaled = scaler.fit_transform(df[cols])\n",
    "df_scaled\n",
    "###\n",
    "### YOUR CODE HERE\n",
    "###\n"
   ]
  },
  {
   "cell_type": "code",
   "execution_count": 7,
   "metadata": {
    "collapsed": true,
    "deletable": false,
    "editable": false,
    "nbgrader": {
     "grade": true,
     "grade_id": "Question 02",
     "locked": true,
     "points": "10",
     "solution": false
    }
   },
   "outputs": [],
   "source": [
    "###\n",
    "### AUTOGRADER TEST - DO NOT REMOVE\n",
    "###\n"
   ]
  },
  {
   "cell_type": "markdown",
   "metadata": {},
   "source": [
    "If you have done things correctly, the mean of your scaled data should be around 0 and the stardard deviation should be close to one.\n",
    "\n",
    "Let's verify this"
   ]
  },
  {
   "cell_type": "code",
   "execution_count": 8,
   "metadata": {},
   "outputs": [
    {
     "name": "stdout",
     "output_type": "stream",
     "text": [
      "-2.486899575160351e-16\n",
      "1.0\n"
     ]
    }
   ],
   "source": [
    "print(df_scaled[:,0].mean())  # zero (or very close)\n",
    "print(df_scaled[:,0].std()) "
   ]
  },
  {
   "cell_type": "markdown",
   "metadata": {},
   "source": [
    "Great! \n",
    "\n",
    "In the code cell below, we have initialized the `pca` class using the `sklearn` function `PCA`. Note that we consider 80% of our data.\n",
    "\n",
    "Next we fit our class the `df_scaled` and we apply dimensionality reduction to obtain a new dataframe with our PCA scores."
   ]
  },
  {
   "cell_type": "code",
   "execution_count": 9,
   "metadata": {
    "collapsed": true
   },
   "outputs": [],
   "source": [
    "pca = PCA(n_components=0.8)  \n",
    "#Fit the model\n",
    "pca.fit(df_scaled)\n",
    "#Apply dimesionality reduction and obtain a new dataframe\n",
    "pcscores = pd.DataFrame(pca.transform(df_scaled))\n",
    "#Renaming columns\n",
    "pcscores.columns = ['PC'+str(i+1) for i in range(len(pcscores.columns))]\n",
    "loadings = pd.DataFrame(pca.components_, columns=cols)\n",
    "loadings.index = ['PC'+str(i+1) for i in range(len(pcscores.columns))]"
   ]
  },
  {
   "cell_type": "code",
   "execution_count": 10,
   "metadata": {},
   "outputs": [
    {
     "data": {
      "text/html": [
       "<div>\n",
       "<style scoped>\n",
       "    .dataframe tbody tr th:only-of-type {\n",
       "        vertical-align: middle;\n",
       "    }\n",
       "\n",
       "    .dataframe tbody tr th {\n",
       "        vertical-align: top;\n",
       "    }\n",
       "\n",
       "    .dataframe thead th {\n",
       "        text-align: right;\n",
       "    }\n",
       "</style>\n",
       "<table border=\"1\" class=\"dataframe\">\n",
       "  <thead>\n",
       "    <tr style=\"text-align: right;\">\n",
       "      <th></th>\n",
       "      <th>PC1</th>\n",
       "      <th>PC2</th>\n",
       "      <th>PC3</th>\n",
       "      <th>PC4</th>\n",
       "    </tr>\n",
       "  </thead>\n",
       "  <tbody>\n",
       "    <tr>\n",
       "      <th>0</th>\n",
       "      <td>-1.556375</td>\n",
       "      <td>-0.021482</td>\n",
       "      <td>0.666504</td>\n",
       "      <td>0.184176</td>\n",
       "    </tr>\n",
       "    <tr>\n",
       "      <th>1</th>\n",
       "      <td>-0.362867</td>\n",
       "      <td>-0.050269</td>\n",
       "      <td>0.667913</td>\n",
       "      <td>0.269254</td>\n",
       "    </tr>\n",
       "    <tr>\n",
       "      <th>2</th>\n",
       "      <td>1.280152</td>\n",
       "      <td>-0.062720</td>\n",
       "      <td>0.623914</td>\n",
       "      <td>0.331391</td>\n",
       "    </tr>\n",
       "    <tr>\n",
       "      <th>3</th>\n",
       "      <td>2.620916</td>\n",
       "      <td>0.704263</td>\n",
       "      <td>0.995538</td>\n",
       "      <td>-0.199321</td>\n",
       "    </tr>\n",
       "    <tr>\n",
       "      <th>4</th>\n",
       "      <td>-1.758284</td>\n",
       "      <td>-0.706179</td>\n",
       "      <td>0.411454</td>\n",
       "      <td>-0.268602</td>\n",
       "    </tr>\n",
       "  </tbody>\n",
       "</table>\n",
       "</div>"
      ],
      "text/plain": [
       "        PC1       PC2       PC3       PC4\n",
       "0 -1.556375 -0.021482  0.666504  0.184176\n",
       "1 -0.362867 -0.050269  0.667913  0.269254\n",
       "2  1.280152 -0.062720  0.623914  0.331391\n",
       "3  2.620916  0.704263  0.995538 -0.199321\n",
       "4 -1.758284 -0.706179  0.411454 -0.268602"
      ]
     },
     "execution_count": 10,
     "metadata": {},
     "output_type": "execute_result"
    }
   ],
   "source": [
    "pcscores.head()"
   ]
  },
  {
   "cell_type": "markdown",
   "metadata": {},
   "source": [
    "What the PCA does is construct principal components that explain most of the variance or scatter of the original dataset. Each component is a linear combination of all the variables and is perpendicular to every other component. Each variable in each component is multiplied by a set of factors, the loading factors, which transforms the original data into this new component space. These loading factors are constrained so that the square of the sum is equal to 1, hence they can serve as weights to see which parameters are most important for a particular principal component.\n",
    "\n",
    "Let's look at that in more detail with some figures."
   ]
  },
  {
   "cell_type": "code",
   "execution_count": 11,
   "metadata": {},
   "outputs": [
    {
     "data": {
      "image/png": "[encoded data removed]",
      "text/plain": [
       "<Figure size 432x288 with 2 Axes>"
      ]
     },
     "metadata": {
      "needs_background": "light"
     },
     "output_type": "display_data"
    }
   ],
   "source": [
    "load_sqr = loadings**2\n",
    "\n",
    "\n",
    "ax = sns.heatmap(load_sqr.transpose(), linewidths=0.5, cmap=\"BuGn\", annot=True)\n",
    "#Setting the ticks\n",
    "ax.set_xticklabels(ax.xaxis.get_majorticklabels(), rotation=0, fontsize=8)\n",
    "ax.set_yticklabels(ax.yaxis.get_majorticklabels(), rotation=0, fontsize=8)\n",
    "plt.show() "
   ]
  },
  {
   "cell_type": "markdown",
   "metadata": {},
   "source": [
    "The darkest shades in the plot above indicate which parameters are the most important. For example, the loading factors for PC4 show that HP is the most dominant parameter. That is, Pokemon with high HP will have high absolute values of PC4.\n",
    "\n",
    "Let's look at the actual values of the loading factors now:"
   ]
  },
  {
   "cell_type": "markdown",
   "metadata": {},
   "source": [
    "Below, we have created heatmap, like the one provided above, using the data from the `loadings` dataframe. "
   ]
  },
  {
   "cell_type": "code",
   "execution_count": 12,
   "metadata": {},
   "outputs": [
    {
     "data": {
      "image/png": "[encoded data removed]",
      "text/plain": [
       "<Figure size 432x288 with 2 Axes>"
      ]
     },
     "metadata": {
      "needs_background": "light"
     },
     "output_type": "display_data"
    }
   ],
   "source": [
    "ax = sns.heatmap(loadings.transpose(),  annot=True)"
   ]
  },
  {
   "cell_type": "markdown",
   "metadata": {},
   "source": [
    "Here you can see some more trends. For example, a Pokemon with high Defense or low Speed will have a positive value of PC2. On the other hand, things like Attack or Sp. Defense will control what value a Pokemon will have for PC3.\n",
    "\n",
    "Yet another way to look at this is to examine the data with a biplot, which is a scatter plot with vectors indicating what direction a datapoint will take in the PCA given its underlying parameters. For fun, the Pokemon are color-coded by Type to see if there is any obvious trends.\n",
    "\n",
    "In the code cell below, we define a function to create the biplot"
   ]
  },
  {
   "cell_type": "code",
   "execution_count": 13,
   "metadata": {
    "collapsed": true
   },
   "outputs": [],
   "source": [
    "# Create labels based on Type 1\n",
    "labels = set(df['Type 1'])\n",
    "df['type'] = df['Type 1']\n",
    "lab_dict = dict()\n",
    "for i, elem in enumerate(labels):\n",
    "    lab_dict[elem] = i\n",
    "df = df.replace({'type' : lab_dict})\n",
    "\n",
    "pc_types = pcscores.copy()\n",
    "pc_types['Type'] = df['Type 1']\n",
    "\n",
    "# Biplots\n",
    "def make_plot(pcscores, loadings, xval=0, yval=1, max_arrow=0.2, alpha=0.4):\n",
    "    n = loadings.shape[1]\n",
    "    scalex = 1.0 / (pcscores.iloc[:, xval].max() - pcscores.iloc[:, xval].min())  # Rescaling to be from -1 to +1\n",
    "    scaley = 1.0 / (pcscores.iloc[:, yval].max() - pcscores.iloc[:, yval].min())\n",
    "\n",
    "    pcscores.iloc[:, xval] = pcscores.iloc[:, xval] * scalex\n",
    "    pcscores.iloc[:, yval] = pcscores.iloc[:, yval] * scaley\n",
    "\n",
    "    g = sns.lmplot(x='PC{}'.format(xval + 1), y='PC{}'.format(yval + 1), hue='Type', data=pcscores,\n",
    "                   fit_reg=False, size=6, palette='muted')\n",
    "\n",
    "    for i in range(n):\n",
    "        # Only plot the longer ones\n",
    "        length = sqrt(loadings.iloc[xval, i] ** 2 + loadings.iloc[yval, i] ** 2)\n",
    "        if length < max_arrow:\n",
    "            continue\n",
    "\n",
    "        plt.arrow(0, 0, loadings.iloc[xval, i], loadings.iloc[yval, i], color='k', alpha=0.9)\n",
    "        plt.text(loadings.iloc[xval, i] * 1.15, loadings.iloc[yval, i] * 1.15,\n",
    "                 loadings.columns.tolist()[i], color='k', ha='center', va='center')\n",
    "\n",
    "    g.set(ylim=(-1, 1))\n",
    "    g.set(xlim=(-1, 1))"
   ]
  },
  {
   "cell_type": "markdown",
   "metadata": {},
   "source": [
    "[Back to top](#Index:) \n",
    "<a id='q4'></a>\n",
    "\n",
    "### Question 3:\n",
    "\n",
    "*10 points*\n",
    "    \n",
    "Using the function `make_plot` above, create a biplot. Set the argument `pcscores` equal to `pc_types`, `loadings` equal to `loadings`, `xval` equal to 2, `yval` equal to 3 and `max_arrow` equal to 0.3.\n",
    "\n",
    "Save your image as `plot4.png` inside the results folder."
   ]
  },
  {
   "cell_type": "code",
   "execution_count": 18,
   "metadata": {},
   "outputs": [
    {
     "data": {
      "image/png": "[encoded data removed]",
      "text/plain": [
       "<Figure size 508.125x432 with 1 Axes>"
      ]
     },
     "metadata": {
      "needs_background": "light"
     },
     "output_type": "display_data"
    }
   ],
   "source": [
    "### GRADED \n",
    "\n",
    "\n",
    "### YOUR SOLUTION HERE\n",
    "pcscores = pc_types\n",
    "make_plot(pcscores, loadings, xval =2, yval= 3, max_arrow = 0.3,alpha=0.4)\n",
    "plt.savefig('results/plot4.png')\n",
    "###\n",
    "### YOUR CODE HERE\n",
    "###\n"
   ]
  },
  {
   "cell_type": "code",
   "execution_count": 19,
   "metadata": {
    "collapsed": true,
    "deletable": false,
    "editable": false,
    "nbgrader": {
     "grade": true,
     "grade_id": "Question 03",
     "locked": true,
     "points": "10",
     "solution": false
    }
   },
   "outputs": [],
   "source": [
    "###\n",
    "### AUTOGRADER TEST - DO NOT REMOVE\n",
    "###\n"
   ]
  },
  {
   "cell_type": "markdown",
   "metadata": {},
   "source": [
    "Above, you can see that Pokemon are primarily centrally distributed; that is, their stats are fairly balanced. There don't appear to be any obvious trends with type. There are some outliers, for example, 2 normal type Pokemon with high values of PC4. If you recall, PC4's loading factors indicated that HP was the dominant parameter."
   ]
  },
  {
   "cell_type": "markdown",
   "metadata": {},
   "source": [
    "[Back to top](#Index:) \n",
    "<a id='q5'></a>\n",
    "\n",
    "### Question 4:\n",
    "\n",
    "*10 points*\n",
    "\n",
    "Use the `sort_values` function to sort the pc_types dataframe by `PC4` in descending order. Extract only the first two rows and assign those to the dataframe `best_pc4`.\n",
    "\n",
    "Use `best_pc4` to filter the rows of `df` using the function `loc`. Assign the result to df_best_pc4"
   ]
  },
  {
   "cell_type": "code",
   "execution_count": 160,
   "metadata": {},
   "outputs": [
    {
     "data": {
      "text/html": [
       "<div>\n",
       "<style scoped>\n",
       "    .dataframe tbody tr th:only-of-type {\n",
       "        vertical-align: middle;\n",
       "    }\n",
       "\n",
       "    .dataframe tbody tr th {\n",
       "        vertical-align: top;\n",
       "    }\n",
       "\n",
       "    .dataframe thead th {\n",
       "        text-align: right;\n",
       "    }\n",
       "</style>\n",
       "<table border=\"1\" class=\"dataframe\">\n",
       "  <thead>\n",
       "    <tr style=\"text-align: right;\">\n",
       "      <th></th>\n",
       "      <th>id</th>\n",
       "      <th>Name</th>\n",
       "      <th>Type 1</th>\n",
       "      <th>Type 2</th>\n",
       "      <th>Total</th>\n",
       "      <th>HP</th>\n",
       "      <th>Attack</th>\n",
       "      <th>Defense</th>\n",
       "      <th>Sp. Atk</th>\n",
       "      <th>Sp. Def</th>\n",
       "      <th>Speed</th>\n",
       "      <th>Generation</th>\n",
       "      <th>Legendary</th>\n",
       "      <th>type</th>\n",
       "    </tr>\n",
       "  </thead>\n",
       "  <tbody>\n",
       "    <tr>\n",
       "      <th>0</th>\n",
       "      <td>1</td>\n",
       "      <td>Bulbasaur</td>\n",
       "      <td>Grass</td>\n",
       "      <td>Poison</td>\n",
       "      <td>318</td>\n",
       "      <td>45</td>\n",
       "      <td>49</td>\n",
       "      <td>49</td>\n",
       "      <td>65</td>\n",
       "      <td>65</td>\n",
       "      <td>45</td>\n",
       "      <td>1</td>\n",
       "      <td>False</td>\n",
       "      <td>17</td>\n",
       "    </tr>\n",
       "    <tr>\n",
       "      <th>1</th>\n",
       "      <td>2</td>\n",
       "      <td>Ivysaur</td>\n",
       "      <td>Grass</td>\n",
       "      <td>Poison</td>\n",
       "      <td>405</td>\n",
       "      <td>60</td>\n",
       "      <td>62</td>\n",
       "      <td>63</td>\n",
       "      <td>80</td>\n",
       "      <td>80</td>\n",
       "      <td>60</td>\n",
       "      <td>1</td>\n",
       "      <td>False</td>\n",
       "      <td>17</td>\n",
       "    </tr>\n",
       "    <tr>\n",
       "      <th>2</th>\n",
       "      <td>3</td>\n",
       "      <td>Venusaur</td>\n",
       "      <td>Grass</td>\n",
       "      <td>Poison</td>\n",
       "      <td>525</td>\n",
       "      <td>80</td>\n",
       "      <td>82</td>\n",
       "      <td>83</td>\n",
       "      <td>100</td>\n",
       "      <td>100</td>\n",
       "      <td>80</td>\n",
       "      <td>1</td>\n",
       "      <td>False</td>\n",
       "      <td>17</td>\n",
       "    </tr>\n",
       "    <tr>\n",
       "      <th>3</th>\n",
       "      <td>3</td>\n",
       "      <td>VenusaurMega Venusaur</td>\n",
       "      <td>Grass</td>\n",
       "      <td>Poison</td>\n",
       "      <td>625</td>\n",
       "      <td>80</td>\n",
       "      <td>100</td>\n",
       "      <td>123</td>\n",
       "      <td>122</td>\n",
       "      <td>120</td>\n",
       "      <td>80</td>\n",
       "      <td>1</td>\n",
       "      <td>False</td>\n",
       "      <td>17</td>\n",
       "    </tr>\n",
       "    <tr>\n",
       "      <th>4</th>\n",
       "      <td>4</td>\n",
       "      <td>Charmander</td>\n",
       "      <td>Fire</td>\n",
       "      <td>NaN</td>\n",
       "      <td>309</td>\n",
       "      <td>39</td>\n",
       "      <td>52</td>\n",
       "      <td>43</td>\n",
       "      <td>60</td>\n",
       "      <td>50</td>\n",
       "      <td>65</td>\n",
       "      <td>1</td>\n",
       "      <td>False</td>\n",
       "      <td>15</td>\n",
       "    </tr>\n",
       "    <tr>\n",
       "      <th>...</th>\n",
       "      <td>...</td>\n",
       "      <td>...</td>\n",
       "      <td>...</td>\n",
       "      <td>...</td>\n",
       "      <td>...</td>\n",
       "      <td>...</td>\n",
       "      <td>...</td>\n",
       "      <td>...</td>\n",
       "      <td>...</td>\n",
       "      <td>...</td>\n",
       "      <td>...</td>\n",
       "      <td>...</td>\n",
       "      <td>...</td>\n",
       "      <td>...</td>\n",
       "    </tr>\n",
       "    <tr>\n",
       "      <th>795</th>\n",
       "      <td>719</td>\n",
       "      <td>Diancie</td>\n",
       "      <td>Rock</td>\n",
       "      <td>Fairy</td>\n",
       "      <td>600</td>\n",
       "      <td>50</td>\n",
       "      <td>100</td>\n",
       "      <td>150</td>\n",
       "      <td>100</td>\n",
       "      <td>150</td>\n",
       "      <td>50</td>\n",
       "      <td>6</td>\n",
       "      <td>True</td>\n",
       "      <td>10</td>\n",
       "    </tr>\n",
       "    <tr>\n",
       "      <th>796</th>\n",
       "      <td>719</td>\n",
       "      <td>DiancieMega Diancie</td>\n",
       "      <td>Rock</td>\n",
       "      <td>Fairy</td>\n",
       "      <td>700</td>\n",
       "      <td>50</td>\n",
       "      <td>160</td>\n",
       "      <td>110</td>\n",
       "      <td>160</td>\n",
       "      <td>110</td>\n",
       "      <td>110</td>\n",
       "      <td>6</td>\n",
       "      <td>True</td>\n",
       "      <td>10</td>\n",
       "    </tr>\n",
       "    <tr>\n",
       "      <th>797</th>\n",
       "      <td>720</td>\n",
       "      <td>HoopaHoopa Confined</td>\n",
       "      <td>Psychic</td>\n",
       "      <td>Ghost</td>\n",
       "      <td>600</td>\n",
       "      <td>80</td>\n",
       "      <td>110</td>\n",
       "      <td>60</td>\n",
       "      <td>150</td>\n",
       "      <td>130</td>\n",
       "      <td>70</td>\n",
       "      <td>6</td>\n",
       "      <td>True</td>\n",
       "      <td>1</td>\n",
       "    </tr>\n",
       "    <tr>\n",
       "      <th>798</th>\n",
       "      <td>720</td>\n",
       "      <td>HoopaHoopa Unbound</td>\n",
       "      <td>Psychic</td>\n",
       "      <td>Dark</td>\n",
       "      <td>680</td>\n",
       "      <td>80</td>\n",
       "      <td>160</td>\n",
       "      <td>60</td>\n",
       "      <td>170</td>\n",
       "      <td>130</td>\n",
       "      <td>80</td>\n",
       "      <td>6</td>\n",
       "      <td>True</td>\n",
       "      <td>1</td>\n",
       "    </tr>\n",
       "    <tr>\n",
       "      <th>799</th>\n",
       "      <td>721</td>\n",
       "      <td>Volcanion</td>\n",
       "      <td>Fire</td>\n",
       "      <td>Water</td>\n",
       "      <td>600</td>\n",
       "      <td>80</td>\n",
       "      <td>110</td>\n",
       "      <td>120</td>\n",
       "      <td>130</td>\n",
       "      <td>90</td>\n",
       "      <td>70</td>\n",
       "      <td>6</td>\n",
       "      <td>True</td>\n",
       "      <td>15</td>\n",
       "    </tr>\n",
       "  </tbody>\n",
       "</table>\n",
       "<p>800 rows × 14 columns</p>\n",
       "</div>"
      ],
      "text/plain": [
       "      id                   Name   Type 1  Type 2  Total  HP  Attack  Defense  \\\n",
       "0      1              Bulbasaur    Grass  Poison    318  45      49       49   \n",
       "1      2                Ivysaur    Grass  Poison    405  60      62       63   \n",
       "2      3               Venusaur    Grass  Poison    525  80      82       83   \n",
       "3      3  VenusaurMega Venusaur    Grass  Poison    625  80     100      123   \n",
       "4      4             Charmander     Fire     NaN    309  39      52       43   \n",
       "..   ...                    ...      ...     ...    ...  ..     ...      ...   \n",
       "795  719                Diancie     Rock   Fairy    600  50     100      150   \n",
       "796  719    DiancieMega Diancie     Rock   Fairy    700  50     160      110   \n",
       "797  720    HoopaHoopa Confined  Psychic   Ghost    600  80     110       60   \n",
       "798  720     HoopaHoopa Unbound  Psychic    Dark    680  80     160       60   \n",
       "799  721              Volcanion     Fire   Water    600  80     110      120   \n",
       "\n",
       "     Sp. Atk  Sp. Def  Speed  Generation  Legendary  type  \n",
       "0         65       65     45           1      False    17  \n",
       "1         80       80     60           1      False    17  \n",
       "2        100      100     80           1      False    17  \n",
       "3        122      120     80           1      False    17  \n",
       "4         60       50     65           1      False    15  \n",
       "..       ...      ...    ...         ...        ...   ...  \n",
       "795      100      150     50           6       True    10  \n",
       "796      160      110    110           6       True    10  \n",
       "797      150      130     70           6       True     1  \n",
       "798      170      130     80           6       True     1  \n",
       "799      130       90     70           6       True    15  \n",
       "\n",
       "[800 rows x 14 columns]"
      ]
     },
     "execution_count": 160,
     "metadata": {},
     "output_type": "execute_result"
    }
   ],
   "source": [
    "### GRADED \n",
    "\n",
    "\n",
    "### YOUR SOLUTION HERE\n",
    "best_pc4 = pc_types.sort_values(by='PC4', ascending=False)[:2]\n",
    "i = df[((df.id == 261) &( df.id == 121))].index\n",
    "df_best_pc4 = df.drop(i, axis=0)\n",
    "##\n",
    "### YOUR CODE HERE\n",
    "###\n"
   ]
  },
  {
   "cell_type": "code",
   "execution_count": 21,
   "metadata": {
    "collapsed": true,
    "deletable": false,
    "editable": false,
    "nbgrader": {
     "grade": true,
     "grade_id": "Question 04",
     "locked": true,
     "points": "10",
     "solution": false
    }
   },
   "outputs": [],
   "source": [
    "###\n",
    "### AUTOGRADER TEST - DO NOT REMOVE\n",
    "###\n"
   ]
  },
  {
   "cell_type": "markdown",
   "metadata": {},
   "source": [
    "We can also decide to check which Pokemon has the highest 'HP':"
   ]
  },
  {
   "cell_type": "code",
   "execution_count": 22,
   "metadata": {},
   "outputs": [
    {
     "data": {
      "text/html": [
       "<div>\n",
       "<style scoped>\n",
       "    .dataframe tbody tr th:only-of-type {\n",
       "        vertical-align: middle;\n",
       "    }\n",
       "\n",
       "    .dataframe tbody tr th {\n",
       "        vertical-align: top;\n",
       "    }\n",
       "\n",
       "    .dataframe thead th {\n",
       "        text-align: right;\n",
       "    }\n",
       "</style>\n",
       "<table border=\"1\" class=\"dataframe\">\n",
       "  <thead>\n",
       "    <tr style=\"text-align: right;\">\n",
       "      <th></th>\n",
       "      <th>id</th>\n",
       "      <th>Name</th>\n",
       "      <th>Type 1</th>\n",
       "      <th>Type 2</th>\n",
       "      <th>Total</th>\n",
       "      <th>HP</th>\n",
       "      <th>Attack</th>\n",
       "      <th>Defense</th>\n",
       "      <th>Sp. Atk</th>\n",
       "      <th>Sp. Def</th>\n",
       "      <th>Speed</th>\n",
       "      <th>Generation</th>\n",
       "      <th>Legendary</th>\n",
       "      <th>type</th>\n",
       "    </tr>\n",
       "  </thead>\n",
       "  <tbody>\n",
       "    <tr>\n",
       "      <th>261</th>\n",
       "      <td>242</td>\n",
       "      <td>Blissey</td>\n",
       "      <td>Normal</td>\n",
       "      <td>NaN</td>\n",
       "      <td>540</td>\n",
       "      <td>255</td>\n",
       "      <td>10</td>\n",
       "      <td>10</td>\n",
       "      <td>75</td>\n",
       "      <td>135</td>\n",
       "      <td>55</td>\n",
       "      <td>2</td>\n",
       "      <td>False</td>\n",
       "      <td>0</td>\n",
       "    </tr>\n",
       "    <tr>\n",
       "      <th>121</th>\n",
       "      <td>113</td>\n",
       "      <td>Chansey</td>\n",
       "      <td>Normal</td>\n",
       "      <td>NaN</td>\n",
       "      <td>450</td>\n",
       "      <td>250</td>\n",
       "      <td>5</td>\n",
       "      <td>5</td>\n",
       "      <td>35</td>\n",
       "      <td>105</td>\n",
       "      <td>50</td>\n",
       "      <td>1</td>\n",
       "      <td>False</td>\n",
       "      <td>0</td>\n",
       "    </tr>\n",
       "  </tbody>\n",
       "</table>\n",
       "</div>"
      ],
      "text/plain": [
       "      id     Name  Type 1 Type 2  Total   HP  Attack  Defense  Sp. Atk  \\\n",
       "261  242  Blissey  Normal    NaN    540  255      10       10       75   \n",
       "121  113  Chansey  Normal    NaN    450  250       5        5       35   \n",
       "\n",
       "     Sp. Def  Speed  Generation  Legendary  type  \n",
       "261      135     55           2      False     0  \n",
       "121      105     50           1      False     0  "
      ]
     },
     "execution_count": 22,
     "metadata": {},
     "output_type": "execute_result"
    }
   ],
   "source": [
    "df.sort_values(by='HP', ascending=False)[:2]"
   ]
  },
  {
   "cell_type": "markdown",
   "metadata": {},
   "source": [
    "Indeed, the Pokemons with the highest HP also have the highest PC4, as expected.\n",
    "\n",
    "Lastly, out of curiosity, we are interested in seeing what's the Bug-type pokemon with high PC2 and PC3 values?\n",
    "\n",
    "[Back to top](#Index:) \n",
    "<a id='q6'></a>\n",
    "\n",
    "### Question 5:\n",
    "\n",
    "*5 points*\n",
    "\n",
    "Use the `sort_values` function to sort the `pc_types` dataframe by `PC2` in descending order. Extract only the first row and assign those to the dataframe `best_pc2`.\n",
    "\n",
    "Next, use the `sort_values` function to sort the `pc_types` dataframe by `PC3` in descending order. Extract only the first row and assign those to the dataframe `best_pc3`."
   ]
  },
  {
   "cell_type": "code",
   "execution_count": 23,
   "metadata": {
    "collapsed": true
   },
   "outputs": [],
   "source": [
    "### GRADED \n",
    "\n",
    "\n",
    "### YOUR SOLUTION HERE\n",
    "best_pc2 = pc_types.sort_values(by='PC2', ascending=False)[:1]\n",
    "best_pc3 = pc_types.sort_values(by='PC3', ascending=False)[:1]\n",
    "\n",
    "###\n",
    "### YOUR CODE HERE\n",
    "###\n"
   ]
  },
  {
   "cell_type": "code",
   "execution_count": 24,
   "metadata": {
    "collapsed": true,
    "deletable": false,
    "editable": false,
    "nbgrader": {
     "grade": true,
     "grade_id": "Question 05",
     "locked": true,
     "points": "5",
     "solution": false
    }
   },
   "outputs": [],
   "source": [
    "###\n",
    "### AUTOGRADER TEST - DO NOT REMOVE\n",
    "###\n"
   ]
  },
  {
   "cell_type": "markdown",
   "metadata": {},
   "source": [
    "In the next code cell, we print `best_pc2` and `best_pc3`"
   ]
  },
  {
   "cell_type": "code",
   "execution_count": 25,
   "metadata": {},
   "outputs": [
    {
     "name": "stdout",
     "output_type": "stream",
     "text": [
      "          PC1      PC2       PC3       PC4 Type\n",
      "230  1.076565  6.41447  0.642885 -0.118412  Bug\n",
      "          PC1      PC2       PC3       PC4 Type\n",
      "230  1.076565  6.41447  0.642885 -0.118412  Bug\n"
     ]
    }
   ],
   "source": [
    "print(best_pc2)\n",
    "print(best_pc3)"
   ]
  },
  {
   "cell_type": "markdown",
   "metadata": {},
   "source": [
    "We notice that this is really the same Pokemon! Let's see which one from our original dataframe:"
   ]
  },
  {
   "cell_type": "code",
   "execution_count": 26,
   "metadata": {},
   "outputs": [
    {
     "data": {
      "text/plain": [
       "id                213\n",
       "Name          Shuckle\n",
       "Type 1            Bug\n",
       "Type 2           Rock\n",
       "Total             505\n",
       "HP                 20\n",
       "Attack             10\n",
       "Defense           230\n",
       "Sp. Atk            10\n",
       "Sp. Def           230\n",
       "Speed               5\n",
       "Generation          2\n",
       "Legendary       False\n",
       "type                8\n",
       "Name: 230, dtype: object"
      ]
     },
     "execution_count": 26,
     "metadata": {},
     "output_type": "execute_result"
    }
   ],
   "source": [
    "df.loc[230]"
   ]
  },
  {
   "cell_type": "markdown",
   "metadata": {},
   "source": [
    "This is Shuckle, a bug-type Pokemon with very high `Defense` and `Sp. Def` at the cost of `Attack` attributes. Indeed, the PC2-PC3 biplot reveals how it can be used to select high-defense Pokemon. These will be located towards the top right of (high PC2 and PC3 values)."
   ]
  },
  {
   "cell_type": "markdown",
   "metadata": {},
   "source": [
    "[Back to top](#Index:) \n",
    "<a id='q7'></a>\n",
    "\n",
    "### Question 6:\n",
    "\n",
    "*10 points*\n",
    "    \n",
    "Use the function `make_plot` above, create a biplot. Set the argument `pcscores` equal to `pc_types`, `loadings` equal to `loadings`, `xval` equal to 1, `yval` equal to 2 and `max_arrow` equal to 0.3.\n",
    "\n",
    "Save your image as `plot7.png` inside the results folder."
   ]
  },
  {
   "cell_type": "code",
   "execution_count": 27,
   "metadata": {},
   "outputs": [
    {
     "data": {
      "image/png": "[encoded data removed]",
      "text/plain": [
       "<Figure size 508.125x432 with 1 Axes>"
      ]
     },
     "metadata": {
      "needs_background": "light"
     },
     "output_type": "display_data"
    }
   ],
   "source": [
    "### GRADED \n",
    "\n",
    "\n",
    "### YOUR SOLUTION HERE\n",
    "pcscores = pc_types\n",
    "\n",
    "save = make_plot(pcscores, loadings, xval = 1, yval = 2, max_arrow =0.3)\n",
    "plt.savefig('results/plot7.png')\n",
    "###\n",
    "### YOUR CODE HERE\n",
    "###\n"
   ]
  },
  {
   "cell_type": "code",
   "execution_count": 28,
   "metadata": {
    "collapsed": true,
    "deletable": false,
    "editable": false,
    "nbgrader": {
     "grade": true,
     "grade_id": "Question 06",
     "locked": true,
     "points": "10",
     "solution": false
    }
   },
   "outputs": [],
   "source": [
    "###\n",
    "### AUTOGRADER TEST - DO NOT REMOVE\n",
    "###\n"
   ]
  },
  {
   "cell_type": "markdown",
   "metadata": {},
   "source": [
    "We see that this Pokemon is located towards the top right (high PC2 and PC3 values).\n",
    "\n",
    "Of course, we could go ahead and experiment with many other features. As a conclusion, one powerful thing of the PCA is the dimensionality reduction aspect of it. We went from having 6 variables to consider to only having 4. From this, it may be possible to examine fits or create classification models."
   ]
  },
  {
   "cell_type": "markdown",
   "metadata": {},
   "source": [
    "In the second part of this assignment, we will work with Markov chains.\n",
    "\n",
    "Markov chains are one of the most useful classes of stochastic processes, being\n",
    "\n",
    "- simple, flexible and supported by many elegant theoretical results\n",
    "- valuable for building intuition about random dynamic models\n",
    "- central to quantitative modeling in their own right\n",
    "\n",
    "In this assignemnt, we review some of the theory of Markov chains and implement a few simple exercises from scratch.\n",
    "\n",
    "Before starting, we will review some fundamentals concepts:\n",
    "\n",
    "\n",
    "#### Stochastic Matrices\n",
    "\n",
    "A **stochastic matrix** (or Markov matrix) is an $n×n$ square matrix $P$ such that  each element of $P$\n",
    "is nonnegative, and each row of $P$ sums to one.\n",
    "Each row of $P$ can be regarded as a probability mass function over $n$ possible outcomes.\n",
    "\n",
    "Of course, if $P$ is a stochastic matrix, then so is the $k$-th power $P^k$.\n",
    "\n",
    "#### Markov Chains\n",
    "\n",
    "There is a close connection between stochastic matrices and Markov chains.\n",
    "\n",
    "To begin, let $S$ be a finite set with $n$ elements $\\{x_1,…,x_n\\}$. The set $S$ is called the **state space** and $x_1,…,x_n$ are the **state values**.\n",
    "\n",
    "A Markov chain $\\{X_t\\}$ on $S$ is a sequence of random variables on $S$ that have the **Markov property**.\n",
    "\n",
    "This means that, for any date $t$ and any state $y \\in S$\n",
    "\n",
    "$$\\mathbf{P}\\{X_t+1=y|X_t\\}=\\mathbf{P}\\{X_t+1=y|X_t,X_t−1,…\\}$$\n",
    "\n",
    "In other words, knowing the current state is enough to know probabilities for future states.\n",
    "\n",
    "We begin by importing the necessary libraries for this part of the assignment. \n",
    "\n",
    "**NOTE:** There are many Python libraries that offer an implementation of Markov Chains, however, most of them do not allow for a random seed to be set. For this reason, results are not reproducible. For this part of the assignment we will mostly ask you about setting up simple problems. The Markov chains functions call from [`quantecon`](https://quantecon.org/quantecon-py/) will be only demonstrated to you.\n"
   ]
  },
  {
   "cell_type": "code",
   "execution_count": 30,
   "metadata": {
    "collapsed": true
   },
   "outputs": [],
   "source": [
    "import quantecon as qe\n",
    "import numpy as np"
   ]
  },
  {
   "cell_type": "markdown",
   "metadata": {},
   "source": [
    "[Back to top](#Index:) \n",
    "<a id='q8'></a>\n",
    "\n",
    "### Question 7:\n",
    "\n",
    "*5 points*\n",
    "\n",
    "Let's begin with a very simple example. Define a tuple, `prob` with probabilities in [0,1] with entries 0.3 and 0.7.\n",
    "Next, use the `NumPy` function `cumsum` to convert your probabilities into a cumulative distribution function. Assign this to the variable `cdf`."
   ]
  },
  {
   "cell_type": "code",
   "execution_count": 87,
   "metadata": {},
   "outputs": [
    {
     "data": {
      "text/plain": [
       "array([0.3, 1. ])"
      ]
     },
     "execution_count": 87,
     "metadata": {},
     "output_type": "execute_result"
    }
   ],
   "source": [
    "### GRADED \n",
    "\n",
    "\n",
    "### YOUR SOLUTION HERE\n",
    "prob = (0.3, 0.7)           # probabilities over {0, 1}\n",
    "cdf = np.cumsum(prob)       # convert into cummulative distribution\n",
    "cdf\n",
    "###\n",
    "### YOUR CODE HERE\n",
    "###\n"
   ]
  },
  {
   "cell_type": "code",
   "execution_count": null,
   "metadata": {
    "collapsed": true,
    "deletable": false,
    "editable": false,
    "nbgrader": {
     "grade": true,
     "grade_id": "Question 07",
     "locked": true,
     "points": "5",
     "solution": false
    }
   },
   "outputs": [],
   "source": [
    "###\n",
    "### AUTOGRADER TEST - DO NOT REMOVE\n",
    "###\n"
   ]
  },
  {
   "cell_type": "markdown",
   "metadata": {},
   "source": [
    "To generate, say, 10 independent draws from `cdf` we can use the function `random.draw` from `quantecon`, like so"
   ]
  },
  {
   "cell_type": "code",
   "execution_count": 36,
   "metadata": {},
   "outputs": [
    {
     "data": {
      "text/plain": [
       "array([1, 0, 1, 1, 1, 1, 1, 1, 0, 1])"
      ]
     },
     "execution_count": 36,
     "metadata": {},
     "output_type": "execute_result"
    }
   ],
   "source": [
    "qe.random.draw(cdf, 10)   # generate 10 independent draws from our cdf"
   ]
  },
  {
   "cell_type": "markdown",
   "metadata": {},
   "source": [
    "[Back to top](#Index:) \n",
    "<a id='q9'></a>\n",
    "\n",
    "### Question 8:\n",
    "\n",
    "*15 points*\n",
    "\n",
    "Next, let's try to define our own function to simulate a simple Markov chain process. \n",
    "\n",
    "Define a function `mc_sample_path` that takes three arguments:\n",
    "\n",
    "- A stochastic matrix `P`\n",
    "- A cumulative distribution function, `cdf`. Set this argument equal to `None` by default\n",
    "- An integer, `sample_size`. Set this argument equal to 1000 by default\n",
    "\n",
    "Your function should execute the following steps:\n",
    "- Convert `P` to a `Numpy` array. Use the function `asarray`\n",
    "- Create a new `Numpy` array `X` with shape equal to `sample_size` and type `int`, without initializing entries. For this, use the function `empty`.\n",
    "- Convert each row of `P` into a cumulative distribution function. You can achieve this using a list comprehension.\n",
    "- If `cdf` is not `None`, use the function `draw` from `quantecon` on `cdf` using the `NumPy` function `cumsum` to generate an initial state `X_0`. If `cdf` is `None` set the initial state `X_0 = 0`.\n",
    "- Set the first entry of `X` equal to `X_0`.\n",
    "- Use a for loop to simulate your `sample_size -1` draws. **HINT: the following state can be computed via `X[t+1] = qe.random.draw(P_dist[X[t]])`**\n",
    "\n",
    "Your function should return one minus the mean of the array `X`."
   ]
  },
  {
   "cell_type": "code",
   "execution_count": 98,
   "metadata": {
    "collapsed": true
   },
   "outputs": [],
   "source": [
    "### GRADED \n",
    "\n",
    "\n",
    "### YOUR SOLUTION HERE\n",
    "def mc_sample_path(P, cdf=None, sample_size=1000):\n",
    "    \n",
    "    # set up\n",
    "    P = np.asarray(P)\n",
    "    X = np.empty(sample_size, dtype=int)\n",
    "\n",
    "    # Convert each row of P into a cdf\n",
    "    n = len(P)\n",
    "    P_dist = [np.cumsum(P[i, :]) for i in range(n)]\n",
    "\n",
    "    # draw initial state, defaulting to 0\n",
    "    if cdf is not None:\n",
    "        X_0 = qe.random.draw(np.cumsum(cdf))\n",
    "    else:\n",
    "        X_0 = 0\n",
    "\n",
    "    # simulate\n",
    "    X[0] = X_0\n",
    "    for t in range(sample_size - 1):\n",
    "        X[t+1] = qe.random.draw(P_dist[X[t]])\n",
    "\n",
    "    return 1-np.mean(X)\n",
    "###\n",
    "### YOUR CODE HERE\n",
    "###\n"
   ]
  },
  {
   "cell_type": "code",
   "execution_count": 99,
   "metadata": {
    "collapsed": true,
    "deletable": false,
    "editable": false,
    "nbgrader": {
     "grade": true,
     "grade_id": "Question 08",
     "locked": true,
     "points": "15",
     "solution": false
    }
   },
   "outputs": [],
   "source": [
    "###\n",
    "### AUTOGRADER TEST - DO NOT REMOVE\n",
    "###\n"
   ]
  },
  {
   "cell_type": "markdown",
   "metadata": {},
   "source": [
    "Let’s see how it works using the small matrix"
   ]
  },
  {
   "cell_type": "code",
   "execution_count": 100,
   "metadata": {
    "collapsed": true
   },
   "outputs": [],
   "source": [
    "P = [[0.4, 0.6],\n",
    "     [0.2, 0.8]]"
   ]
  },
  {
   "cell_type": "markdown",
   "metadata": {},
   "source": [
    "As we’ll see later, for a long series drawn from `P`, the fraction of the sample that takes value 1 will be about 0.75.\n",
    "\n",
    "Moreover, this is true, regardless of the initial distribution from with `X_0` is drawn.\n",
    "\n",
    "The following code illustrates this"
   ]
  },
  {
   "cell_type": "code",
   "execution_count": 101,
   "metadata": {},
   "outputs": [
    {
     "data": {
      "text/plain": [
       "0.24690999999999996"
      ]
     },
     "execution_count": 101,
     "metadata": {},
     "output_type": "execute_result"
    }
   ],
   "source": [
    "X = mc_sample_path(P, sample_size=100000) \n",
    "X"
   ]
  },
  {
   "cell_type": "markdown",
   "metadata": {},
   "source": [
    "You can try changing the initial distribution to confirm that the output is always close to 0.75.\n",
    "\n"
   ]
  },
  {
   "cell_type": "markdown",
   "metadata": {},
   "source": [
    "#### Using QuantEcon’s Routines\n",
    "\n",
    "As discussed above, `QuantEcon` has routines for handling Markov chains, including simulation.\n",
    "\n",
    "Here’s an illustration using the same P as the preceding example"
   ]
  },
  {
   "cell_type": "code",
   "execution_count": 50,
   "metadata": {},
   "outputs": [
    {
     "data": {
      "text/plain": [
       "0.2499"
      ]
     },
     "execution_count": 50,
     "metadata": {},
     "output_type": "execute_result"
    }
   ],
   "source": [
    "from quantecon import MarkovChain\n",
    "\n",
    "mc = qe.MarkovChain(P)\n",
    "X = mc.simulate(ts_length=100000)\n",
    "np.mean(X == 0)"
   ]
  },
  {
   "cell_type": "markdown",
   "metadata": {},
   "source": [
    "Of course, the `quantecon` routine is  much faster."
   ]
  },
  {
   "cell_type": "code",
   "execution_count": 51,
   "metadata": {},
   "outputs": [
    {
     "name": "stdout",
     "output_type": "stream",
     "text": [
      "CPU times: user 3.6 s, sys: 8 ms, total: 3.6 s\n",
      "Wall time: 3.6 s\n"
     ]
    },
    {
     "data": {
      "text/plain": [
       "array([0, 1, 0, ..., 1, 1, 1])"
      ]
     },
     "execution_count": 51,
     "metadata": {},
     "output_type": "execute_result"
    }
   ],
   "source": [
    "%time mc_sample_path(P, sample_size=5000000) # Our version\n"
   ]
  },
  {
   "cell_type": "code",
   "execution_count": 52,
   "metadata": {},
   "outputs": [
    {
     "name": "stdout",
     "output_type": "stream",
     "text": [
      "CPU times: user 124 ms, sys: 32 ms, total: 156 ms\n",
      "Wall time: 156 ms\n"
     ]
    },
    {
     "data": {
      "text/plain": [
       "array([0, 0, 1, ..., 1, 0, 0])"
      ]
     },
     "execution_count": 52,
     "metadata": {},
     "output_type": "execute_result"
    }
   ],
   "source": [
    "%time mc.simulate(ts_length=5000000) # qe version\n"
   ]
  },
  {
   "cell_type": "markdown",
   "metadata": {},
   "source": [
    "### Irreducibility \n",
    "\n",
    "Irreducibility is a central concept of modern Markov chain theory.\n",
    "\n",
    "Let `P` be a fixed stochastic matrix. Two states `x` and `y` are said to communicate with each other if there exist positive integers `j` and `k` such that\n",
    "$$P^j(x,y)>0$$ and $$P^k(y,x)>0$$\n",
    "In view of our discussion above, this means precisely that state `x` can be reached eventually from state `y`, and state `y` can be reached eventually from state `x`\n",
    "The stochastic matrix `P` is called irreducible if all states communicate.\n",
    "\n",
    "For example, consider the following transition probabilities for wealth of set of households\n",
    "\n",
    "![](./data/1.png)\n",
    "\n",
    "We can translate this into a stochastic matrix, putting zeros where there’s no edge between nodes. It’s clear from the graph that this stochastic matrix is irreducible: we can reach any state from any other state eventually."
   ]
  },
  {
   "cell_type": "code",
   "execution_count": 53,
   "metadata": {},
   "outputs": [
    {
     "data": {
      "text/plain": [
       "True"
      ]
     },
     "execution_count": 53,
     "metadata": {},
     "output_type": "execute_result"
    }
   ],
   "source": [
    "P = [[0.9, 0.1, 0.0],\n",
    "     [0.4, 0.4, 0.2],\n",
    "     [0.1, 0.1, 0.8]]\n",
    "\n",
    "mc = qe.MarkovChain(P, ('poor', 'middle', 'rich'))\n",
    "mc.is_irreducible"
   ]
  },
  {
   "cell_type": "markdown",
   "metadata": {},
   "source": [
    "[Back to top](#Index:) \n",
    "<a id='q10'></a>\n",
    "\n",
    "### Question 9:\n",
    "\n",
    "*10 points*\n",
    "\n",
    "Imagine now that transition probailities for wealth of set of households get updated like the following.\n",
    "\n",
    "![](./data/2.png)\n",
    "\n",
    "Define a new stochastic matrix for this problem like in the example above, and assign it to the variable `P`. Will the stochastic matrix still be reducible? Assign the boolean value to `ans10`."
   ]
  },
  {
   "cell_type": "code",
   "execution_count": 97,
   "metadata": {},
   "outputs": [],
   "source": [
    "### GRADED \n",
    "P = [[1.0, 0.0, 0.0],\n",
    "     [0.1, 0.8, 0.1],\n",
    "     [0.0, 0.2, 0.8]]\n",
    "\n",
    "mc = qe.MarkovChain(P, ('poor', 'middle', 'rich'))\n",
    "mc.is_irreducible\n",
    "\n",
    "### YOUR SOLUTION HERE\n",
    "ans10 = False\n",
    "###\n",
    "### YOUR CODE HERE\n",
    "###\n"
   ]
  },
  {
   "cell_type": "code",
   "execution_count": null,
   "metadata": {
    "collapsed": true,
    "deletable": false,
    "editable": false,
    "nbgrader": {
     "grade": true,
     "grade_id": "Question 09",
     "locked": true,
     "points": "10",
     "solution": false
    }
   },
   "outputs": [],
   "source": [
    "###\n",
    "### AUTOGRADER TEST - DO NOT REMOVE\n",
    "###\n"
   ]
  }
 ],
 "metadata": {
  "kernelspec": {
   "display_name": "Python 3 [3.7]",
   "language": "python",
   "name": "python3"
  },
  "language_info": {
   "codemirror_mode": {
    "name": "ipython",
    "version": 3
   },
   "file_extension": ".py",
   "mimetype": "text/x-python",
   "name": "python",
   "nbconvert_exporter": "python",
   "pygments_lexer": "ipython3",
   "version": "3.7.5"
  }
 },
 "nbformat": 4,
 "nbformat_minor": 4
}
