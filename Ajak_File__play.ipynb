{
  "nbformat": 4,
  "nbformat_minor": 0,
  "metadata": {
    "colab": {
      "provenance": [],
      "collapsed_sections": [
        "1lMCNlt6sNZ8",
        "XgNWicVcsNaA"
      ]
    },
    "kernelspec": {
      "display_name": "Python 3",
      "language": "python",
      "name": "python3"
    },
    "language_info": {
      "codemirror_mode": {
        "name": "ipython",
        "version": 3
      },
      "file_extension": ".py",
      "mimetype": "text/x-python",
      "name": "python",
      "nbconvert_exporter": "python",
      "pygments_lexer": "ipython3",
      "version": "3.8.5"
    }
  },
  "cells": [
    {
      "cell_type": "markdown",
      "metadata": {
        "id": "J8fUDP5FsNZv"
      },
      "source": [
        "# Capstone Objectives\n",
        "- Assist sales and marketing by improving their targeting\n",
        "- Predict sales for 2019 using the data for 2018\n",
        "- Estimate the probability of adding a new fund in 2019"
      ]
    },
    {
      "cell_type": "code",
      "metadata": {
        "id": "sN2KT5TisNZw"
      },
      "source": [
        "import numpy as np\n",
        "import pandas as pd\n",
        "import matplotlib.pyplot as plt\n",
        "\n",
        "from sklearn.model_selection import train_test_split\n",
        "from sklearn.preprocessing import StandardScaler\n",
        "from sklearn.linear_model import LinearRegression\n",
        "from sklearn.ensemble import GradientBoostingRegressor, RandomForestRegressor\n",
        "\n",
        "pd.set_option('display.max_columns', 50)"
      ],
      "execution_count": null,
      "outputs": []
    },
    {
      "cell_type": "markdown",
      "metadata": {
        "id": "WQedIQKPh-iP"
      },
      "source": []
    },
    {
      "cell_type": "code",
      "metadata": {
        "colab": {
          "base_uri": "https://localhost:8080/"
        },
        "id": "Y03RkPJZvscM",
        "outputId": "784378d5-a7c3-4e8f-df25-36efa5c1b99a"
      },
      "source": [
        "from google.colab import drive\n",
        "drive.mount('/content/drive')"
      ],
      "execution_count": null,
      "outputs": [
        {
          "output_type": "stream",
          "text": [
            "Mounted at /content/drive\n"
          ],
          "name": "stdout"
        }
      ]
    },
    {
      "cell_type": "code",
      "metadata": {
        "colab": {
          "base_uri": "https://localhost:8080/"
        },
        "id": "iKouIL6zwDXV",
        "outputId": "c410bde6-cde6-4da5-8b04-8bf5a7cac3d5"
      },
      "source": [
        "cd /content/drive/MyDrive/02_Education and Research/Data_Science/Ajak Deliverables"
      ],
      "execution_count": null,
      "outputs": [
        {
          "output_type": "stream",
          "text": [
            "/content/drive/MyDrive/02_Education and Research/Data_Science/Ajak Deliverables\n"
          ],
          "name": "stdout"
        }
      ]
    },
    {
      "cell_type": "code",
      "metadata": {
        "id": "y2OSNxCLsNZz"
      },
      "source": [
        "df = pd.read_csv(\"Transactions.csv\", parse_dates=['refresh_date'])"
      ],
      "execution_count": null,
      "outputs": []
    },
    {
      "cell_type": "code",
      "metadata": {
        "colab": {
          "base_uri": "https://localhost:8080/",
          "height": 223
        },
        "id": "ODJpt3ZYsNZ0",
        "outputId": "be015e05-672d-40fa-e1ab-57d55c519de6"
      },
      "source": [
        "df.head()"
      ],
      "execution_count": null,
      "outputs": [
        {
          "output_type": "execute_result",
          "data": {
            "text/html": [
              "<div>\n",
              "<style scoped>\n",
              "    .dataframe tbody tr th:only-of-type {\n",
              "        vertical-align: middle;\n",
              "    }\n",
              "\n",
              "    .dataframe tbody tr th {\n",
              "        vertical-align: top;\n",
              "    }\n",
              "\n",
              "    .dataframe thead th {\n",
              "        text-align: right;\n",
              "    }\n",
              "</style>\n",
              "<table border=\"1\" class=\"dataframe\">\n",
              "  <thead>\n",
              "    <tr style=\"text-align: right;\">\n",
              "      <th></th>\n",
              "      <th>CONTACT_ID</th>\n",
              "      <th>no_of_sales_12M_1</th>\n",
              "      <th>no_of_Redemption_12M_1</th>\n",
              "      <th>no_of_sales_12M_10K</th>\n",
              "      <th>no_of_Redemption_12M_10K</th>\n",
              "      <th>no_of_funds_sold_12M_1</th>\n",
              "      <th>no_of_funds_redeemed_12M_1</th>\n",
              "      <th>no_of_fund_sales_12M_10K</th>\n",
              "      <th>no_of_funds_Redemption_12M_10K</th>\n",
              "      <th>no_of_assetclass_sold_12M_1</th>\n",
              "      <th>no_of_assetclass_redeemed_12M_1</th>\n",
              "      <th>no_of_assetclass_sales_12M_10K</th>\n",
              "      <th>no_of_assetclass_Redemption_12M_10K</th>\n",
              "      <th>No_of_fund_curr</th>\n",
              "      <th>No_of_asset_curr</th>\n",
              "      <th>AUM</th>\n",
              "      <th>sales_curr</th>\n",
              "      <th>sales_12M</th>\n",
              "      <th>redemption_curr</th>\n",
              "      <th>redemption_12M</th>\n",
              "      <th>new_Fund_added_12M</th>\n",
              "      <th>redemption_rate</th>\n",
              "      <th>aum_AC_EQUITY</th>\n",
              "      <th>aum_AC_FIXED_INCOME_MUNI</th>\n",
              "      <th>aum_AC_FIXED_INCOME_TAXABLE</th>\n",
              "      <th>aum_AC_MONEY</th>\n",
              "      <th>aum_AC_MULTIPLE</th>\n",
              "      <th>aum_AC_PHYSICAL_COMMODITY</th>\n",
              "      <th>aum_AC_REAL_ESTATE</th>\n",
              "      <th>aum_AC_TARGET</th>\n",
              "      <th>aum_P_529</th>\n",
              "      <th>aum_P_ALT</th>\n",
              "      <th>aum_P_CEF</th>\n",
              "      <th>aum_P_ETF</th>\n",
              "      <th>aum_P_MF</th>\n",
              "      <th>aum_P_SMA</th>\n",
              "      <th>aum_P_UCITS</th>\n",
              "      <th>aum_P_UIT</th>\n",
              "      <th>refresh_date</th>\n",
              "    </tr>\n",
              "  </thead>\n",
              "  <tbody>\n",
              "    <tr>\n",
              "      <th>0</th>\n",
              "      <td>85102111664960504040</td>\n",
              "      <td>3096</td>\n",
              "      <td>6592</td>\n",
              "      <td>302</td>\n",
              "      <td>157</td>\n",
              "      <td>8</td>\n",
              "      <td>13</td>\n",
              "      <td>7</td>\n",
              "      <td>7</td>\n",
              "      <td>2</td>\n",
              "      <td>3</td>\n",
              "      <td>2</td>\n",
              "      <td>2</td>\n",
              "      <td>9</td>\n",
              "      <td>2</td>\n",
              "      <td>1.909702e+07</td>\n",
              "      <td>399995.834888</td>\n",
              "      <td>1.259993e+07</td>\n",
              "      <td>-231714.43334</td>\n",
              "      <td>-6.557185e+06</td>\n",
              "      <td>0</td>\n",
              "      <td>-0.012133</td>\n",
              "      <td>9.386941e+06</td>\n",
              "      <td>9.743856e+06</td>\n",
              "      <td>-9655.913728</td>\n",
              "      <td>0.0</td>\n",
              "      <td>-24116.993988</td>\n",
              "      <td>0.0</td>\n",
              "      <td>0.0</td>\n",
              "      <td>0.0</td>\n",
              "      <td>0.0</td>\n",
              "      <td>0.0</td>\n",
              "      <td>0.0</td>\n",
              "      <td>0.0</td>\n",
              "      <td>8.431248e+06</td>\n",
              "      <td>1.066578e+07</td>\n",
              "      <td>0.0</td>\n",
              "      <td>0.0</td>\n",
              "      <td>2017-12-31</td>\n",
              "    </tr>\n",
              "    <tr>\n",
              "      <th>1</th>\n",
              "      <td>4492101</td>\n",
              "      <td>0</td>\n",
              "      <td>0</td>\n",
              "      <td>0</td>\n",
              "      <td>0</td>\n",
              "      <td>0</td>\n",
              "      <td>0</td>\n",
              "      <td>0</td>\n",
              "      <td>0</td>\n",
              "      <td>0</td>\n",
              "      <td>0</td>\n",
              "      <td>0</td>\n",
              "      <td>0</td>\n",
              "      <td>0</td>\n",
              "      <td>0</td>\n",
              "      <td>-1.468574e+04</td>\n",
              "      <td>0.000000</td>\n",
              "      <td>0.000000e+00</td>\n",
              "      <td>0.00000</td>\n",
              "      <td>0.000000e+00</td>\n",
              "      <td>0</td>\n",
              "      <td>0.000000</td>\n",
              "      <td>-7.102100e+03</td>\n",
              "      <td>0.000000e+00</td>\n",
              "      <td>-7583.640000</td>\n",
              "      <td>0.0</td>\n",
              "      <td>0.000000</td>\n",
              "      <td>0.0</td>\n",
              "      <td>0.0</td>\n",
              "      <td>0.0</td>\n",
              "      <td>0.0</td>\n",
              "      <td>0.0</td>\n",
              "      <td>0.0</td>\n",
              "      <td>0.0</td>\n",
              "      <td>-1.468574e+04</td>\n",
              "      <td>0.000000e+00</td>\n",
              "      <td>0.0</td>\n",
              "      <td>0.0</td>\n",
              "      <td>2017-12-31</td>\n",
              "    </tr>\n",
              "    <tr>\n",
              "      <th>2</th>\n",
              "      <td>85102140943881291064</td>\n",
              "      <td>0</td>\n",
              "      <td>1</td>\n",
              "      <td>0</td>\n",
              "      <td>0</td>\n",
              "      <td>0</td>\n",
              "      <td>1</td>\n",
              "      <td>0</td>\n",
              "      <td>0</td>\n",
              "      <td>0</td>\n",
              "      <td>1</td>\n",
              "      <td>0</td>\n",
              "      <td>0</td>\n",
              "      <td>0</td>\n",
              "      <td>0</td>\n",
              "      <td>-7.164047e+04</td>\n",
              "      <td>0.000000</td>\n",
              "      <td>0.000000e+00</td>\n",
              "      <td>0.00000</td>\n",
              "      <td>-1.950000e+02</td>\n",
              "      <td>0</td>\n",
              "      <td>0.000000</td>\n",
              "      <td>-7.164047e+04</td>\n",
              "      <td>0.000000e+00</td>\n",
              "      <td>0.000000</td>\n",
              "      <td>0.0</td>\n",
              "      <td>0.000000</td>\n",
              "      <td>0.0</td>\n",
              "      <td>0.0</td>\n",
              "      <td>0.0</td>\n",
              "      <td>0.0</td>\n",
              "      <td>0.0</td>\n",
              "      <td>0.0</td>\n",
              "      <td>0.0</td>\n",
              "      <td>-7.164047e+04</td>\n",
              "      <td>0.000000e+00</td>\n",
              "      <td>0.0</td>\n",
              "      <td>0.0</td>\n",
              "      <td>2017-12-31</td>\n",
              "    </tr>\n",
              "    <tr>\n",
              "      <th>3</th>\n",
              "      <td>85202121774856516280</td>\n",
              "      <td>1</td>\n",
              "      <td>0</td>\n",
              "      <td>0</td>\n",
              "      <td>0</td>\n",
              "      <td>1</td>\n",
              "      <td>0</td>\n",
              "      <td>0</td>\n",
              "      <td>0</td>\n",
              "      <td>1</td>\n",
              "      <td>0</td>\n",
              "      <td>0</td>\n",
              "      <td>0</td>\n",
              "      <td>2</td>\n",
              "      <td>2</td>\n",
              "      <td>3.425462e+05</td>\n",
              "      <td>0.000000</td>\n",
              "      <td>1.164760e+03</td>\n",
              "      <td>0.00000</td>\n",
              "      <td>0.000000e+00</td>\n",
              "      <td>1</td>\n",
              "      <td>0.000000</td>\n",
              "      <td>0.000000e+00</td>\n",
              "      <td>7.030151e+04</td>\n",
              "      <td>272244.700000</td>\n",
              "      <td>0.0</td>\n",
              "      <td>0.000000</td>\n",
              "      <td>0.0</td>\n",
              "      <td>0.0</td>\n",
              "      <td>0.0</td>\n",
              "      <td>0.0</td>\n",
              "      <td>0.0</td>\n",
              "      <td>0.0</td>\n",
              "      <td>0.0</td>\n",
              "      <td>3.425462e+05</td>\n",
              "      <td>0.000000e+00</td>\n",
              "      <td>0.0</td>\n",
              "      <td>0.0</td>\n",
              "      <td>2017-12-31</td>\n",
              "    </tr>\n",
              "    <tr>\n",
              "      <th>4</th>\n",
              "      <td>0360380</td>\n",
              "      <td>7</td>\n",
              "      <td>0</td>\n",
              "      <td>0</td>\n",
              "      <td>0</td>\n",
              "      <td>1</td>\n",
              "      <td>0</td>\n",
              "      <td>0</td>\n",
              "      <td>0</td>\n",
              "      <td>1</td>\n",
              "      <td>0</td>\n",
              "      <td>0</td>\n",
              "      <td>0</td>\n",
              "      <td>2</td>\n",
              "      <td>0</td>\n",
              "      <td>-2.262721e+05</td>\n",
              "      <td>0.000000</td>\n",
              "      <td>3.278145e+03</td>\n",
              "      <td>0.00000</td>\n",
              "      <td>0.000000e+00</td>\n",
              "      <td>0</td>\n",
              "      <td>0.000000</td>\n",
              "      <td>-1.113566e+05</td>\n",
              "      <td>-2.018566e+04</td>\n",
              "      <td>0.000000</td>\n",
              "      <td>0.0</td>\n",
              "      <td>-94729.890000</td>\n",
              "      <td>0.0</td>\n",
              "      <td>0.0</td>\n",
              "      <td>0.0</td>\n",
              "      <td>0.0</td>\n",
              "      <td>0.0</td>\n",
              "      <td>0.0</td>\n",
              "      <td>0.0</td>\n",
              "      <td>-1.315423e+05</td>\n",
              "      <td>-9.472989e+04</td>\n",
              "      <td>0.0</td>\n",
              "      <td>0.0</td>\n",
              "      <td>2017-12-31</td>\n",
              "    </tr>\n",
              "  </tbody>\n",
              "</table>\n",
              "</div>"
            ],
            "text/plain": [
              "             CONTACT_ID  no_of_sales_12M_1  no_of_Redemption_12M_1  \\\n",
              "0  85102111664960504040               3096                    6592   \n",
              "1               4492101                  0                       0   \n",
              "2  85102140943881291064                  0                       1   \n",
              "3  85202121774856516280                  1                       0   \n",
              "4               0360380                  7                       0   \n",
              "\n",
              "   no_of_sales_12M_10K  no_of_Redemption_12M_10K  no_of_funds_sold_12M_1  \\\n",
              "0                  302                       157                       8   \n",
              "1                    0                         0                       0   \n",
              "2                    0                         0                       0   \n",
              "3                    0                         0                       1   \n",
              "4                    0                         0                       1   \n",
              "\n",
              "   no_of_funds_redeemed_12M_1  no_of_fund_sales_12M_10K  \\\n",
              "0                          13                         7   \n",
              "1                           0                         0   \n",
              "2                           1                         0   \n",
              "3                           0                         0   \n",
              "4                           0                         0   \n",
              "\n",
              "   no_of_funds_Redemption_12M_10K  no_of_assetclass_sold_12M_1  \\\n",
              "0                               7                            2   \n",
              "1                               0                            0   \n",
              "2                               0                            0   \n",
              "3                               0                            1   \n",
              "4                               0                            1   \n",
              "\n",
              "   no_of_assetclass_redeemed_12M_1  no_of_assetclass_sales_12M_10K  \\\n",
              "0                                3                               2   \n",
              "1                                0                               0   \n",
              "2                                1                               0   \n",
              "3                                0                               0   \n",
              "4                                0                               0   \n",
              "\n",
              "   no_of_assetclass_Redemption_12M_10K  No_of_fund_curr  No_of_asset_curr  \\\n",
              "0                                    2                9                 2   \n",
              "1                                    0                0                 0   \n",
              "2                                    0                0                 0   \n",
              "3                                    0                2                 2   \n",
              "4                                    0                2                 0   \n",
              "\n",
              "            AUM     sales_curr     sales_12M  redemption_curr  redemption_12M  \\\n",
              "0  1.909702e+07  399995.834888  1.259993e+07    -231714.43334   -6.557185e+06   \n",
              "1 -1.468574e+04       0.000000  0.000000e+00          0.00000    0.000000e+00   \n",
              "2 -7.164047e+04       0.000000  0.000000e+00          0.00000   -1.950000e+02   \n",
              "3  3.425462e+05       0.000000  1.164760e+03          0.00000    0.000000e+00   \n",
              "4 -2.262721e+05       0.000000  3.278145e+03          0.00000    0.000000e+00   \n",
              "\n",
              "   new_Fund_added_12M  redemption_rate  aum_AC_EQUITY  \\\n",
              "0                   0        -0.012133   9.386941e+06   \n",
              "1                   0         0.000000  -7.102100e+03   \n",
              "2                   0         0.000000  -7.164047e+04   \n",
              "3                   1         0.000000   0.000000e+00   \n",
              "4                   0         0.000000  -1.113566e+05   \n",
              "\n",
              "   aum_AC_FIXED_INCOME_MUNI  aum_AC_FIXED_INCOME_TAXABLE  aum_AC_MONEY  \\\n",
              "0              9.743856e+06                 -9655.913728           0.0   \n",
              "1              0.000000e+00                 -7583.640000           0.0   \n",
              "2              0.000000e+00                     0.000000           0.0   \n",
              "3              7.030151e+04                272244.700000           0.0   \n",
              "4             -2.018566e+04                     0.000000           0.0   \n",
              "\n",
              "   aum_AC_MULTIPLE  aum_AC_PHYSICAL_COMMODITY  aum_AC_REAL_ESTATE  \\\n",
              "0    -24116.993988                        0.0                 0.0   \n",
              "1         0.000000                        0.0                 0.0   \n",
              "2         0.000000                        0.0                 0.0   \n",
              "3         0.000000                        0.0                 0.0   \n",
              "4    -94729.890000                        0.0                 0.0   \n",
              "\n",
              "   aum_AC_TARGET  aum_P_529  aum_P_ALT  aum_P_CEF  aum_P_ETF      aum_P_MF  \\\n",
              "0            0.0        0.0        0.0        0.0        0.0  8.431248e+06   \n",
              "1            0.0        0.0        0.0        0.0        0.0 -1.468574e+04   \n",
              "2            0.0        0.0        0.0        0.0        0.0 -7.164047e+04   \n",
              "3            0.0        0.0        0.0        0.0        0.0  3.425462e+05   \n",
              "4            0.0        0.0        0.0        0.0        0.0 -1.315423e+05   \n",
              "\n",
              "      aum_P_SMA  aum_P_UCITS  aum_P_UIT refresh_date  \n",
              "0  1.066578e+07          0.0        0.0   2017-12-31  \n",
              "1  0.000000e+00          0.0        0.0   2017-12-31  \n",
              "2  0.000000e+00          0.0        0.0   2017-12-31  \n",
              "3  0.000000e+00          0.0        0.0   2017-12-31  \n",
              "4 -9.472989e+04          0.0        0.0   2017-12-31  "
            ]
          },
          "metadata": {},
          "execution_count": 6
        }
      ]
    },
    {
      "cell_type": "code",
      "metadata": {
        "colab": {
          "base_uri": "https://localhost:8080/"
        },
        "id": "7PrvhM7hK4Q4",
        "outputId": "22e410e2-4051-44bc-d181-642e764592aa"
      },
      "source": [
        "df.shape"
      ],
      "execution_count": null,
      "outputs": [
        {
          "output_type": "execute_result",
          "data": {
            "text/plain": [
              "(360325, 40)"
            ]
          },
          "metadata": {},
          "execution_count": 67
        }
      ]
    },
    {
      "cell_type": "code",
      "metadata": {
        "colab": {
          "base_uri": "https://localhost:8080/"
        },
        "id": "7ycEwIeAY6oW",
        "outputId": "e3d9e74d-35ad-4722-9597-0e74a9a7d74f"
      },
      "source": [
        "df['CONTACT_ID'].value_counts()"
      ],
      "execution_count": null,
      "outputs": [
        {
          "output_type": "execute_result",
          "data": {
            "text/plain": [
              "85201141034664489650    36\n",
              "4330197                 36\n",
              "85101162853723556649    36\n",
              "0269895                 36\n",
              "4413761                 36\n",
              "                        ..\n",
              "4345882                 32\n",
              "85102161373760142116    32\n",
              "85102122307327011208    32\n",
              "4391177                 32\n",
              "10751182883962425731    32\n",
              "Name: CONTACT_ID, Length: 10010, dtype: int64"
            ]
          },
          "metadata": {},
          "execution_count": 7
        }
      ]
    },
    {
      "cell_type": "code",
      "metadata": {
        "colab": {
          "base_uri": "https://localhost:8080/"
        },
        "id": "_j1deonCsNZ2",
        "outputId": "743354b6-8fdf-46cb-a07b-66f79cc0625b"
      },
      "source": [
        "df['refresh_date'].dt.year.value_counts()"
      ],
      "execution_count": null,
      "outputs": [
        {
          "output_type": "execute_result",
          "data": {
            "text/plain": [
              "2019    120120\n",
              "2018    120120\n",
              "2020    110075\n",
              "2017     10010\n",
              "Name: refresh_date, dtype: int64"
            ]
          },
          "metadata": {},
          "execution_count": 8
        }
      ]
    },
    {
      "cell_type": "code",
      "metadata": {
        "id": "rJfx-Y9Uy4is"
      },
      "source": [
        "df['d_year']=df['refresh_date'].dt.year"
      ],
      "execution_count": null,
      "outputs": []
    },
    {
      "cell_type": "code",
      "metadata": {
        "colab": {
          "base_uri": "https://localhost:8080/"
        },
        "id": "jvynUyu708Vz",
        "outputId": "e31f2aa6-ee05-498b-efbb-e552113b84d3"
      },
      "source": [
        "df.d_year"
      ],
      "execution_count": null,
      "outputs": [
        {
          "output_type": "execute_result",
          "data": {
            "text/plain": [
              "0         2017\n",
              "1         2017\n",
              "2         2017\n",
              "3         2017\n",
              "4         2017\n",
              "          ... \n",
              "360320    2020\n",
              "360321    2020\n",
              "360322    2020\n",
              "360323    2020\n",
              "360324    2020\n",
              "Name: d_year, Length: 360325, dtype: int64"
            ]
          },
          "metadata": {},
          "execution_count": 83
        }
      ]
    },
    {
      "cell_type": "code",
      "metadata": {
        "id": "EZsEbS9Q7Rwk"
      },
      "source": [
        "new_data=df"
      ],
      "execution_count": null,
      "outputs": []
    },
    {
      "cell_type": "code",
      "metadata": {
        "colab": {
          "base_uri": "https://localhost:8080/",
          "height": 437
        },
        "id": "vg3yLqoQ9xfD",
        "outputId": "3d01fc92-33ca-4760-b3fa-84b3fe774d67"
      },
      "source": [
        "new_data"
      ],
      "execution_count": null,
      "outputs": [
        {
          "output_type": "execute_result",
          "data": {
            "text/html": [
              "<div>\n",
              "<style scoped>\n",
              "    .dataframe tbody tr th:only-of-type {\n",
              "        vertical-align: middle;\n",
              "    }\n",
              "\n",
              "    .dataframe tbody tr th {\n",
              "        vertical-align: top;\n",
              "    }\n",
              "\n",
              "    .dataframe thead th {\n",
              "        text-align: right;\n",
              "    }\n",
              "</style>\n",
              "<table border=\"1\" class=\"dataframe\">\n",
              "  <thead>\n",
              "    <tr style=\"text-align: right;\">\n",
              "      <th></th>\n",
              "      <th>CONTACT_ID</th>\n",
              "      <th>no_of_sales_12M_1</th>\n",
              "      <th>no_of_Redemption_12M_1</th>\n",
              "      <th>no_of_sales_12M_10K</th>\n",
              "      <th>no_of_Redemption_12M_10K</th>\n",
              "      <th>no_of_funds_sold_12M_1</th>\n",
              "      <th>no_of_funds_redeemed_12M_1</th>\n",
              "      <th>no_of_fund_sales_12M_10K</th>\n",
              "      <th>no_of_funds_Redemption_12M_10K</th>\n",
              "      <th>no_of_assetclass_sold_12M_1</th>\n",
              "      <th>no_of_assetclass_redeemed_12M_1</th>\n",
              "      <th>no_of_assetclass_sales_12M_10K</th>\n",
              "      <th>no_of_assetclass_Redemption_12M_10K</th>\n",
              "      <th>No_of_fund_curr</th>\n",
              "      <th>No_of_asset_curr</th>\n",
              "      <th>AUM</th>\n",
              "      <th>sales_curr</th>\n",
              "      <th>sales_12M</th>\n",
              "      <th>redemption_curr</th>\n",
              "      <th>redemption_12M</th>\n",
              "      <th>new_Fund_added_12M</th>\n",
              "      <th>redemption_rate</th>\n",
              "      <th>aum_AC_EQUITY</th>\n",
              "      <th>aum_AC_FIXED_INCOME_MUNI</th>\n",
              "      <th>aum_AC_FIXED_INCOME_TAXABLE</th>\n",
              "      <th>aum_AC_MONEY</th>\n",
              "      <th>aum_AC_MULTIPLE</th>\n",
              "      <th>aum_AC_PHYSICAL_COMMODITY</th>\n",
              "      <th>aum_AC_REAL_ESTATE</th>\n",
              "      <th>aum_AC_TARGET</th>\n",
              "      <th>aum_P_529</th>\n",
              "      <th>aum_P_ALT</th>\n",
              "      <th>aum_P_CEF</th>\n",
              "      <th>aum_P_ETF</th>\n",
              "      <th>aum_P_MF</th>\n",
              "      <th>aum_P_SMA</th>\n",
              "      <th>aum_P_UCITS</th>\n",
              "      <th>aum_P_UIT</th>\n",
              "      <th>refresh_date</th>\n",
              "      <th>total_sales</th>\n",
              "      <th>d_year</th>\n",
              "    </tr>\n",
              "  </thead>\n",
              "  <tbody>\n",
              "    <tr>\n",
              "      <th>0</th>\n",
              "      <td>85102111664960504040</td>\n",
              "      <td>3096</td>\n",
              "      <td>6592</td>\n",
              "      <td>302</td>\n",
              "      <td>157</td>\n",
              "      <td>8</td>\n",
              "      <td>13</td>\n",
              "      <td>7</td>\n",
              "      <td>7</td>\n",
              "      <td>2</td>\n",
              "      <td>3</td>\n",
              "      <td>2</td>\n",
              "      <td>2</td>\n",
              "      <td>9</td>\n",
              "      <td>2</td>\n",
              "      <td>1.909702e+07</td>\n",
              "      <td>399995.834888</td>\n",
              "      <td>1.259993e+07</td>\n",
              "      <td>-231714.43334</td>\n",
              "      <td>-6.557185e+06</td>\n",
              "      <td>0</td>\n",
              "      <td>-0.012133</td>\n",
              "      <td>9.386941e+06</td>\n",
              "      <td>9.743856e+06</td>\n",
              "      <td>-9.655914e+03</td>\n",
              "      <td>0.0</td>\n",
              "      <td>-24116.993988</td>\n",
              "      <td>0.0</td>\n",
              "      <td>0.0</td>\n",
              "      <td>0.000</td>\n",
              "      <td>0.000</td>\n",
              "      <td>0.0</td>\n",
              "      <td>0.0</td>\n",
              "      <td>0.0</td>\n",
              "      <td>8.431248e+06</td>\n",
              "      <td>1.066578e+07</td>\n",
              "      <td>0.0</td>\n",
              "      <td>0.0</td>\n",
              "      <td>2017-12-31</td>\n",
              "      <td>1.299992e+07</td>\n",
              "      <td>2017</td>\n",
              "    </tr>\n",
              "    <tr>\n",
              "      <th>1</th>\n",
              "      <td>4492101</td>\n",
              "      <td>0</td>\n",
              "      <td>0</td>\n",
              "      <td>0</td>\n",
              "      <td>0</td>\n",
              "      <td>0</td>\n",
              "      <td>0</td>\n",
              "      <td>0</td>\n",
              "      <td>0</td>\n",
              "      <td>0</td>\n",
              "      <td>0</td>\n",
              "      <td>0</td>\n",
              "      <td>0</td>\n",
              "      <td>0</td>\n",
              "      <td>0</td>\n",
              "      <td>-1.468574e+04</td>\n",
              "      <td>0.000000</td>\n",
              "      <td>0.000000e+00</td>\n",
              "      <td>0.00000</td>\n",
              "      <td>0.000000e+00</td>\n",
              "      <td>0</td>\n",
              "      <td>0.000000</td>\n",
              "      <td>-7.102100e+03</td>\n",
              "      <td>0.000000e+00</td>\n",
              "      <td>-7.583640e+03</td>\n",
              "      <td>0.0</td>\n",
              "      <td>0.000000</td>\n",
              "      <td>0.0</td>\n",
              "      <td>0.0</td>\n",
              "      <td>0.000</td>\n",
              "      <td>0.000</td>\n",
              "      <td>0.0</td>\n",
              "      <td>0.0</td>\n",
              "      <td>0.0</td>\n",
              "      <td>-1.468574e+04</td>\n",
              "      <td>0.000000e+00</td>\n",
              "      <td>0.0</td>\n",
              "      <td>0.0</td>\n",
              "      <td>2017-12-31</td>\n",
              "      <td>0.000000e+00</td>\n",
              "      <td>2017</td>\n",
              "    </tr>\n",
              "    <tr>\n",
              "      <th>2</th>\n",
              "      <td>85102140943881291064</td>\n",
              "      <td>0</td>\n",
              "      <td>1</td>\n",
              "      <td>0</td>\n",
              "      <td>0</td>\n",
              "      <td>0</td>\n",
              "      <td>1</td>\n",
              "      <td>0</td>\n",
              "      <td>0</td>\n",
              "      <td>0</td>\n",
              "      <td>1</td>\n",
              "      <td>0</td>\n",
              "      <td>0</td>\n",
              "      <td>0</td>\n",
              "      <td>0</td>\n",
              "      <td>-7.164047e+04</td>\n",
              "      <td>0.000000</td>\n",
              "      <td>0.000000e+00</td>\n",
              "      <td>0.00000</td>\n",
              "      <td>-1.950000e+02</td>\n",
              "      <td>0</td>\n",
              "      <td>0.000000</td>\n",
              "      <td>-7.164047e+04</td>\n",
              "      <td>0.000000e+00</td>\n",
              "      <td>0.000000e+00</td>\n",
              "      <td>0.0</td>\n",
              "      <td>0.000000</td>\n",
              "      <td>0.0</td>\n",
              "      <td>0.0</td>\n",
              "      <td>0.000</td>\n",
              "      <td>0.000</td>\n",
              "      <td>0.0</td>\n",
              "      <td>0.0</td>\n",
              "      <td>0.0</td>\n",
              "      <td>-7.164047e+04</td>\n",
              "      <td>0.000000e+00</td>\n",
              "      <td>0.0</td>\n",
              "      <td>0.0</td>\n",
              "      <td>2017-12-31</td>\n",
              "      <td>0.000000e+00</td>\n",
              "      <td>2017</td>\n",
              "    </tr>\n",
              "    <tr>\n",
              "      <th>3</th>\n",
              "      <td>85202121774856516280</td>\n",
              "      <td>1</td>\n",
              "      <td>0</td>\n",
              "      <td>0</td>\n",
              "      <td>0</td>\n",
              "      <td>1</td>\n",
              "      <td>0</td>\n",
              "      <td>0</td>\n",
              "      <td>0</td>\n",
              "      <td>1</td>\n",
              "      <td>0</td>\n",
              "      <td>0</td>\n",
              "      <td>0</td>\n",
              "      <td>2</td>\n",
              "      <td>2</td>\n",
              "      <td>3.425462e+05</td>\n",
              "      <td>0.000000</td>\n",
              "      <td>1.164760e+03</td>\n",
              "      <td>0.00000</td>\n",
              "      <td>0.000000e+00</td>\n",
              "      <td>1</td>\n",
              "      <td>0.000000</td>\n",
              "      <td>0.000000e+00</td>\n",
              "      <td>7.030151e+04</td>\n",
              "      <td>2.722447e+05</td>\n",
              "      <td>0.0</td>\n",
              "      <td>0.000000</td>\n",
              "      <td>0.0</td>\n",
              "      <td>0.0</td>\n",
              "      <td>0.000</td>\n",
              "      <td>0.000</td>\n",
              "      <td>0.0</td>\n",
              "      <td>0.0</td>\n",
              "      <td>0.0</td>\n",
              "      <td>3.425462e+05</td>\n",
              "      <td>0.000000e+00</td>\n",
              "      <td>0.0</td>\n",
              "      <td>0.0</td>\n",
              "      <td>2017-12-31</td>\n",
              "      <td>1.164760e+03</td>\n",
              "      <td>2017</td>\n",
              "    </tr>\n",
              "    <tr>\n",
              "      <th>4</th>\n",
              "      <td>0360380</td>\n",
              "      <td>7</td>\n",
              "      <td>0</td>\n",
              "      <td>0</td>\n",
              "      <td>0</td>\n",
              "      <td>1</td>\n",
              "      <td>0</td>\n",
              "      <td>0</td>\n",
              "      <td>0</td>\n",
              "      <td>1</td>\n",
              "      <td>0</td>\n",
              "      <td>0</td>\n",
              "      <td>0</td>\n",
              "      <td>2</td>\n",
              "      <td>0</td>\n",
              "      <td>-2.262721e+05</td>\n",
              "      <td>0.000000</td>\n",
              "      <td>3.278145e+03</td>\n",
              "      <td>0.00000</td>\n",
              "      <td>0.000000e+00</td>\n",
              "      <td>0</td>\n",
              "      <td>0.000000</td>\n",
              "      <td>-1.113566e+05</td>\n",
              "      <td>-2.018566e+04</td>\n",
              "      <td>0.000000e+00</td>\n",
              "      <td>0.0</td>\n",
              "      <td>-94729.890000</td>\n",
              "      <td>0.0</td>\n",
              "      <td>0.0</td>\n",
              "      <td>0.000</td>\n",
              "      <td>0.000</td>\n",
              "      <td>0.0</td>\n",
              "      <td>0.0</td>\n",
              "      <td>0.0</td>\n",
              "      <td>-1.315423e+05</td>\n",
              "      <td>-9.472989e+04</td>\n",
              "      <td>0.0</td>\n",
              "      <td>0.0</td>\n",
              "      <td>2017-12-31</td>\n",
              "      <td>3.278145e+03</td>\n",
              "      <td>2017</td>\n",
              "    </tr>\n",
              "    <tr>\n",
              "      <th>...</th>\n",
              "      <td>...</td>\n",
              "      <td>...</td>\n",
              "      <td>...</td>\n",
              "      <td>...</td>\n",
              "      <td>...</td>\n",
              "      <td>...</td>\n",
              "      <td>...</td>\n",
              "      <td>...</td>\n",
              "      <td>...</td>\n",
              "      <td>...</td>\n",
              "      <td>...</td>\n",
              "      <td>...</td>\n",
              "      <td>...</td>\n",
              "      <td>...</td>\n",
              "      <td>...</td>\n",
              "      <td>...</td>\n",
              "      <td>...</td>\n",
              "      <td>...</td>\n",
              "      <td>...</td>\n",
              "      <td>...</td>\n",
              "      <td>...</td>\n",
              "      <td>...</td>\n",
              "      <td>...</td>\n",
              "      <td>...</td>\n",
              "      <td>...</td>\n",
              "      <td>...</td>\n",
              "      <td>...</td>\n",
              "      <td>...</td>\n",
              "      <td>...</td>\n",
              "      <td>...</td>\n",
              "      <td>...</td>\n",
              "      <td>...</td>\n",
              "      <td>...</td>\n",
              "      <td>...</td>\n",
              "      <td>...</td>\n",
              "      <td>...</td>\n",
              "      <td>...</td>\n",
              "      <td>...</td>\n",
              "      <td>...</td>\n",
              "      <td>...</td>\n",
              "      <td>...</td>\n",
              "    </tr>\n",
              "    <tr>\n",
              "      <th>360320</th>\n",
              "      <td>85101112114944243030</td>\n",
              "      <td>52</td>\n",
              "      <td>33</td>\n",
              "      <td>0</td>\n",
              "      <td>0</td>\n",
              "      <td>5</td>\n",
              "      <td>5</td>\n",
              "      <td>0</td>\n",
              "      <td>0</td>\n",
              "      <td>2</td>\n",
              "      <td>2</td>\n",
              "      <td>0</td>\n",
              "      <td>0</td>\n",
              "      <td>5</td>\n",
              "      <td>2</td>\n",
              "      <td>1.467283e+05</td>\n",
              "      <td>1948.425000</td>\n",
              "      <td>7.944085e+04</td>\n",
              "      <td>-12653.65500</td>\n",
              "      <td>-1.701488e+04</td>\n",
              "      <td>1</td>\n",
              "      <td>-0.086238</td>\n",
              "      <td>4.351357e+04</td>\n",
              "      <td>-2.821572e+04</td>\n",
              "      <td>1.398568e+05</td>\n",
              "      <td>0.0</td>\n",
              "      <td>-8426.425000</td>\n",
              "      <td>0.0</td>\n",
              "      <td>0.0</td>\n",
              "      <td>0.000</td>\n",
              "      <td>0.000</td>\n",
              "      <td>0.0</td>\n",
              "      <td>0.0</td>\n",
              "      <td>0.0</td>\n",
              "      <td>1.467283e+05</td>\n",
              "      <td>0.000000e+00</td>\n",
              "      <td>0.0</td>\n",
              "      <td>0.0</td>\n",
              "      <td>2020-11-30</td>\n",
              "      <td>8.138928e+04</td>\n",
              "      <td>2020</td>\n",
              "    </tr>\n",
              "    <tr>\n",
              "      <th>360321</th>\n",
              "      <td>0344423</td>\n",
              "      <td>0</td>\n",
              "      <td>0</td>\n",
              "      <td>0</td>\n",
              "      <td>0</td>\n",
              "      <td>0</td>\n",
              "      <td>0</td>\n",
              "      <td>0</td>\n",
              "      <td>0</td>\n",
              "      <td>0</td>\n",
              "      <td>0</td>\n",
              "      <td>0</td>\n",
              "      <td>0</td>\n",
              "      <td>0</td>\n",
              "      <td>0</td>\n",
              "      <td>-1.662076e+04</td>\n",
              "      <td>0.000000</td>\n",
              "      <td>0.000000e+00</td>\n",
              "      <td>0.00000</td>\n",
              "      <td>0.000000e+00</td>\n",
              "      <td>0</td>\n",
              "      <td>0.000000</td>\n",
              "      <td>-1.662076e+04</td>\n",
              "      <td>0.000000e+00</td>\n",
              "      <td>0.000000e+00</td>\n",
              "      <td>0.0</td>\n",
              "      <td>0.000000</td>\n",
              "      <td>0.0</td>\n",
              "      <td>0.0</td>\n",
              "      <td>0.000</td>\n",
              "      <td>0.000</td>\n",
              "      <td>0.0</td>\n",
              "      <td>0.0</td>\n",
              "      <td>0.0</td>\n",
              "      <td>0.000000e+00</td>\n",
              "      <td>-1.662076e+04</td>\n",
              "      <td>0.0</td>\n",
              "      <td>0.0</td>\n",
              "      <td>2020-11-30</td>\n",
              "      <td>0.000000e+00</td>\n",
              "      <td>2020</td>\n",
              "    </tr>\n",
              "    <tr>\n",
              "      <th>360322</th>\n",
              "      <td>85202111883442782693</td>\n",
              "      <td>33</td>\n",
              "      <td>2</td>\n",
              "      <td>0</td>\n",
              "      <td>0</td>\n",
              "      <td>7</td>\n",
              "      <td>1</td>\n",
              "      <td>0</td>\n",
              "      <td>0</td>\n",
              "      <td>2</td>\n",
              "      <td>1</td>\n",
              "      <td>0</td>\n",
              "      <td>0</td>\n",
              "      <td>4</td>\n",
              "      <td>3</td>\n",
              "      <td>3.265858e+04</td>\n",
              "      <td>0.000000</td>\n",
              "      <td>2.511930e+03</td>\n",
              "      <td>0.00000</td>\n",
              "      <td>-3.913810e+03</td>\n",
              "      <td>3</td>\n",
              "      <td>0.000000</td>\n",
              "      <td>-2.334539e+04</td>\n",
              "      <td>1.223747e+04</td>\n",
              "      <td>3.180329e+04</td>\n",
              "      <td>0.0</td>\n",
              "      <td>0.000000</td>\n",
              "      <td>0.0</td>\n",
              "      <td>0.0</td>\n",
              "      <td>11963.205</td>\n",
              "      <td>11963.205</td>\n",
              "      <td>0.0</td>\n",
              "      <td>0.0</td>\n",
              "      <td>0.0</td>\n",
              "      <td>2.069537e+04</td>\n",
              "      <td>0.000000e+00</td>\n",
              "      <td>0.0</td>\n",
              "      <td>0.0</td>\n",
              "      <td>2020-11-30</td>\n",
              "      <td>2.511930e+03</td>\n",
              "      <td>2020</td>\n",
              "    </tr>\n",
              "    <tr>\n",
              "      <th>360323</th>\n",
              "      <td>00872163603934484565</td>\n",
              "      <td>127</td>\n",
              "      <td>9</td>\n",
              "      <td>2</td>\n",
              "      <td>1</td>\n",
              "      <td>17</td>\n",
              "      <td>5</td>\n",
              "      <td>2</td>\n",
              "      <td>1</td>\n",
              "      <td>3</td>\n",
              "      <td>3</td>\n",
              "      <td>2</td>\n",
              "      <td>1</td>\n",
              "      <td>10</td>\n",
              "      <td>3</td>\n",
              "      <td>5.160471e+05</td>\n",
              "      <td>0.000000</td>\n",
              "      <td>4.597563e+05</td>\n",
              "      <td>0.00000</td>\n",
              "      <td>-3.972196e+04</td>\n",
              "      <td>9</td>\n",
              "      <td>0.000000</td>\n",
              "      <td>4.167400e+02</td>\n",
              "      <td>3.124416e+05</td>\n",
              "      <td>1.137526e+05</td>\n",
              "      <td>0.0</td>\n",
              "      <td>0.000000</td>\n",
              "      <td>0.0</td>\n",
              "      <td>0.0</td>\n",
              "      <td>89436.175</td>\n",
              "      <td>89436.175</td>\n",
              "      <td>0.0</td>\n",
              "      <td>0.0</td>\n",
              "      <td>0.0</td>\n",
              "      <td>1.748960e+03</td>\n",
              "      <td>4.248620e+05</td>\n",
              "      <td>0.0</td>\n",
              "      <td>0.0</td>\n",
              "      <td>2020-11-30</td>\n",
              "      <td>4.597563e+05</td>\n",
              "      <td>2020</td>\n",
              "    </tr>\n",
              "    <tr>\n",
              "      <th>360324</th>\n",
              "      <td>85101141243376305074</td>\n",
              "      <td>316</td>\n",
              "      <td>161</td>\n",
              "      <td>17</td>\n",
              "      <td>3</td>\n",
              "      <td>3</td>\n",
              "      <td>5</td>\n",
              "      <td>2</td>\n",
              "      <td>3</td>\n",
              "      <td>2</td>\n",
              "      <td>2</td>\n",
              "      <td>2</td>\n",
              "      <td>1</td>\n",
              "      <td>2</td>\n",
              "      <td>2</td>\n",
              "      <td>2.373510e+06</td>\n",
              "      <td>0.000000</td>\n",
              "      <td>7.205948e+05</td>\n",
              "      <td>-15419.52000</td>\n",
              "      <td>-1.943606e+05</td>\n",
              "      <td>1</td>\n",
              "      <td>-0.006496</td>\n",
              "      <td>-3.284398e+04</td>\n",
              "      <td>2.270062e+05</td>\n",
              "      <td>2.189235e+06</td>\n",
              "      <td>0.0</td>\n",
              "      <td>-9887.020000</td>\n",
              "      <td>0.0</td>\n",
              "      <td>0.0</td>\n",
              "      <td>0.000</td>\n",
              "      <td>0.000</td>\n",
              "      <td>0.0</td>\n",
              "      <td>0.0</td>\n",
              "      <td>0.0</td>\n",
              "      <td>2.373510e+06</td>\n",
              "      <td>0.000000e+00</td>\n",
              "      <td>0.0</td>\n",
              "      <td>0.0</td>\n",
              "      <td>2020-11-30</td>\n",
              "      <td>7.205948e+05</td>\n",
              "      <td>2020</td>\n",
              "    </tr>\n",
              "  </tbody>\n",
              "</table>\n",
              "<p>360325 rows × 41 columns</p>\n",
              "</div>"
            ],
            "text/plain": [
              "                  CONTACT_ID  no_of_sales_12M_1  no_of_Redemption_12M_1  \\\n",
              "0       85102111664960504040               3096                    6592   \n",
              "1                    4492101                  0                       0   \n",
              "2       85102140943881291064                  0                       1   \n",
              "3       85202121774856516280                  1                       0   \n",
              "4                    0360380                  7                       0   \n",
              "...                      ...                ...                     ...   \n",
              "360320  85101112114944243030                 52                      33   \n",
              "360321               0344423                  0                       0   \n",
              "360322  85202111883442782693                 33                       2   \n",
              "360323  00872163603934484565                127                       9   \n",
              "360324  85101141243376305074                316                     161   \n",
              "\n",
              "        no_of_sales_12M_10K  no_of_Redemption_12M_10K  no_of_funds_sold_12M_1  \\\n",
              "0                       302                       157                       8   \n",
              "1                         0                         0                       0   \n",
              "2                         0                         0                       0   \n",
              "3                         0                         0                       1   \n",
              "4                         0                         0                       1   \n",
              "...                     ...                       ...                     ...   \n",
              "360320                    0                         0                       5   \n",
              "360321                    0                         0                       0   \n",
              "360322                    0                         0                       7   \n",
              "360323                    2                         1                      17   \n",
              "360324                   17                         3                       3   \n",
              "\n",
              "        no_of_funds_redeemed_12M_1  no_of_fund_sales_12M_10K  \\\n",
              "0                               13                         7   \n",
              "1                                0                         0   \n",
              "2                                1                         0   \n",
              "3                                0                         0   \n",
              "4                                0                         0   \n",
              "...                            ...                       ...   \n",
              "360320                           5                         0   \n",
              "360321                           0                         0   \n",
              "360322                           1                         0   \n",
              "360323                           5                         2   \n",
              "360324                           5                         2   \n",
              "\n",
              "        no_of_funds_Redemption_12M_10K  no_of_assetclass_sold_12M_1  \\\n",
              "0                                    7                            2   \n",
              "1                                    0                            0   \n",
              "2                                    0                            0   \n",
              "3                                    0                            1   \n",
              "4                                    0                            1   \n",
              "...                                ...                          ...   \n",
              "360320                               0                            2   \n",
              "360321                               0                            0   \n",
              "360322                               0                            2   \n",
              "360323                               1                            3   \n",
              "360324                               3                            2   \n",
              "\n",
              "        no_of_assetclass_redeemed_12M_1  no_of_assetclass_sales_12M_10K  \\\n",
              "0                                     3                               2   \n",
              "1                                     0                               0   \n",
              "2                                     1                               0   \n",
              "3                                     0                               0   \n",
              "4                                     0                               0   \n",
              "...                                 ...                             ...   \n",
              "360320                                2                               0   \n",
              "360321                                0                               0   \n",
              "360322                                1                               0   \n",
              "360323                                3                               2   \n",
              "360324                                2                               2   \n",
              "\n",
              "        no_of_assetclass_Redemption_12M_10K  No_of_fund_curr  \\\n",
              "0                                         2                9   \n",
              "1                                         0                0   \n",
              "2                                         0                0   \n",
              "3                                         0                2   \n",
              "4                                         0                2   \n",
              "...                                     ...              ...   \n",
              "360320                                    0                5   \n",
              "360321                                    0                0   \n",
              "360322                                    0                4   \n",
              "360323                                    1               10   \n",
              "360324                                    1                2   \n",
              "\n",
              "        No_of_asset_curr           AUM     sales_curr     sales_12M  \\\n",
              "0                      2  1.909702e+07  399995.834888  1.259993e+07   \n",
              "1                      0 -1.468574e+04       0.000000  0.000000e+00   \n",
              "2                      0 -7.164047e+04       0.000000  0.000000e+00   \n",
              "3                      2  3.425462e+05       0.000000  1.164760e+03   \n",
              "4                      0 -2.262721e+05       0.000000  3.278145e+03   \n",
              "...                  ...           ...            ...           ...   \n",
              "360320                 2  1.467283e+05    1948.425000  7.944085e+04   \n",
              "360321                 0 -1.662076e+04       0.000000  0.000000e+00   \n",
              "360322                 3  3.265858e+04       0.000000  2.511930e+03   \n",
              "360323                 3  5.160471e+05       0.000000  4.597563e+05   \n",
              "360324                 2  2.373510e+06       0.000000  7.205948e+05   \n",
              "\n",
              "        redemption_curr  redemption_12M  new_Fund_added_12M  redemption_rate  \\\n",
              "0         -231714.43334   -6.557185e+06                   0        -0.012133   \n",
              "1               0.00000    0.000000e+00                   0         0.000000   \n",
              "2               0.00000   -1.950000e+02                   0         0.000000   \n",
              "3               0.00000    0.000000e+00                   1         0.000000   \n",
              "4               0.00000    0.000000e+00                   0         0.000000   \n",
              "...                 ...             ...                 ...              ...   \n",
              "360320     -12653.65500   -1.701488e+04                   1        -0.086238   \n",
              "360321          0.00000    0.000000e+00                   0         0.000000   \n",
              "360322          0.00000   -3.913810e+03                   3         0.000000   \n",
              "360323          0.00000   -3.972196e+04                   9         0.000000   \n",
              "360324     -15419.52000   -1.943606e+05                   1        -0.006496   \n",
              "\n",
              "        aum_AC_EQUITY  aum_AC_FIXED_INCOME_MUNI  aum_AC_FIXED_INCOME_TAXABLE  \\\n",
              "0        9.386941e+06              9.743856e+06                -9.655914e+03   \n",
              "1       -7.102100e+03              0.000000e+00                -7.583640e+03   \n",
              "2       -7.164047e+04              0.000000e+00                 0.000000e+00   \n",
              "3        0.000000e+00              7.030151e+04                 2.722447e+05   \n",
              "4       -1.113566e+05             -2.018566e+04                 0.000000e+00   \n",
              "...               ...                       ...                          ...   \n",
              "360320   4.351357e+04             -2.821572e+04                 1.398568e+05   \n",
              "360321  -1.662076e+04              0.000000e+00                 0.000000e+00   \n",
              "360322  -2.334539e+04              1.223747e+04                 3.180329e+04   \n",
              "360323   4.167400e+02              3.124416e+05                 1.137526e+05   \n",
              "360324  -3.284398e+04              2.270062e+05                 2.189235e+06   \n",
              "\n",
              "        aum_AC_MONEY  aum_AC_MULTIPLE  aum_AC_PHYSICAL_COMMODITY  \\\n",
              "0                0.0    -24116.993988                        0.0   \n",
              "1                0.0         0.000000                        0.0   \n",
              "2                0.0         0.000000                        0.0   \n",
              "3                0.0         0.000000                        0.0   \n",
              "4                0.0    -94729.890000                        0.0   \n",
              "...              ...              ...                        ...   \n",
              "360320           0.0     -8426.425000                        0.0   \n",
              "360321           0.0         0.000000                        0.0   \n",
              "360322           0.0         0.000000                        0.0   \n",
              "360323           0.0         0.000000                        0.0   \n",
              "360324           0.0     -9887.020000                        0.0   \n",
              "\n",
              "        aum_AC_REAL_ESTATE  aum_AC_TARGET  aum_P_529  aum_P_ALT  aum_P_CEF  \\\n",
              "0                      0.0          0.000      0.000        0.0        0.0   \n",
              "1                      0.0          0.000      0.000        0.0        0.0   \n",
              "2                      0.0          0.000      0.000        0.0        0.0   \n",
              "3                      0.0          0.000      0.000        0.0        0.0   \n",
              "4                      0.0          0.000      0.000        0.0        0.0   \n",
              "...                    ...            ...        ...        ...        ...   \n",
              "360320                 0.0          0.000      0.000        0.0        0.0   \n",
              "360321                 0.0          0.000      0.000        0.0        0.0   \n",
              "360322                 0.0      11963.205  11963.205        0.0        0.0   \n",
              "360323                 0.0      89436.175  89436.175        0.0        0.0   \n",
              "360324                 0.0          0.000      0.000        0.0        0.0   \n",
              "\n",
              "        aum_P_ETF      aum_P_MF     aum_P_SMA  aum_P_UCITS  aum_P_UIT  \\\n",
              "0             0.0  8.431248e+06  1.066578e+07          0.0        0.0   \n",
              "1             0.0 -1.468574e+04  0.000000e+00          0.0        0.0   \n",
              "2             0.0 -7.164047e+04  0.000000e+00          0.0        0.0   \n",
              "3             0.0  3.425462e+05  0.000000e+00          0.0        0.0   \n",
              "4             0.0 -1.315423e+05 -9.472989e+04          0.0        0.0   \n",
              "...           ...           ...           ...          ...        ...   \n",
              "360320        0.0  1.467283e+05  0.000000e+00          0.0        0.0   \n",
              "360321        0.0  0.000000e+00 -1.662076e+04          0.0        0.0   \n",
              "360322        0.0  2.069537e+04  0.000000e+00          0.0        0.0   \n",
              "360323        0.0  1.748960e+03  4.248620e+05          0.0        0.0   \n",
              "360324        0.0  2.373510e+06  0.000000e+00          0.0        0.0   \n",
              "\n",
              "       refresh_date   total_sales  d_year  \n",
              "0        2017-12-31  1.299992e+07    2017  \n",
              "1        2017-12-31  0.000000e+00    2017  \n",
              "2        2017-12-31  0.000000e+00    2017  \n",
              "3        2017-12-31  1.164760e+03    2017  \n",
              "4        2017-12-31  3.278145e+03    2017  \n",
              "...             ...           ...     ...  \n",
              "360320   2020-11-30  8.138928e+04    2020  \n",
              "360321   2020-11-30  0.000000e+00    2020  \n",
              "360322   2020-11-30  2.511930e+03    2020  \n",
              "360323   2020-11-30  4.597563e+05    2020  \n",
              "360324   2020-11-30  7.205948e+05    2020  \n",
              "\n",
              "[360325 rows x 41 columns]"
            ]
          },
          "metadata": {},
          "execution_count": 108
        }
      ]
    },
    {
      "cell_type": "code",
      "metadata": {
        "id": "LrWVODxX9mJR"
      },
      "source": [
        "new_data.to_csv('new_data.csv')"
      ],
      "execution_count": null,
      "outputs": []
    },
    {
      "cell_type": "markdown",
      "metadata": {
        "id": "XgNWicVcsNaA"
      },
      "source": [
        "# Combine `sales_curr` and `sales_12M`"
      ]
    },
    {
      "cell_type": "code",
      "metadata": {
        "id": "lipj-6x8sNaB",
        "colab": {
          "base_uri": "https://localhost:8080/",
          "height": 167
        },
        "outputId": "f0355613-fd9a-473c-db72-fcda671a8672"
      },
      "source": [
        "df['total_sales'] = df['sales_curr'] + df['sales_12M']"
      ],
      "execution_count": null,
      "outputs": [
        {
          "output_type": "error",
          "ename": "NameError",
          "evalue": "ignored",
          "traceback": [
            "\u001b[0;31m---------------------------------------------------------------------------\u001b[0m",
            "\u001b[0;31mNameError\u001b[0m                                 Traceback (most recent call last)",
            "\u001b[0;32m<ipython-input-1-c3cb3871b22d>\u001b[0m in \u001b[0;36m<module>\u001b[0;34m()\u001b[0m\n\u001b[0;32m----> 1\u001b[0;31m \u001b[0mdf\u001b[0m\u001b[0;34m[\u001b[0m\u001b[0;34m'total_sales'\u001b[0m\u001b[0;34m]\u001b[0m \u001b[0;34m=\u001b[0m \u001b[0mdf\u001b[0m\u001b[0;34m[\u001b[0m\u001b[0;34m'sales_curr'\u001b[0m\u001b[0;34m]\u001b[0m \u001b[0;34m+\u001b[0m \u001b[0mdf\u001b[0m\u001b[0;34m[\u001b[0m\u001b[0;34m'sales_12M'\u001b[0m\u001b[0;34m]\u001b[0m\u001b[0;34m\u001b[0m\u001b[0;34m\u001b[0m\u001b[0m\n\u001b[0m",
            "\u001b[0;31mNameError\u001b[0m: name 'df' is not defined"
          ]
        }
      ]
    },
    {
      "cell_type": "code",
      "metadata": {
        "id": "by--z05AQhln"
      },
      "source": [
        "df.total_sales"
      ],
      "execution_count": null,
      "outputs": []
    },
    {
      "cell_type": "code",
      "metadata": {
        "id": "tSjyvP6WgiCj"
      },
      "source": [
        "df['total_sales'].describe()"
      ],
      "execution_count": null,
      "outputs": []
    },
    {
      "cell_type": "code",
      "metadata": {
        "id": "S7n4B7ys1u5q"
      },
      "source": [
        "d2017 = df[(df.total_sales >= 150000) & (df.d_year==2017)]"
      ],
      "execution_count": null,
      "outputs": []
    },
    {
      "cell_type": "code",
      "metadata": {
        "id": "fUk3jXLe4DU9"
      },
      "source": [
        "d2017"
      ],
      "execution_count": null,
      "outputs": []
    },
    {
      "cell_type": "code",
      "metadata": {
        "id": "lp7HtZY38D3S"
      },
      "source": [
        "gt_150k =df[df.total_sales >= 150000]"
      ],
      "execution_count": null,
      "outputs": []
    },
    {
      "cell_type": "code",
      "metadata": {
        "id": "mPc_Oo8YA5Iq"
      },
      "source": [
        "gt_150k"
      ],
      "execution_count": null,
      "outputs": []
    },
    {
      "cell_type": "code",
      "metadata": {
        "id": "GbWqIFfbBnGL"
      },
      "source": [
        "lt_150k =df[df.total_sales < 150000]"
      ],
      "execution_count": null,
      "outputs": []
    },
    {
      "cell_type": "code",
      "metadata": {
        "id": "ND-ZMUVrBsIS"
      },
      "source": [
        "lt_150k"
      ],
      "execution_count": null,
      "outputs": []
    },
    {
      "cell_type": "code",
      "metadata": {
        "id": "6sFr8dXzQ65O"
      },
      "source": [
        "below_150k="
      ],
      "execution_count": null,
      "outputs": []
    },
    {
      "cell_type": "markdown",
      "metadata": {
        "id": "5V6tSAcBsNaE"
      },
      "source": [
        "# Data Cleaning"
      ]
    },
    {
      "cell_type": "markdown",
      "metadata": {
        "id": "jYkTUiUasNaE"
      },
      "source": [
        "Before you change ANYTHING with the data - besides the above :) - do your train-test split"
      ]
    },
    {
      "cell_type": "code",
      "metadata": {
        "id": "h_2AZKJCsNaF"
      },
      "source": [
        "FEATURES = [\n",
        "    'CONTACT_ID', 'no_of_sales_12M_1', 'no_of_Redemption_12M_1',\n",
        "    'no_of_sales_12M_10K', 'no_of_Redemption_12M_10K',\n",
        "    'no_of_funds_sold_12M_1', 'no_of_funds_redeemed_12M_1',\n",
        "    'no_of_fund_sales_12M_10K', 'no_of_funds_Redemption_12M_10K',\n",
        "    'no_of_assetclass_sold_12M_1', 'no_of_assetclass_redeemed_12M_1',\n",
        "    'no_of_assetclass_sales_12M_10K', 'no_of_assetclass_Redemption_12M_10K',\n",
        "    'No_of_fund_curr', 'No_of_asset_curr', 'AUM', 'sales_curr', 'sales_12M',\n",
        "    'redemption_curr', 'redemption_12M', 'new_Fund_added_12M',\n",
        "    'redemption_rate', 'aum_AC_EQUITY', 'aum_AC_FIXED_INCOME_MUNI',\n",
        "    'aum_AC_FIXED_INCOME_TAXABLE', 'aum_AC_MONEY', 'aum_AC_MULTIPLE',\n",
        "    'aum_AC_PHYSICAL_COMMODITY', 'aum_AC_REAL_ESTATE', 'aum_AC_TARGET',\n",
        "    'aum_P_529', 'aum_P_ALT', 'aum_P_CEF', 'aum_P_ETF', 'aum_P_MF',\n",
        "    'aum_P_SMA', 'aum_P_UCITS', 'aum_P_UIT', 'refresh_date',\n",
        "]\n",
        "TARGETS = 'total_sales'"
      ],
      "execution_count": null,
      "outputs": []
    },
    {
      "cell_type": "code",
      "metadata": {
        "id": "uxQ1S4qbsNaG"
      },
      "source": [
        "# make a variable to keep all of the columns we want to drop\n",
        "COLS_TO_DROP = [\n",
        "    'sales_curr', 'sales_12M',\n",
        "    'refresh_date', 'new_Fund_added_12M','no_of_Redemption_12M_1',\n",
        "]\n",
        "\n",
        "COLS_TO_KEEP = [\n",
        "    'CONTACT_ID',\n",
        "    'no_of_sales_12M_1',\n",
        "    'no_of_sales_12M_10K', 'no_of_Redemption_12M_10K',\n",
        "    'no_of_funds_sold_12M_1', 'no_of_funds_redeemed_12M_1',\n",
        "    'no_of_fund_sales_12M_10K', 'no_of_funds_Redemption_12M_10K',\n",
        "    'no_of_assetclass_sold_12M_1', 'no_of_assetclass_redeemed_12M_1',\n",
        "    'no_of_assetclass_sales_12M_10K', 'no_of_assetclass_Redemption_12M_10K',\n",
        "    'No_of_fund_curr', 'No_of_asset_curr', 'AUM', 'redemption_curr',\n",
        "    'redemption_12M', 'redemption_rate', 'aum_AC_EQUITY',\n",
        "    'aum_AC_FIXED_INCOME_MUNI', 'aum_AC_FIXED_INCOME_TAXABLE', 'aum_AC_MONEY',\n",
        "    'aum_AC_MULTIPLE', 'aum_AC_PHYSICAL_COMMODITY', 'aum_AC_REAL_ESTATE',\n",
        "    'aum_AC_TARGET', 'aum_P_529', 'aum_P_ALT', 'aum_P_CEF', 'aum_P_ETF',\n",
        "    'aum_P_MF', 'aum_P_SMA', 'aum_P_UCITS', 'aum_P_UIT',\n",
        "]"
      ],
      "execution_count": null,
      "outputs": []
    },
    {
      "cell_type": "code",
      "metadata": {
        "id": "syvlK17yJj42"
      },
      "source": [],
      "execution_count": null,
      "outputs": []
    },
    {
      "cell_type": "markdown",
      "metadata": {
        "id": "GIihm3UPsNaG"
      },
      "source": [
        "## Partition training and testing"
      ]
    },
    {
      "cell_type": "code",
      "metadata": {
        "id": "SCufQx1vsNaH"
      },
      "source": [
        "training_rows = df['refresh_date'].dt.year.isin([2017, 2018, 2019])\n",
        "testing_rows = df['refresh_date'].dt.year.isin([2020])\n",
        "\n",
        "X = df.loc[training_rows, FEATURES].copy()\n",
        "y_reg = df.loc[training_rows, TARGETS].copy()\n",
        "y_cl = df.loc[training_rows, 'new_Fund_added_12M'].copy()\n",
        "\n",
        "y_holdout_test = df.loc[testing_rows, TARGETS].copy() # forget about this for now"
      ],
      "execution_count": null,
      "outputs": []
    },
    {
      "cell_type": "code",
      "metadata": {
        "colab": {
          "base_uri": "https://localhost:8080/"
        },
        "id": "RdDY75f-UiC9",
        "outputId": "adc42510-3aa0-4203-87f9-92c74a280755"
      },
      "source": [
        "X.shape"
      ],
      "execution_count": null,
      "outputs": [
        {
          "output_type": "execute_result",
          "data": {
            "text/plain": [
              "(250250, 39)"
            ]
          },
          "metadata": {},
          "execution_count": 17
        }
      ]
    },
    {
      "cell_type": "code",
      "metadata": {
        "colab": {
          "base_uri": "https://localhost:8080/"
        },
        "id": "zuySOBgsB4dW",
        "outputId": "da523c49-bcc4-4fcb-cccc-95997a823c04"
      },
      "source": [
        "y_holdout_test.shape"
      ],
      "execution_count": null,
      "outputs": [
        {
          "output_type": "execute_result",
          "data": {
            "text/plain": [
              "(110075,)"
            ]
          },
          "metadata": {},
          "execution_count": 111
        }
      ]
    },
    {
      "cell_type": "markdown",
      "metadata": {
        "id": "q6jdV5H6sNaH"
      },
      "source": [
        "## Custom Cleaning Functions"
      ]
    },
    {
      "cell_type": "markdown",
      "metadata": {
        "id": "pDFxpjE-sNaI"
      },
      "source": [
        "Let's create functions that do some basic housekeeping"
      ]
    },
    {
      "cell_type": "code",
      "metadata": {
        "id": "_IWrvYn9sNaI"
      },
      "source": [
        "def extract_columns(df):\n",
        "    '''extract out columns not listed in COLS_TO_DROP variable'''\n",
        "    cols_to_keep = [col for col in df.columns if col not in COLS_TO_DROP]\n",
        "    return df.loc[:, cols_to_keep].copy()\n",
        "\n",
        "\n",
        "def fillna_values(df):\n",
        "    '''fill nan values with zero'''\n",
        "    if isinstance(df, type(pd.Series(dtype='float64'))):\n",
        "        return df.fillna(0)\n",
        "    num_df = df.select_dtypes(include=['number']).fillna(0)\n",
        "    non_num_df = df.select_dtypes(exclude=['number'])\n",
        "    return pd.concat([num_df, non_num_df], axis=1)\n",
        "\n",
        "\n",
        "def negative_to_zero(series):\n",
        "    if isinstance(series, type(pd.Series(dtype='float64'))):\n",
        "        return series.apply(lambda x: max(0, x))\n",
        "    else:\n",
        "        return series"
      ],
      "execution_count": null,
      "outputs": []
    },
    {
      "cell_type": "markdown",
      "metadata": {
        "id": "s-NkcHoZsNaJ"
      },
      "source": [
        "## Train Test Split"
      ]
    },
    {
      "cell_type": "code",
      "metadata": {
        "id": "NmQ68mqcsNaJ"
      },
      "source": [
        "from sklearn.model_selection import train_test_split"
      ],
      "execution_count": null,
      "outputs": []
    },
    {
      "cell_type": "code",
      "metadata": {
        "id": "2PQFqNfIsNaK"
      },
      "source": [
        "X_train, X_test, y_train_reg, y_test_reg = train_test_split(\n",
        "    X, y_reg, test_size=0.3, random_state=24\n",
        ")\n",
        "y_train_cl, y_test_cl = y_cl[y_train_reg.index], y_cl[y_test_reg.index]"
      ],
      "execution_count": null,
      "outputs": []
    },
    {
      "cell_type": "markdown",
      "metadata": {
        "id": "x070z9IFsNaK"
      },
      "source": [
        "[Back to Top](#Index)\n",
        "## Create Cleaning Pipeline\n",
        "\n",
        "- Pipeline for target variable\n",
        "- Pipeline for features"
      ]
    },
    {
      "cell_type": "code",
      "metadata": {
        "id": "EaMxY4VJsNaK"
      },
      "source": [
        "from sklearn.pipeline import Pipeline\n",
        "from sklearn.preprocessing import FunctionTransformer\n",
        "from sklearn.preprocessing import StandardScaler"
      ],
      "execution_count": null,
      "outputs": []
    },
    {
      "cell_type": "code",
      "metadata": {
        "id": "u_Y_tiIrsNaL"
      },
      "source": [
        "extract_columns_trans = FunctionTransformer(extract_columns)\n",
        "fillna_values_trans = FunctionTransformer(fillna_values)\n",
        "negative_to_zero_trans = FunctionTransformer(negative_to_zero)"
      ],
      "execution_count": null,
      "outputs": []
    },
    {
      "cell_type": "markdown",
      "metadata": {
        "id": "wqASsv1lsNaL"
      },
      "source": [
        "Make pipeline for regression target variable"
      ]
    },
    {
      "cell_type": "code",
      "metadata": {
        "id": "VLEz-mPssNaL"
      },
      "source": [
        "def extract_redemption(df):\n",
        "    redemp_cols = [col for col in df.columns if 'redemption' in col.lower()]\n",
        "    return df[redemp_cols].copy()\n",
        "\n",
        "def replace_with_zero(df):\n",
        "    for col in df.columns:\n",
        "        df[col] = df[col].apply(lambda x: min(0, x))\n",
        "    return df"
      ],
      "execution_count": null,
      "outputs": []
    },
    {
      "cell_type": "code",
      "metadata": {
        "id": "LvVBmJlxsNaL"
      },
      "source": [
        "extract_redemption_trans = FunctionTransformer(extract_redemption)\n",
        "replace_with_zero_trans = FunctionTransformer(replace_with_zero)"
      ],
      "execution_count": null,
      "outputs": []
    },
    {
      "cell_type": "code",
      "metadata": {
        "id": "n8EuzPkOsNaL"
      },
      "source": [
        "redemption_pipe = Pipeline([\n",
        "    ('extract_redemption_trans', extract_redemption_trans),\n",
        "    ('replace_with_zero_trans', replace_with_zero_trans),\n",
        "    ('StandardScaler', StandardScaler())\n",
        "])"
      ],
      "execution_count": null,
      "outputs": []
    },
    {
      "cell_type": "code",
      "metadata": {
        "colab": {
          "base_uri": "https://localhost:8080/",
          "height": 417
        },
        "id": "OtpDRTJgsNaM",
        "outputId": "c8b28a9c-cf5f-484b-c205-5485cc167b6a"
      },
      "source": [
        "pd.DataFrame(\n",
        "    redemption_pipe.fit_transform(X_train),\n",
        "    index=X_train.index,\n",
        "    columns=[col for col in X_train.columns if 'redemption' in col.lower()]\n",
        ")"
      ],
      "execution_count": null,
      "outputs": [
        {
          "output_type": "execute_result",
          "data": {
            "text/html": [
              "<div>\n",
              "<style scoped>\n",
              "    .dataframe tbody tr th:only-of-type {\n",
              "        vertical-align: middle;\n",
              "    }\n",
              "\n",
              "    .dataframe tbody tr th {\n",
              "        vertical-align: top;\n",
              "    }\n",
              "\n",
              "    .dataframe thead th {\n",
              "        text-align: right;\n",
              "    }\n",
              "</style>\n",
              "<table border=\"1\" class=\"dataframe\">\n",
              "  <thead>\n",
              "    <tr style=\"text-align: right;\">\n",
              "      <th></th>\n",
              "      <th>no_of_Redemption_12M_1</th>\n",
              "      <th>no_of_Redemption_12M_10K</th>\n",
              "      <th>no_of_funds_Redemption_12M_10K</th>\n",
              "      <th>no_of_assetclass_Redemption_12M_10K</th>\n",
              "      <th>redemption_curr</th>\n",
              "      <th>redemption_12M</th>\n",
              "      <th>redemption_rate</th>\n",
              "    </tr>\n",
              "  </thead>\n",
              "  <tbody>\n",
              "    <tr>\n",
              "      <th>122101</th>\n",
              "      <td>0.0</td>\n",
              "      <td>0.0</td>\n",
              "      <td>0.0</td>\n",
              "      <td>0.0</td>\n",
              "      <td>0.068414</td>\n",
              "      <td>0.116706</td>\n",
              "      <td>0.004086</td>\n",
              "    </tr>\n",
              "    <tr>\n",
              "      <th>46186</th>\n",
              "      <td>0.0</td>\n",
              "      <td>0.0</td>\n",
              "      <td>0.0</td>\n",
              "      <td>0.0</td>\n",
              "      <td>0.068414</td>\n",
              "      <td>0.116706</td>\n",
              "      <td>0.004086</td>\n",
              "    </tr>\n",
              "    <tr>\n",
              "      <th>41126</th>\n",
              "      <td>0.0</td>\n",
              "      <td>0.0</td>\n",
              "      <td>0.0</td>\n",
              "      <td>0.0</td>\n",
              "      <td>0.045743</td>\n",
              "      <td>-0.994636</td>\n",
              "      <td>0.004086</td>\n",
              "    </tr>\n",
              "    <tr>\n",
              "      <th>30070</th>\n",
              "      <td>0.0</td>\n",
              "      <td>0.0</td>\n",
              "      <td>0.0</td>\n",
              "      <td>0.0</td>\n",
              "      <td>0.067219</td>\n",
              "      <td>0.091516</td>\n",
              "      <td>0.004086</td>\n",
              "    </tr>\n",
              "    <tr>\n",
              "      <th>232410</th>\n",
              "      <td>0.0</td>\n",
              "      <td>0.0</td>\n",
              "      <td>0.0</td>\n",
              "      <td>0.0</td>\n",
              "      <td>0.068414</td>\n",
              "      <td>0.116706</td>\n",
              "      <td>0.004086</td>\n",
              "    </tr>\n",
              "    <tr>\n",
              "      <th>...</th>\n",
              "      <td>...</td>\n",
              "      <td>...</td>\n",
              "      <td>...</td>\n",
              "      <td>...</td>\n",
              "      <td>...</td>\n",
              "      <td>...</td>\n",
              "      <td>...</td>\n",
              "    </tr>\n",
              "    <tr>\n",
              "      <th>190609</th>\n",
              "      <td>0.0</td>\n",
              "      <td>0.0</td>\n",
              "      <td>0.0</td>\n",
              "      <td>0.0</td>\n",
              "      <td>0.068414</td>\n",
              "      <td>0.116706</td>\n",
              "      <td>0.004086</td>\n",
              "    </tr>\n",
              "    <tr>\n",
              "      <th>216465</th>\n",
              "      <td>0.0</td>\n",
              "      <td>0.0</td>\n",
              "      <td>0.0</td>\n",
              "      <td>0.0</td>\n",
              "      <td>0.068414</td>\n",
              "      <td>0.116706</td>\n",
              "      <td>0.004086</td>\n",
              "    </tr>\n",
              "    <tr>\n",
              "      <th>211136</th>\n",
              "      <td>0.0</td>\n",
              "      <td>0.0</td>\n",
              "      <td>0.0</td>\n",
              "      <td>0.0</td>\n",
              "      <td>0.068414</td>\n",
              "      <td>0.082220</td>\n",
              "      <td>0.004086</td>\n",
              "    </tr>\n",
              "    <tr>\n",
              "      <th>899</th>\n",
              "      <td>0.0</td>\n",
              "      <td>0.0</td>\n",
              "      <td>0.0</td>\n",
              "      <td>0.0</td>\n",
              "      <td>0.066797</td>\n",
              "      <td>0.116706</td>\n",
              "      <td>0.004086</td>\n",
              "    </tr>\n",
              "    <tr>\n",
              "      <th>242082</th>\n",
              "      <td>0.0</td>\n",
              "      <td>0.0</td>\n",
              "      <td>0.0</td>\n",
              "      <td>0.0</td>\n",
              "      <td>0.068414</td>\n",
              "      <td>-0.001611</td>\n",
              "      <td>0.004086</td>\n",
              "    </tr>\n",
              "  </tbody>\n",
              "</table>\n",
              "<p>175175 rows × 7 columns</p>\n",
              "</div>"
            ],
            "text/plain": [
              "        no_of_Redemption_12M_1  no_of_Redemption_12M_10K  \\\n",
              "122101                     0.0                       0.0   \n",
              "46186                      0.0                       0.0   \n",
              "41126                      0.0                       0.0   \n",
              "30070                      0.0                       0.0   \n",
              "232410                     0.0                       0.0   \n",
              "...                        ...                       ...   \n",
              "190609                     0.0                       0.0   \n",
              "216465                     0.0                       0.0   \n",
              "211136                     0.0                       0.0   \n",
              "899                        0.0                       0.0   \n",
              "242082                     0.0                       0.0   \n",
              "\n",
              "        no_of_funds_Redemption_12M_10K  no_of_assetclass_Redemption_12M_10K  \\\n",
              "122101                             0.0                                  0.0   \n",
              "46186                              0.0                                  0.0   \n",
              "41126                              0.0                                  0.0   \n",
              "30070                              0.0                                  0.0   \n",
              "232410                             0.0                                  0.0   \n",
              "...                                ...                                  ...   \n",
              "190609                             0.0                                  0.0   \n",
              "216465                             0.0                                  0.0   \n",
              "211136                             0.0                                  0.0   \n",
              "899                                0.0                                  0.0   \n",
              "242082                             0.0                                  0.0   \n",
              "\n",
              "        redemption_curr  redemption_12M  redemption_rate  \n",
              "122101         0.068414        0.116706         0.004086  \n",
              "46186          0.068414        0.116706         0.004086  \n",
              "41126          0.045743       -0.994636         0.004086  \n",
              "30070          0.067219        0.091516         0.004086  \n",
              "232410         0.068414        0.116706         0.004086  \n",
              "...                 ...             ...              ...  \n",
              "190609         0.068414        0.116706         0.004086  \n",
              "216465         0.068414        0.116706         0.004086  \n",
              "211136         0.068414        0.082220         0.004086  \n",
              "899            0.066797        0.116706         0.004086  \n",
              "242082         0.068414       -0.001611         0.004086  \n",
              "\n",
              "[175175 rows x 7 columns]"
            ]
          },
          "metadata": {},
          "execution_count": 38
        }
      ]
    },
    {
      "cell_type": "code",
      "metadata": {
        "id": "7JQ5vmhlsNaM"
      },
      "source": [
        "targ_pipe_reg = Pipeline([\n",
        "    ('fillna_values_trans', fillna_values_trans),\n",
        "    ('negative_to_zero_trans', negative_to_zero_trans)\n",
        "])\n",
        "\n",
        "y_train_reg = targ_pipe_reg.fit_transform(y_train_reg)\n",
        "y_test_reg = targ_pipe_reg.transform(y_test_reg)"
      ],
      "execution_count": null,
      "outputs": []
    },
    {
      "cell_type": "markdown",
      "metadata": {
        "id": "O1DXe95OsNaN"
      },
      "source": [
        "Transform the classification target"
      ]
    },
    {
      "cell_type": "code",
      "metadata": {
        "colab": {
          "base_uri": "https://localhost:8080/"
        },
        "id": "bQ4ZT1MUsNaO",
        "outputId": "a5ae9740-2dcc-44a6-fa3d-76406d058467"
      },
      "source": [
        "from sklearn.preprocessing import Binarizer\n",
        "\n",
        "targ_pipe_cl = Pipeline([\n",
        "    ('fillna_values_trans', fillna_values_trans),\n",
        "    ('Binarizer', Binarizer(threshold=0))\n",
        "])\n",
        "\n",
        "y_train_cl = pd.Series(\n",
        "    targ_pipe_cl\n",
        "        .fit_transform(y_train_cl.to_frame())\n",
        "        .reshape(-1), index=y_train_cl.index)\n",
        "y_test_cl = pd.Series(\n",
        "    targ_pipe_cl\n",
        "        .transform(y_test_cl.to_frame())\n",
        "        .reshape(-1), index=y_test_cl.index)\n",
        "y_test_cl"
      ],
      "execution_count": null,
      "outputs": [
        {
          "output_type": "execute_result",
          "data": {
            "text/plain": [
              "228198    1\n",
              "240133    1\n",
              "163658    1\n",
              "176954    0\n",
              "69498     1\n",
              "         ..\n",
              "239268    0\n",
              "116033    0\n",
              "238773    1\n",
              "7527      1\n",
              "11875     0\n",
              "Length: 75075, dtype: int64"
            ]
          },
          "metadata": {},
          "execution_count": 40
        }
      ]
    },
    {
      "cell_type": "markdown",
      "metadata": {
        "id": "OVm0T8vAsNaO"
      },
      "source": [
        "Create the pipeline for the features"
      ]
    },
    {
      "cell_type": "code",
      "metadata": {
        "id": "Pv3G_L01sNaP"
      },
      "source": [
        "from sklearn.preprocessing import PowerTransformer"
      ],
      "execution_count": null,
      "outputs": []
    },
    {
      "cell_type": "code",
      "metadata": {
        "id": "0tRi8KhLsNaP"
      },
      "source": [
        "feat_pipe = Pipeline([\n",
        "    ('extract_columns_trans', extract_columns_trans),\n",
        "    ('fillna_values_trans', fillna_values_trans),\n",
        "    ('StandardScaler', StandardScaler()),\n",
        "    ('power_transformer', PowerTransformer())\n",
        "])\n",
        "\n",
        "X_train_prepared = feat_pipe.fit(X_train).transform(X_train)\n",
        "X_test_prepared = feat_pipe.transform(X_test)"
      ],
      "execution_count": null,
      "outputs": []
    },
    {
      "cell_type": "markdown",
      "metadata": {
        "id": "0wUTHn6BsNaQ"
      },
      "source": [
        "**TRANSFORM** Test set"
      ]
    },
    {
      "cell_type": "code",
      "metadata": {
        "id": "Vz5E7allsNaQ"
      },
      "source": [
        "X_train_prepared = pd.DataFrame(\n",
        "    X_train_prepared,\n",
        "    index=X_train.index,\n",
        "    columns=COLS_TO_KEEP\n",
        ")\n",
        "\n",
        "X_test_prepared = pd.DataFrame(\n",
        "    feat_pipe.transform(X_test),\n",
        "    index=X_test.index,\n",
        "    columns=COLS_TO_KEEP\n",
        ")"
      ],
      "execution_count": null,
      "outputs": []
    },
    {
      "cell_type": "markdown",
      "metadata": {
        "id": "YXh95ynasNaR"
      },
      "source": [
        "[Back to Top](#Index)\n",
        "# Model building\n",
        "- Evaluate baseline model\n",
        "- Create new models\n",
        "- Create evaluation function and cross validate"
      ]
    },
    {
      "cell_type": "code",
      "metadata": {
        "id": "jNqYIpzAsNaU"
      },
      "source": [
        "def evaluate_model(model, X, y):\n",
        "    cvscore=(\n",
        "        np.mean(\n",
        "            (-cross_validate(model, X, y, scoring='neg_root_mean_squared_error')['test_score'])))\n",
        "    print(\"Cross Validation Score:\\t\", cvscore)\n",
        "\n",
        "    print('R-squared:\\t', model.score(X, y))\n",
        "    print('-'*55)\n",
        "    preds = model.predict(X)\n",
        "    lim = max(preds.max(), y.max())\n",
        "    fig, ax = plt.subplots(1,1,figsize=(7,5))\n",
        "    ax.scatter(x=y, y=preds, alpha=0.4)\n",
        "    ax.plot([0, lim], [0, lim])\n",
        "    ax.set_xlim([0, lim])\n",
        "    ax.set_ylim([0, lim])\n",
        "    ax.set_title(\"Actual vs Predicted - Regression\")\n",
        "    ax.set_xlabel(\"Actual\")\n",
        "    ax.set_ylabel(\"Predicted\");"
      ],
      "execution_count": null,
      "outputs": []
    },
    {
      "cell_type": "code",
      "metadata": {
        "id": "DmMRb34gsNaR"
      },
      "source": [
        "from sklearn.linear_model import LinearRegression\n",
        "from sklearn.tree import DecisionTreeRegressor\n",
        "from sklearn.ensemble import RandomForestRegressor\n",
        "from sklearn.model_selection import RandomizedSearchCV\n",
        "from sklearn.feature_selection import SelectFromModel\n",
        "from sklearn.decomposition import PCA, TruncatedSVD\n",
        "from sklearn.model_selection import cross_validate\n",
        "import xgboost as xgb\n",
        "from pprint import pprint"
      ],
      "execution_count": null,
      "outputs": []
    },
    {
      "cell_type": "markdown",
      "metadata": {
        "id": "lwLkBM04Ae0m"
      },
      "source": [
        "## Random Forest Regressor\n",
        "\n",
        "The random forest Regressor gives the best results\n",
        "\n",
        "we tried 2 different hyperparameter tuning for this method\n",
        "\n",
        "* RandomSearchCV\n",
        "* GridSearchCV\n",
        "\n",
        "---\n",
        "\n",
        "\n",
        "Both give bad results than the main one so we go with the normal Random Forest Regressor"
      ]
    },
    {
      "cell_type": "markdown",
      "metadata": {
        "id": "56OPHkxcDSPA"
      },
      "source": [
        "### Random Forest Regressor"
      ]
    },
    {
      "cell_type": "code",
      "metadata": {
        "id": "DIxwReYnsNaV"
      },
      "source": [
        "rfr = RandomForestRegressor(n_estimators=5)"
      ],
      "execution_count": null,
      "outputs": []
    },
    {
      "cell_type": "code",
      "metadata": {
        "colab": {
          "base_uri": "https://localhost:8080/"
        },
        "id": "u6gjNf8cU9PP",
        "outputId": "df4d4fc7-971a-42d6-a261-7012ea971d1e"
      },
      "source": [
        "X_train_prepared.shape"
      ],
      "execution_count": null,
      "outputs": [
        {
          "output_type": "execute_result",
          "data": {
            "text/plain": [
              "(175175, 34)"
            ]
          },
          "metadata": {},
          "execution_count": 49
        }
      ]
    },
    {
      "cell_type": "code",
      "metadata": {
        "colab": {
          "base_uri": "https://localhost:8080/"
        },
        "id": "BeDabfr-V3wW",
        "outputId": "ffd82fd0-c800-470d-ff4b-8918210e5cbc"
      },
      "source": [
        "X_train_prepared.columns"
      ],
      "execution_count": null,
      "outputs": [
        {
          "output_type": "execute_result",
          "data": {
            "text/plain": [
              "Index(['CONTACT_ID', 'no_of_sales_12M_1', 'no_of_sales_12M_10K',\n",
              "       'no_of_Redemption_12M_10K', 'no_of_funds_sold_12M_1',\n",
              "       'no_of_funds_redeemed_12M_1', 'no_of_fund_sales_12M_10K',\n",
              "       'no_of_funds_Redemption_12M_10K', 'no_of_assetclass_sold_12M_1',\n",
              "       'no_of_assetclass_redeemed_12M_1', 'no_of_assetclass_sales_12M_10K',\n",
              "       'no_of_assetclass_Redemption_12M_10K', 'No_of_fund_curr',\n",
              "       'No_of_asset_curr', 'AUM', 'redemption_curr', 'redemption_12M',\n",
              "       'redemption_rate', 'aum_AC_EQUITY', 'aum_AC_FIXED_INCOME_MUNI',\n",
              "       'aum_AC_FIXED_INCOME_TAXABLE', 'aum_AC_MONEY', 'aum_AC_MULTIPLE',\n",
              "       'aum_AC_PHYSICAL_COMMODITY', 'aum_AC_REAL_ESTATE', 'aum_AC_TARGET',\n",
              "       'aum_P_529', 'aum_P_ALT', 'aum_P_CEF', 'aum_P_ETF', 'aum_P_MF',\n",
              "       'aum_P_SMA', 'aum_P_UCITS', 'aum_P_UIT'],\n",
              "      dtype='object')"
            ]
          },
          "metadata": {},
          "execution_count": 50
        }
      ]
    },
    {
      "cell_type": "code",
      "metadata": {
        "colab": {
          "base_uri": "https://localhost:8080/"
        },
        "id": "YqPxOvyrsNaV",
        "outputId": "4f4feddc-2c68-4215-f9b3-3c3f82036d9f"
      },
      "source": [
        "rfr.fit(X_train_prepared, y_train_reg)"
      ],
      "execution_count": null,
      "outputs": [
        {
          "output_type": "execute_result",
          "data": {
            "text/plain": [
              "RandomForestRegressor(bootstrap=True, ccp_alpha=0.0, criterion='mse',\n",
              "                      max_depth=None, max_features='auto', max_leaf_nodes=None,\n",
              "                      max_samples=None, min_impurity_decrease=0.0,\n",
              "                      min_impurity_split=None, min_samples_leaf=1,\n",
              "                      min_samples_split=2, min_weight_fraction_leaf=0.0,\n",
              "                      n_estimators=5, n_jobs=None, oob_score=False,\n",
              "                      random_state=None, verbose=0, warm_start=False)"
            ]
          },
          "metadata": {},
          "execution_count": 51
        }
      ]
    },
    {
      "cell_type": "code",
      "metadata": {
        "colab": {
          "base_uri": "https://localhost:8080/"
        },
        "id": "TWxqy7jfsNaS",
        "outputId": "7d81c1ea-c5cc-4c9d-e70d-23ea567e64eb"
      },
      "source": [
        "-cross_validate(\n",
        "    rfr,\n",
        "    X_train_prepared,\n",
        "    y_train_reg,\n",
        "    cv=3,\n",
        "    scoring='neg_root_mean_squared_error',\n",
        "    return_train_score=True\n",
        ")['test_score']"
      ],
      "execution_count": null,
      "outputs": [
        {
          "output_type": "execute_result",
          "data": {
            "text/plain": [
              "array([335871.83582753, 342818.53520686, 325131.78997776])"
            ]
          },
          "metadata": {},
          "execution_count": 52
        }
      ]
    },
    {
      "cell_type": "code",
      "metadata": {
        "colab": {
          "base_uri": "https://localhost:8080/",
          "height": 401
        },
        "id": "U7T02xZDsNaW",
        "outputId": "9a30a809-546c-4c78-ecd4-bd0c87b92ba5"
      },
      "source": [
        "evaluate_model(rfr, X_train_prepared, y_train_reg)"
      ],
      "execution_count": null,
      "outputs": [
        {
          "output_type": "stream",
          "text": [
            "Cross Validation Score:\t 319423.5656265346\n",
            "R-squared:\t 0.9840653345168494\n",
            "-------------------------------------------------------\n"
          ],
          "name": "stdout"
        },
        {
          "output_type": "display_data",
          "data": {
            "image/png": "[encoded data removed]",
            "text/plain": [
              "<Figure size 504x360 with 1 Axes>"
            ]
          },
          "metadata": {
            "needs_background": "light"
          }
        }
      ]
    },
    {
      "cell_type": "code",
      "metadata": {
        "colab": {
          "base_uri": "https://localhost:8080/"
        },
        "id": "qUtWeos0o1oR",
        "outputId": "b4543fc5-12dc-47ca-eac9-e1caf55e094f"
      },
      "source": [
        "print('Parameters currently in use:\\n')\n",
        "pprint(rfr.get_params())"
      ],
      "execution_count": null,
      "outputs": [
        {
          "output_type": "stream",
          "text": [
            "Parameters currently in use:\n",
            "\n",
            "{'bootstrap': True,\n",
            " 'ccp_alpha': 0.0,\n",
            " 'criterion': 'mse',\n",
            " 'max_depth': None,\n",
            " 'max_features': 'auto',\n",
            " 'max_leaf_nodes': None,\n",
            " 'max_samples': None,\n",
            " 'min_impurity_decrease': 0.0,\n",
            " 'min_impurity_split': None,\n",
            " 'min_samples_leaf': 1,\n",
            " 'min_samples_split': 2,\n",
            " 'min_weight_fraction_leaf': 0.0,\n",
            " 'n_estimators': 5,\n",
            " 'n_jobs': None,\n",
            " 'oob_score': False,\n",
            " 'random_state': None,\n",
            " 'verbose': 0,\n",
            " 'warm_start': False}\n"
          ],
          "name": "stdout"
        }
      ]
    },
    {
      "cell_type": "markdown",
      "metadata": {
        "id": "EnhA3TVOsbkG"
      },
      "source": [
        "### **Random Hyperparameter Grid**\n",
        "\n",
        "\n",
        "\n",
        "---\n",
        "\n",
        "run to give it a try by changing parameters  will take a little bit of time\n",
        "\n"
      ]
    },
    {
      "cell_type": "code",
      "metadata": {
        "colab": {
          "base_uri": "https://localhost:8080/"
        },
        "id": "TVBmAtNWGXf6",
        "outputId": "afc557b4-67c8-4111-f991-0f933d4d3524"
      },
      "source": [
        "from sklearn.model_selection import RandomizedSearchCV\n",
        "# Number of trees in random forest\n",
        "n_estimators = [int(x) for x in np.linspace(start = 1, stop = 10, num = 5)]\n",
        "# Number of features to consider at every split\n",
        "max_features = ['auto', 'sqrt']\n",
        "# Maximum number of levels in tree\n",
        "max_depth = [int(x) for x in np.linspace(10, 110, num = 11)]\n",
        "max_depth.append(None)\n",
        "# Minimum number of samples required to split a node\n",
        "min_samples_split = [2, 5, 10]\n",
        "# Minimum number of samples required at each leaf node\n",
        "min_samples_leaf = [1, 2, 4]\n",
        "# Method of selecting samples for training each tree\n",
        "bootstrap = [True, False]\n",
        "# Create the random grid\n",
        "random_grid = {'n_estimators': n_estimators,\n",
        "               'max_features': max_features,\n",
        "               'max_depth': max_depth,\n",
        "               'min_samples_split': min_samples_split,\n",
        "               'min_samples_leaf': min_samples_leaf,\n",
        "               'bootstrap': bootstrap}\n",
        "pprint(random_grid)"
      ],
      "execution_count": null,
      "outputs": [
        {
          "output_type": "stream",
          "text": [
            "{'bootstrap': [True, False],\n",
            " 'max_depth': [10, 20, 30, 40, 50, 60, 70, 80, 90, 100, 110, None],\n",
            " 'max_features': ['auto', 'sqrt'],\n",
            " 'min_samples_leaf': [1, 2, 4],\n",
            " 'min_samples_split': [2, 5, 10],\n",
            " 'n_estimators': [1, 3, 5, 7, 10]}\n"
          ],
          "name": "stdout"
        }
      ]
    },
    {
      "cell_type": "code",
      "metadata": {
        "id": "atMHLYOXpnGM",
        "colab": {
          "base_uri": "https://localhost:8080/"
        },
        "outputId": "08501d66-9356-4d02-8b58-a5ac6a9e07c3"
      },
      "source": [
        "# First create the base model to tune\n",
        "rf = RandomForestRegressor()\n",
        "# Random search of parameters, using 3 fold cross validation,\n",
        "# search across 100 different combinations, and use all available cores\n",
        "rf_random = RandomizedSearchCV(estimator = rf, param_distributions = random_grid, n_iter = 10, cv = 3, verbose=2, random_state=42, n_jobs = -1)\n",
        "# Fit the random search model\n",
        "rf_random.fit(X_train_prepared, y_train_reg)"
      ],
      "execution_count": null,
      "outputs": [
        {
          "output_type": "stream",
          "text": [
            "Fitting 3 folds for each of 10 candidates, totalling 30 fits\n"
          ],
          "name": "stdout"
        },
        {
          "output_type": "stream",
          "text": [
            "[Parallel(n_jobs=-1)]: Using backend LokyBackend with 2 concurrent workers.\n",
            "[Parallel(n_jobs=-1)]: Done  30 out of  30 | elapsed:  3.1min finished\n"
          ],
          "name": "stderr"
        },
        {
          "output_type": "execute_result",
          "data": {
            "text/plain": [
              "RandomizedSearchCV(cv=3, error_score=nan,\n",
              "                   estimator=RandomForestRegressor(bootstrap=True,\n",
              "                                                   ccp_alpha=0.0,\n",
              "                                                   criterion='mse',\n",
              "                                                   max_depth=None,\n",
              "                                                   max_features='auto',\n",
              "                                                   max_leaf_nodes=None,\n",
              "                                                   max_samples=None,\n",
              "                                                   min_impurity_decrease=0.0,\n",
              "                                                   min_impurity_split=None,\n",
              "                                                   min_samples_leaf=1,\n",
              "                                                   min_samples_split=2,\n",
              "                                                   min_weight_fraction_leaf=0.0,\n",
              "                                                   n_estimators=100,\n",
              "                                                   n_jobs=None, oob_score=Fals...\n",
              "                   iid='deprecated', n_iter=10, n_jobs=-1,\n",
              "                   param_distributions={'bootstrap': [True, False],\n",
              "                                        'max_depth': [10, 20, 30, 40, 50, 60,\n",
              "                                                      70, 80, 90, 100, 110,\n",
              "                                                      None],\n",
              "                                        'max_features': ['auto', 'sqrt'],\n",
              "                                        'min_samples_leaf': [1, 2, 4],\n",
              "                                        'min_samples_split': [2, 5, 10],\n",
              "                                        'n_estimators': [1, 3, 5, 7, 10]},\n",
              "                   pre_dispatch='2*n_jobs', random_state=42, refit=True,\n",
              "                   return_train_score=False, scoring=None, verbose=2)"
            ]
          },
          "metadata": {},
          "execution_count": 56
        }
      ]
    },
    {
      "cell_type": "code",
      "metadata": {
        "id": "8dd2AjwbpnJG",
        "colab": {
          "base_uri": "https://localhost:8080/"
        },
        "outputId": "e93f19fe-c160-47ab-b011-7f102231211e"
      },
      "source": [
        "rf_random.best_params_"
      ],
      "execution_count": null,
      "outputs": [
        {
          "output_type": "execute_result",
          "data": {
            "text/plain": [
              "{'bootstrap': False,\n",
              " 'max_depth': 20,\n",
              " 'max_features': 'sqrt',\n",
              " 'min_samples_leaf': 2,\n",
              " 'min_samples_split': 5,\n",
              " 'n_estimators': 7}"
            ]
          },
          "metadata": {},
          "execution_count": 57
        }
      ]
    },
    {
      "cell_type": "code",
      "metadata": {
        "id": "-94MFZMOyMPo",
        "colab": {
          "base_uri": "https://localhost:8080/",
          "height": 401
        },
        "outputId": "3fa84983-3aa7-41d7-82b1-63d48faf2f8b"
      },
      "source": [
        "base_accuracy = evaluate_model(rfr,  X_train_prepared, y_train_reg)"
      ],
      "execution_count": null,
      "outputs": [
        {
          "output_type": "stream",
          "text": [
            "Cross Validation Score:\t 336539.762154675\n",
            "R-squared:\t 0.9840653345168494\n",
            "-------------------------------------------------------\n"
          ],
          "name": "stdout"
        },
        {
          "output_type": "display_data",
          "data": {
            "image/png": "[encoded data removed]",
            "text/plain": [
              "<Figure size 504x360 with 1 Axes>"
            ]
          },
          "metadata": {
            "needs_background": "light"
          }
        }
      ]
    },
    {
      "cell_type": "code",
      "metadata": {
        "id": "aItO1c00qltd",
        "colab": {
          "base_uri": "https://localhost:8080/",
          "height": 401
        },
        "outputId": "09b16dd0-536b-4da2-b7d5-d98fd37ff350"
      },
      "source": [
        "best_random = rf_random.best_estimator_\n",
        "random_accuracy = evaluate_model(best_random,  X_train_prepared, y_train_reg)"
      ],
      "execution_count": null,
      "outputs": [
        {
          "output_type": "stream",
          "text": [
            "Cross Validation Score:\t 382645.2956470183\n",
            "R-squared:\t 0.9775628017173258\n",
            "-------------------------------------------------------\n"
          ],
          "name": "stdout"
        },
        {
          "output_type": "display_data",
          "data": {
            "image/png": "[encoded data removed]",
            "text/plain": [
              "<Figure size 504x360 with 1 Axes>"
            ]
          },
          "metadata": {
            "needs_background": "light"
          }
        }
      ]
    },
    {
      "cell_type": "markdown",
      "metadata": {
        "id": "l-TCwrg8sVIr"
      },
      "source": [
        "### **Grid Search with Cross Validation**\n",
        "\n",
        "---\n",
        "\n",
        "ajak only run to give it a try by changing parameters  will take a little bit of time"
      ]
    },
    {
      "cell_type": "code",
      "metadata": {
        "id": "JHGVwFhFqlxO"
      },
      "source": [
        "from sklearn.model_selection import GridSearchCV\n",
        "# Create the parameter grid based on the results of random search\n",
        "param_grid = {\n",
        "    'bootstrap': [True],\n",
        "    'max_depth': [80, 90, 100, 110],\n",
        "    'max_features': [2, 3],\n",
        "    'min_samples_leaf': [3, 4, 5],\n",
        "    'min_samples_split': [8, 10, 12],\n",
        "    'n_estimators': [1, 2, 3, 10]\n",
        "}\n",
        "# Create a based model\n",
        "rf = RandomForestRegressor()\n",
        "# Instantiate the grid search model\n",
        "grid_search = GridSearchCV(estimator = rf, param_grid = param_grid,\n",
        "                          cv = 3, n_jobs = -1, verbose = 2)"
      ],
      "execution_count": null,
      "outputs": []
    },
    {
      "cell_type": "code",
      "metadata": {
        "colab": {
          "base_uri": "https://localhost:8080/"
        },
        "id": "llqIF16ur_vK",
        "outputId": "4a0bd739-19f6-4f47-ac58-f16ed1bfc8de"
      },
      "source": [
        "# Fit the grid search to the data\n",
        "grid_search.fit( X_train_prepared, y_train_reg)\n",
        "print(grid_search.best_params_)"
      ],
      "execution_count": null,
      "outputs": [
        {
          "output_type": "stream",
          "text": [
            "Fitting 3 folds for each of 288 candidates, totalling 864 fits\n"
          ],
          "name": "stdout"
        },
        {
          "output_type": "stream",
          "text": [
            "[Parallel(n_jobs=-1)]: Using backend LokyBackend with 2 concurrent workers.\n",
            "[Parallel(n_jobs=-1)]: Done  37 tasks      | elapsed:   21.6s\n",
            "[Parallel(n_jobs=-1)]: Done 158 tasks      | elapsed:  1.6min\n",
            "[Parallel(n_jobs=-1)]: Done 361 tasks      | elapsed:  3.8min\n",
            "[Parallel(n_jobs=-1)]: Done 644 tasks      | elapsed:  6.9min\n",
            "[Parallel(n_jobs=-1)]: Done 864 out of 864 | elapsed:  9.3min finished\n"
          ],
          "name": "stderr"
        },
        {
          "output_type": "stream",
          "text": [
            "{'bootstrap': True, 'max_depth': 110, 'max_features': 3, 'min_samples_leaf': 3, 'min_samples_split': 8, 'n_estimators': 10}\n"
          ],
          "name": "stdout"
        }
      ]
    },
    {
      "cell_type": "code",
      "metadata": {
        "id": "7PxKMSvSql0j"
      },
      "source": [
        "grid_search.best_params_"
      ],
      "execution_count": null,
      "outputs": []
    },
    {
      "cell_type": "code",
      "metadata": {
        "id": "kIaMGT_p4Tz6"
      },
      "source": [
        "grid_search_accuracy = evaluate_model(grid_search,  X_train_prepared, y_train_reg)"
      ],
      "execution_count": null,
      "outputs": []
    },
    {
      "cell_type": "markdown",
      "metadata": {
        "id": "AIuWUir5lki0"
      },
      "source": [
        "# feature importance of RandomForestRegressor\n",
        "\n",
        "\n",
        "\n",
        "---\n",
        "if you want a little bit of refined picture  try to savefig command and add insert the image in the drive.\n"
      ]
    },
    {
      "cell_type": "code",
      "metadata": {
        "colab": {
          "base_uri": "https://localhost:8080/"
        },
        "id": "GSxGmunlTYDS",
        "outputId": "69bcf9e2-3d8b-43ba-eb70-5b05189a6902"
      },
      "source": [
        "rfr.feature_importances_"
      ],
      "execution_count": null,
      "outputs": [
        {
          "output_type": "execute_result",
          "data": {
            "text/plain": [
              "array([9.53973083e-03, 2.31043874e-01, 1.04180676e-02, 1.74617928e-03,\n",
              "       2.92637689e-03, 7.18178465e-03, 3.13174351e-03, 3.11481815e-03,\n",
              "       2.22328774e-03, 3.21458736e-03, 1.03898576e-03, 1.35148373e-02,\n",
              "       1.20900511e-03, 6.83512531e-02, 5.49630152e-03, 4.10729857e-01,\n",
              "       4.34750000e-03, 8.06703834e-02, 1.81939167e-02, 1.79499859e-02,\n",
              "       3.05994401e-05, 5.27562982e-03, 2.14838117e-03, 1.96084562e-04,\n",
              "       7.44501578e-03, 8.83913865e-05, 6.17932986e-05, 2.59981837e-04,\n",
              "       7.85212765e-05, 4.16517929e-02, 3.53749600e-02, 3.28361612e-04,\n",
              "       4.09126253e-04, 1.06088846e-02])"
            ]
          },
          "metadata": {},
          "execution_count": 63
        }
      ]
    },
    {
      "cell_type": "code",
      "metadata": {
        "id": "PyqOmPNQVwHc"
      },
      "source": [
        "X_train_prepared.rename(columns={'CONTACT_ID':'CONTACT ID', 'no_of_sales_12M_1': '1 $ sales in 12months',\n",
        "                                 'no_of_sales_12M_10K':'10k$ sales in 12months',\n",
        "                                 'no_of_Redemption_12M_10K':'10k$ sales in 12months',\n",
        "                                 'no_of_funds_sold_12M_1':'1$ funds sold in 12months',\n",
        "                                 'no_of_funds_redeemed_12M_1':'1$ funds redeemed in 12months',\n",
        "                                 'no_of_fund_sales_12M_10K':'10k$ fund sales in 12months',\n",
        "                                 'no_of_funds_Redemption_12M_10K':'10k$ funds_Redemption in 12months',\n",
        "                                 'no_of_assetclass_sold_12M_1':'1$ asset sold in 12months',\n",
        "                                 'no_of_assetclass_redeemed_12M_1':'1$ asset redeemed in 12months',\n",
        "                                 'no_of_assetclass_sales_12M_10K':'10k$ asset sales in 12months',\n",
        "                                 'no_of_assetclass_Redemption_12M_10K':'10k$ asset Redemption in 12months',\n",
        "                                 'No_of_fund_curr':'Current Funds',\n",
        "                                 'No_of_asset_curr':'Current Assets', 'AUM': 'Asset Under Management',\n",
        "                                 'redemption_curr':'Current Redemption', 'redemption_12M':'Redemption in 12months',\n",
        "                                 'redemption_rate':'Redemption Rate',\n",
        "                                 'aum_AC_EQUITY':'Asset Under Management for Asset class 1',\n",
        "                                 'aum_AC_FIXED_INCOME_MUNI':'Asset Under Management for Asset class 2',\n",
        "                                 'aum_AC_FIXED_INCOME_TAXABLE':'Asset Under Management for Asset class 3',\n",
        "                                 'aum_AC_MONEY':'Asset Under Management for Asset class 4',\n",
        "                                 'aum_AC_MULTIPLE':'Asset Under Management for Asset class 5',\n",
        "                                 'aum_AC_PHYSICAL_COMMODITY':'Asset Under Management for Asset class 6',\n",
        "                                 'aum_AC_REAL_ESTATE':'Asset Under Management for Asset class 7',\n",
        "                                 'aum_AC_TARGET':'Asset Under Management for Asset class 8',\n",
        "                                 'aum_P_529':'Asset Under Management for Product type 1',\n",
        "                                 'aum_P_ALT':'Asset Under Management for Product type 2',\n",
        "                                 'aum_P_CEF':'Asset Under Management for Product type 3',\n",
        "                                 'aum_P_ETF':'Asset Under Management for Product type 4',\n",
        "                                 'aum_P_MF':'Asset Under Management for Product type 5',\n",
        "                                 'aum_P_SMA':'Asset Under Management for Product type 6',\n",
        "                                 'aum_P_UCITS':'Asset Under Management for Product type 7',\n",
        "                                 'aum_P_UIT':'Asset Under Management for Product type 8'}, inplace=True)\n",
        "# X_train_prepared.columns"
      ],
      "execution_count": null,
      "outputs": []
    },
    {
      "cell_type": "code",
      "metadata": {
        "colab": {
          "base_uri": "https://localhost:8080/",
          "height": 624
        },
        "id": "c0tVSenFTf8y",
        "outputId": "ec570768-6175-4cb2-a572-ca1f5069d695"
      },
      "source": [
        "# plt.barh(df.feature_names, rf.feature_importances_)\n",
        "sorted_idx = rfr.feature_importances_.argsort()\n",
        "plt.figure(figsize=(20,10))\n",
        "plt.barh(X_train_prepared.columns[sorted_idx], rfr.feature_importances_[sorted_idx])\n",
        "plt.xlabel(\"Random Forest Feature Importance\")"
      ],
      "execution_count": null,
      "outputs": [
        {
          "output_type": "execute_result",
          "data": {
            "text/plain": [
              "Text(0.5, 0, 'Random Forest Feature Importance')"
            ]
          },
          "metadata": {},
          "execution_count": 113
        },
        {
          "output_type": "display_data",
          "data": {
            "image/png": "[encoded data removed]",
            "text/plain": [
              "<Figure size 1440x720 with 1 Axes>"
            ]
          },
          "metadata": {
            "needs_background": "light"
          }
        }
      ]
    },
    {
      "cell_type": "code",
      "metadata": {
        "colab": {
          "base_uri": "https://localhost:8080/",
          "height": 624
        },
        "id": "Z9IOWYZ5npf1",
        "outputId": "10084e37-84ba-4d9b-d518-00219e767c13"
      },
      "source": [
        "from sklearn.inspection import permutation_importance\n",
        "plt.figure(figsize=(20,10))\n",
        "\n",
        "perm_importance = permutation_importance(rfr, X_test_prepared, y_test_reg)\n",
        "\n",
        "sorted_idx = perm_importance.importances_mean.argsort()\n",
        "plt.barh(X_train_prepared.columns[sorted_idx], perm_importance.importances_mean[sorted_idx])\n",
        "plt.xlabel(\"Permutation Importance\")"
      ],
      "execution_count": null,
      "outputs": [
        {
          "output_type": "execute_result",
          "data": {
            "text/plain": [
              "Text(0.5, 0, 'Permutation Importance')"
            ]
          },
          "metadata": {},
          "execution_count": 114
        },
        {
          "output_type": "display_data",
          "data": {
            "image/png": "[encoded data removed]",
            "text/plain": [
              "<Figure size 1440x720 with 1 Axes>"
            ]
          },
          "metadata": {
            "needs_background": "light"
          }
        }
      ]
    },
    {
      "cell_type": "code",
      "metadata": {
        "id": "INOsYGThqRpm"
      },
      "source": [
        "y_test_reg_preds = rfr.predict(X_test_prepared)"
      ],
      "execution_count": null,
      "outputs": []
    },
    {
      "cell_type": "markdown",
      "metadata": {
        "id": "XRyycq6OaaWX"
      },
      "source": [
        "# Lift Chart\n",
        "\n",
        "\n",
        "\n",
        "\n",
        "---\n",
        "\n",
        "i just need to do a tweek a little bit of this part and it will be good to go with the recommendations\n",
        "\n",
        "\n",
        " a sample liftchart excel sheet is in the ajak deliverables directory just have to replace the first 3 columns with this liftchart of yours and the formulas are adjusted in the sample lift chart by default so no need to worry the remaining columns will automatically be adjusted according to your new values."
      ]
    },
    {
      "cell_type": "code",
      "metadata": {
        "id": "ICKyR73arA82"
      },
      "source": [
        "pd.set_option('display.float_format', lambda x: '%.3f' % x)"
      ],
      "execution_count": null,
      "outputs": []
    },
    {
      "cell_type": "code",
      "metadata": {
        "id": "smGTAUklaOen"
      },
      "source": [
        "results = pd.DataFrame(data=y_test_reg.values, columns=['actual'], index=y_test_reg.index)\n",
        "results['reg_preds'] = y_test_reg_preds\n",
        "results['decile'] = pd.qcut(y_test_reg_preds, q=10, labels=False, retbins=False, duplicates = 'drop')\n",
        "results['decile'] = ((results['decile']+1)*-1)+11"
      ],
      "execution_count": null,
      "outputs": []
    },
    {
      "cell_type": "code",
      "metadata": {
        "id": "KB-rqAPmafgO"
      },
      "source": [
        "file = results.groupby('decile').agg({'actual':['count', 'mean'], 'reg_preds': 'mean'})"
      ],
      "execution_count": null,
      "outputs": []
    },
    {
      "cell_type": "code",
      "metadata": {
        "id": "voNzYOiYmtsu"
      },
      "source": [
        "file.to_csv('Lift_Chart.csv')"
      ],
      "execution_count": null,
      "outputs": []
    },
    {
      "cell_type": "markdown",
      "metadata": {
        "id": "sXjv5R3HsNaR"
      },
      "source": [
        "# Linear Regression\n",
        "\n",
        "\n",
        "the accuracy of this regression model was too low so we go  with the RFR part only\n",
        "\n",
        "\n",
        "---\n",
        "\n",
        "\n",
        "ajak have a look at it just a little"
      ]
    },
    {
      "cell_type": "code",
      "metadata": {
        "colab": {
          "base_uri": "https://localhost:8080/"
        },
        "id": "de-D8gK4sNaR",
        "outputId": "d808f355-5233-40b6-8391-9eebc1e7010f"
      },
      "source": [
        "lr = LinearRegression()\n",
        "lr.fit(X_train_prepared, y_train_reg)"
      ],
      "execution_count": null,
      "outputs": [
        {
          "output_type": "execute_result",
          "data": {
            "text/plain": [
              "LinearRegression(copy_X=True, fit_intercept=True, n_jobs=None, normalize=False)"
            ]
          },
          "metadata": {},
          "execution_count": 121
        }
      ]
    },
    {
      "cell_type": "markdown",
      "metadata": {
        "id": "YNB0P8PlsNaT"
      },
      "source": [
        "Make a plot of predictions vs actual"
      ]
    },
    {
      "cell_type": "code",
      "metadata": {
        "id": "FQssun5gsNaT"
      },
      "source": [
        "y_test_reg_preds = lr.predict(X_test_prepared)"
      ],
      "execution_count": null,
      "outputs": []
    },
    {
      "cell_type": "code",
      "metadata": {
        "colab": {
          "base_uri": "https://localhost:8080/",
          "height": 404
        },
        "id": "Oc4n4qd3sNaT",
        "outputId": "8e3fd0d9-7689-4347-fe2f-4471f7f16941"
      },
      "source": [
        "fig, axes = plt.subplots(figsize=(8, 6))\n",
        "\n",
        "axes.scatter(x=y_test_reg, y=y_test_reg_preds, alpha=0.3)\n",
        "\n",
        "axes.plot([0, 100000000], [0,100000000])\n",
        "axes.set_title(\"Actual vs Predicted - Regression\")\n",
        "axes.set_xlabel(\"Actual\")\n",
        "axes.set_ylabel(\"Predicted\");"
      ],
      "execution_count": null,
      "outputs": [
        {
          "output_type": "display_data",
          "data": {
            "image/png": "[encoded data removed]",
            "text/plain": [
              "<Figure size 576x432 with 1 Axes>"
            ]
          },
          "metadata": {
            "needs_background": "light"
          }
        }
      ]
    },
    {
      "cell_type": "code",
      "metadata": {
        "colab": {
          "base_uri": "https://localhost:8080/",
          "height": 403
        },
        "id": "FBmjDr-AsNaU",
        "outputId": "c0270b55-42b3-47b5-f34e-8f4187a2a451"
      },
      "source": [
        "evaluate_model(lr, X_test_prepared, y_test_reg)"
      ],
      "execution_count": null,
      "outputs": [
        {
          "output_type": "stream",
          "text": [
            "Cross Validation Score:\t 829030.2423061209\n",
            "R-squared:\t 0.4175817295671158\n",
            "-------------------------------------------------------\n"
          ],
          "name": "stdout"
        },
        {
          "output_type": "display_data",
          "data": {
            "image/png": "[encoded data removed]",
            "text/plain": [
              "<Figure size 504x360 with 1 Axes>"
            ]
          },
          "metadata": {
            "needs_background": "light"
          }
        }
      ]
    },
    {
      "cell_type": "markdown",
      "metadata": {
        "id": "-axd-EUlsNaW"
      },
      "source": [
        "## Classification\n",
        "\n",
        "SVC was taking too long for our attempt for classification task so we tried going with the\n",
        "GradientBoostingClassifier\n",
        "\n",
        "\n",
        "---\n",
        "\n",
        "\n",
        "just run this one and have a look at it. just for practise purpose"
      ]
    },
    {
      "cell_type": "code",
      "metadata": {
        "colab": {
          "base_uri": "https://localhost:8080/"
        },
        "id": "jsIXXbzasNaW",
        "outputId": "c517713f-122f-4f72-8bf3-1a0320e15e84"
      },
      "source": [
        "y_train_cl"
      ],
      "execution_count": null,
      "outputs": [
        {
          "output_type": "execute_result",
          "data": {
            "text/plain": [
              "122101    0\n",
              "46186     0\n",
              "41126     0\n",
              "30070     1\n",
              "232410    0\n",
              "         ..\n",
              "190609    0\n",
              "216465    0\n",
              "211136    1\n",
              "899       0\n",
              "242082    0\n",
              "Length: 175175, dtype: int64"
            ]
          },
          "metadata": {},
          "execution_count": 125
        }
      ]
    },
    {
      "cell_type": "code",
      "metadata": {
        "id": "CAZ5QjqQsNaW"
      },
      "source": [
        "from sklearn.ensemble import GradientBoostingClassifier"
      ],
      "execution_count": null,
      "outputs": []
    },
    {
      "cell_type": "code",
      "metadata": {
        "colab": {
          "base_uri": "https://localhost:8080/"
        },
        "id": "Z0xtSs6CsNaX",
        "outputId": "a28ddbc9-bc81-4d50-8fa7-066397972550"
      },
      "source": [
        "gbc = GradientBoostingClassifier()\n",
        "gbc.fit(X_train_prepared, y_train_cl)"
      ],
      "execution_count": null,
      "outputs": [
        {
          "output_type": "execute_result",
          "data": {
            "text/plain": [
              "GradientBoostingClassifier(ccp_alpha=0.0, criterion='friedman_mse', init=None,\n",
              "                           learning_rate=0.1, loss='deviance', max_depth=3,\n",
              "                           max_features=None, max_leaf_nodes=None,\n",
              "                           min_impurity_decrease=0.0, min_impurity_split=None,\n",
              "                           min_samples_leaf=1, min_samples_split=2,\n",
              "                           min_weight_fraction_leaf=0.0, n_estimators=100,\n",
              "                           n_iter_no_change=None, presort='deprecated',\n",
              "                           random_state=None, subsample=1.0, tol=0.0001,\n",
              "                           validation_fraction=0.1, verbose=0,\n",
              "                           warm_start=False)"
            ]
          },
          "metadata": {},
          "execution_count": 127
        }
      ]
    },
    {
      "cell_type": "code",
      "metadata": {
        "id": "YoaezKRoyD3a"
      },
      "source": [
        "y_test_preds = gbc.predict(X_test_prepared)"
      ],
      "execution_count": null,
      "outputs": []
    },
    {
      "cell_type": "code",
      "metadata": {
        "id": "0XJXB1GHyC03"
      },
      "source": [
        "from sklearn.metrics import accuracy_score"
      ],
      "execution_count": null,
      "outputs": []
    },
    {
      "cell_type": "code",
      "metadata": {
        "id": "GQRCG1sbE0kW",
        "colab": {
          "base_uri": "https://localhost:8080/"
        },
        "outputId": "4e794891-9aef-4380-c08e-9ab00a72c4c0"
      },
      "source": [
        "print(accuracy_score(y_test_cl,y_test_preds))"
      ],
      "execution_count": null,
      "outputs": [
        {
          "output_type": "stream",
          "text": [
            "0.8686646686646686\n"
          ],
          "name": "stdout"
        }
      ]
    },
    {
      "cell_type": "code",
      "metadata": {
        "colab": {
          "base_uri": "https://localhost:8080/"
        },
        "id": "m4i76HEFsNaX",
        "outputId": "299e3194-9067-41a7-ade4-8b8420231877"
      },
      "source": [
        "gbc.predict_proba(X_test_prepared)[:, 1]"
      ],
      "execution_count": null,
      "outputs": [
        {
          "output_type": "execute_result",
          "data": {
            "text/plain": [
              "array([0.7595276 , 0.52290711, 0.67759642, ..., 0.62105565, 0.874147  ,\n",
              "       0.39330994])"
            ]
          },
          "metadata": {},
          "execution_count": 92
        }
      ]
    },
    {
      "cell_type": "markdown",
      "metadata": {
        "id": "iBAL3MUhsNaX"
      },
      "source": [
        "[Back to Top](#Index)\n",
        "## Residual Analysis\n",
        "have a look a this part just look at it that sounds confusing skip that or else try to play with this thing a little bit.\n",
        "\n",
        "\n",
        "\n",
        "can remove the whole part if you want meanwhile you being a statician can get something interesting from this part."
      ]
    },
    {
      "cell_type": "code",
      "metadata": {
        "id": "1f8mOOsYsNaX"
      },
      "source": [
        "y_test_reg_preds = lr.predict(X_test_prepared)"
      ],
      "execution_count": null,
      "outputs": []
    },
    {
      "cell_type": "code",
      "metadata": {
        "id": "NZPfiUl5sNaX"
      },
      "source": [
        "# get the residuals\n",
        "residuals = y_test_reg_preds - y_test_reg"
      ],
      "execution_count": null,
      "outputs": []
    },
    {
      "cell_type": "code",
      "metadata": {
        "colab": {
          "base_uri": "https://localhost:8080/",
          "height": 602
        },
        "id": "QdlloNElsNaY",
        "outputId": "2012ba7d-d297-4619-9d06-29dac753a5fe"
      },
      "source": [
        "# plot predictions vs residuals\n",
        "fig, axes = plt.subplots(nrows=2, ncols=2, figsize=(14,10))\n",
        "\n",
        "# plot scatter plot on upper left plot\n",
        "axes[0,0].scatter(x=y_test_reg_preds, y=residuals, alpha=0.5)\n",
        "axes[0,0].set(xlabel='Predictions', ylabel='Residuals')\n",
        "\n",
        "# plot a hist on upper right plot\n",
        "axes[0,1].hist(residuals, bins=50)\n",
        "axes[0,1].set(xlabel='Residuals', ylabel='Frequency');"
      ],
      "execution_count": null,
      "outputs": [
        {
          "output_type": "display_data",
          "data": {
            "image/png": "[encoded data removed]",
            "text/plain": [
              "<Figure size 1008x720 with 4 Axes>"
            ]
          },
          "metadata": {
            "needs_background": "light"
          }
        }
      ]
    },
    {
      "cell_type": "code",
      "metadata": {
        "id": "mpRmq7_NsNaY",
        "colab": {
          "base_uri": "https://localhost:8080/"
        },
        "outputId": "31722348-99db-4acb-bd6d-ebe12fb551dc"
      },
      "source": [
        "from statsmodels.api import qqplot"
      ],
      "execution_count": null,
      "outputs": [
        {
          "output_type": "stream",
          "text": [
            "/usr/local/lib/python3.7/dist-packages/statsmodels/tools/_testing.py:19: FutureWarning: pandas.util.testing is deprecated. Use the functions in the public API at pandas.testing instead.\n",
            "  import pandas.util.testing as tm\n"
          ],
          "name": "stderr"
        }
      ]
    },
    {
      "cell_type": "code",
      "metadata": {
        "colab": {
          "base_uri": "https://localhost:8080/",
          "height": 616
        },
        "id": "P3sAe-eAsNaY",
        "outputId": "689f6c4d-5cbb-4b04-fe43-f635b4a548aa"
      },
      "source": [
        "qqplot(residuals, fit=True, line='r', ax=axes[1,0])"
      ],
      "execution_count": null,
      "outputs": [
        {
          "output_type": "execute_result",
          "data": {
            "image/png": "[encoded data removed]",
            "text/plain": [
              "<Figure size 1008x720 with 4 Axes>"
            ]
          },
          "metadata": {},
          "execution_count": 97
        }
      ]
    },
    {
      "cell_type": "code",
      "metadata": {
        "colab": {
          "base_uri": "https://localhost:8080/"
        },
        "id": "Uj1QQAowsNaY",
        "outputId": "7ad92cfa-6118-4ea3-e4d1-683aea2ffac3"
      },
      "source": [
        "y_test_reg_preds"
      ],
      "execution_count": null,
      "outputs": [
        {
          "output_type": "execute_result",
          "data": {
            "text/plain": [
              "array([ 280784.45634046,  100161.87485299,  115464.80506497, ...,\n",
              "        786938.45205433,  395506.25778256, -114165.19279314])"
            ]
          },
          "metadata": {},
          "execution_count": 130
        }
      ]
    },
    {
      "cell_type": "code",
      "metadata": {
        "colab": {
          "base_uri": "https://localhost:8080/"
        },
        "id": "zbNnITyQsNaY",
        "outputId": "2f75afe2-6bec-4af2-8ee9-a09ad7e43f52"
      },
      "source": [
        "!pip install scikit-plot"
      ],
      "execution_count": null,
      "outputs": [
        {
          "output_type": "stream",
          "text": [
            "Collecting scikit-plot\n",
            "  Downloading scikit_plot-0.3.7-py3-none-any.whl (33 kB)\n",
            "Requirement already satisfied: scikit-learn>=0.18 in /usr/local/lib/python3.7/dist-packages (from scikit-plot) (0.22.2.post1)\n",
            "Requirement already satisfied: scipy>=0.9 in /usr/local/lib/python3.7/dist-packages (from scikit-plot) (1.4.1)\n",
            "Requirement already satisfied: joblib>=0.10 in /usr/local/lib/python3.7/dist-packages (from scikit-plot) (1.0.1)\n",
            "Requirement already satisfied: matplotlib>=1.4.0 in /usr/local/lib/python3.7/dist-packages (from scikit-plot) (3.2.2)\n",
            "Requirement already satisfied: kiwisolver>=1.0.1 in /usr/local/lib/python3.7/dist-packages (from matplotlib>=1.4.0->scikit-plot) (1.3.1)\n",
            "Requirement already satisfied: cycler>=0.10 in /usr/local/lib/python3.7/dist-packages (from matplotlib>=1.4.0->scikit-plot) (0.10.0)\n",
            "Requirement already satisfied: pyparsing!=2.0.4,!=2.1.2,!=2.1.6,>=2.0.1 in /usr/local/lib/python3.7/dist-packages (from matplotlib>=1.4.0->scikit-plot) (2.4.7)\n",
            "Requirement already satisfied: python-dateutil>=2.1 in /usr/local/lib/python3.7/dist-packages (from matplotlib>=1.4.0->scikit-plot) (2.8.2)\n",
            "Requirement already satisfied: numpy>=1.11 in /usr/local/lib/python3.7/dist-packages (from matplotlib>=1.4.0->scikit-plot) (1.19.5)\n",
            "Requirement already satisfied: six in /usr/local/lib/python3.7/dist-packages (from cycler>=0.10->matplotlib>=1.4.0->scikit-plot) (1.15.0)\n",
            "Installing collected packages: scikit-plot\n",
            "Successfully installed scikit-plot-0.3.7\n"
          ],
          "name": "stdout"
        }
      ]
    },
    {
      "cell_type": "code",
      "metadata": {
        "id": "bqAqQibusNaY"
      },
      "source": [
        "import scikitplot as skplt"
      ],
      "execution_count": null,
      "outputs": []
    },
    {
      "cell_type": "code",
      "metadata": {
        "id": "LDqjYs3WsNaZ"
      },
      "source": [
        "def evaluate_classifier(X, y, model):\n",
        "    pass\n",
        "    # print classification report\n",
        "    # create lift charts\n",
        "    # create gains charts"
      ],
      "execution_count": null,
      "outputs": []
    },
    {
      "cell_type": "code",
      "metadata": {
        "id": "V71quP5SsNaZ"
      },
      "source": [
        "from sklearn.ensemble import RandomForestClassifier"
      ],
      "execution_count": null,
      "outputs": []
    },
    {
      "cell_type": "code",
      "metadata": {
        "id": "0GZCtyfssNaZ"
      },
      "source": [
        "# rf = RandomForestClassifier()\n",
        "\n",
        "# rf.fit(X_train_prepared, y_train_cl)"
      ],
      "execution_count": null,
      "outputs": []
    },
    {
      "cell_type": "code",
      "metadata": {
        "id": "YEwuRWMRsNaZ"
      },
      "source": [
        "y_test_cl_preds = gbc.predict_proba(X_test_prepared)"
      ],
      "execution_count": null,
      "outputs": []
    },
    {
      "cell_type": "code",
      "metadata": {
        "colab": {
          "base_uri": "https://localhost:8080/"
        },
        "id": "6CEBakyYsNaZ",
        "outputId": "4c0e5e03-8391-4a80-a3d8-6d8564f29680"
      },
      "source": [
        "y_test_cl_preds"
      ],
      "execution_count": null,
      "outputs": [
        {
          "output_type": "execute_result",
          "data": {
            "text/plain": [
              "array([[0.2404724 , 0.7595276 ],\n",
              "       [0.47709289, 0.52290711],\n",
              "       [0.32240358, 0.67759642],\n",
              "       ...,\n",
              "       [0.37894435, 0.62105565],\n",
              "       [0.125853  , 0.874147  ],\n",
              "       [0.60669006, 0.39330994]])"
            ]
          },
          "metadata": {},
          "execution_count": 136
        }
      ]
    },
    {
      "cell_type": "code",
      "metadata": {
        "colab": {
          "base_uri": "https://localhost:8080/",
          "height": 621
        },
        "id": "jxnq6KqFsNaZ",
        "outputId": "ed9560bd-5c98-40b0-9418-ca5255a6e650"
      },
      "source": [
        "skplt.metrics.plot_lift_curve(y_test_cl, y_test_cl_preds, figsize=(12,10), title=\"Regression Lift\");"
      ],
      "execution_count": null,
      "outputs": [
        {
          "output_type": "display_data",
          "data": {
            "image/png": "[encoded data removed]",
            "text/plain": [
              "<Figure size 864x720 with 1 Axes>"
            ]
          },
          "metadata": {
            "needs_background": "light"
          }
        }
      ]
    },
    {
      "cell_type": "code",
      "metadata": {
        "colab": {
          "base_uri": "https://localhost:8080/"
        },
        "id": "twkZ5NHfsNaa",
        "outputId": "edde814c-da07-4d08-dcb4-5e15f3967059"
      },
      "source": [
        "np.sort(y_test_cl_preds)[:10]"
      ],
      "execution_count": null,
      "outputs": [
        {
          "output_type": "execute_result",
          "data": {
            "text/plain": [
              "array([[0.2404724 , 0.7595276 ],\n",
              "       [0.47709289, 0.52290711],\n",
              "       [0.32240358, 0.67759642],\n",
              "       [0.00289798, 0.99710202],\n",
              "       [0.17943906, 0.82056094],\n",
              "       [0.00310929, 0.99689071],\n",
              "       [0.21524554, 0.78475446],\n",
              "       [0.00348719, 0.99651281],\n",
              "       [0.20113858, 0.79886142],\n",
              "       [0.49564179, 0.50435821]])"
            ]
          },
          "metadata": {},
          "execution_count": 138
        }
      ]
    },
    {
      "cell_type": "code",
      "metadata": {
        "colab": {
          "base_uri": "https://localhost:8080/"
        },
        "id": "hJsFOnOwsNaa",
        "outputId": "1c4d1b41-a0fd-4ecc-9a74-09fb7eb51f5c"
      },
      "source": [
        "y_test_reg"
      ],
      "execution_count": null,
      "outputs": [
        {
          "output_type": "execute_result",
          "data": {
            "text/plain": [
              "228198   269083.425\n",
              "240133     3578.970\n",
              "163658     9497.900\n",
              "176954        0.000\n",
              "69498     30529.080\n",
              "            ...    \n",
              "239268      399.720\n",
              "116033        0.000\n",
              "238773    20656.470\n",
              "7527     157805.390\n",
              "11875       509.420\n",
              "Name: total_sales, Length: 75075, dtype: float64"
            ]
          },
          "metadata": {},
          "execution_count": 107
        }
      ]
    },
    {
      "cell_type": "code",
      "metadata": {
        "id": "hjJjCLlqsNaa"
      },
      "source": [
        "pd.set_option('display.float_format', lambda x: '%.3f' % x)"
      ],
      "execution_count": null,
      "outputs": []
    },
    {
      "cell_type": "code",
      "metadata": {
        "id": "k_QQPd2GsNaa"
      },
      "source": [
        "results = pd.DataFrame(data=y_test_reg.values, columns=['actual'], index=y_test_reg.index)\n",
        "results['reg_preds'] = y_test_reg_preds\n",
        "results['decile'] = pd.qcut(y_test_reg_preds, q=10, labels=False, retbins=False)\n",
        "results['decile'] = ((results['decile']+1)*-1)+11"
      ],
      "execution_count": null,
      "outputs": []
    },
    {
      "cell_type": "code",
      "metadata": {
        "colab": {
          "base_uri": "https://localhost:8080/",
          "height": 418
        },
        "id": "b7bz2SVDsNaa",
        "outputId": "f4bd202d-8fee-4cec-9ad0-6daec3510e2d"
      },
      "source": [
        "results.groupby('decile').agg({'actual':['count', 'mean'], 'reg_preds': 'mean'})"
      ],
      "execution_count": null,
      "outputs": [
        {
          "output_type": "execute_result",
          "data": {
            "text/html": [
              "<div>\n",
              "<style scoped>\n",
              "    .dataframe tbody tr th:only-of-type {\n",
              "        vertical-align: middle;\n",
              "    }\n",
              "\n",
              "    .dataframe tbody tr th {\n",
              "        vertical-align: top;\n",
              "    }\n",
              "\n",
              "    .dataframe thead tr th {\n",
              "        text-align: left;\n",
              "    }\n",
              "\n",
              "    .dataframe thead tr:last-of-type th {\n",
              "        text-align: right;\n",
              "    }\n",
              "</style>\n",
              "<table border=\"1\" class=\"dataframe\">\n",
              "  <thead>\n",
              "    <tr>\n",
              "      <th></th>\n",
              "      <th colspan=\"2\" halign=\"left\">actual</th>\n",
              "      <th>reg_preds</th>\n",
              "    </tr>\n",
              "    <tr>\n",
              "      <th></th>\n",
              "      <th>count</th>\n",
              "      <th>mean</th>\n",
              "      <th>mean</th>\n",
              "    </tr>\n",
              "    <tr>\n",
              "      <th>decile</th>\n",
              "      <th></th>\n",
              "      <th></th>\n",
              "      <th></th>\n",
              "    </tr>\n",
              "  </thead>\n",
              "  <tbody>\n",
              "    <tr>\n",
              "      <th>1</th>\n",
              "      <td>7508</td>\n",
              "      <td>1391534.952</td>\n",
              "      <td>1615320.985</td>\n",
              "    </tr>\n",
              "    <tr>\n",
              "      <th>2</th>\n",
              "      <td>7506</td>\n",
              "      <td>231069.730</td>\n",
              "      <td>444138.459</td>\n",
              "    </tr>\n",
              "    <tr>\n",
              "      <th>3</th>\n",
              "      <td>7503</td>\n",
              "      <td>54886.766</td>\n",
              "      <td>99347.285</td>\n",
              "    </tr>\n",
              "    <tr>\n",
              "      <th>4</th>\n",
              "      <td>7513</td>\n",
              "      <td>2095.467</td>\n",
              "      <td>23006.822</td>\n",
              "    </tr>\n",
              "    <tr>\n",
              "      <th>5</th>\n",
              "      <td>7506</td>\n",
              "      <td>773.335</td>\n",
              "      <td>20711.446</td>\n",
              "    </tr>\n",
              "    <tr>\n",
              "      <th>6</th>\n",
              "      <td>7509</td>\n",
              "      <td>7240.086</td>\n",
              "      <td>9256.870</td>\n",
              "    </tr>\n",
              "    <tr>\n",
              "      <th>7</th>\n",
              "      <td>7504</td>\n",
              "      <td>6674.795</td>\n",
              "      <td>-11667.470</td>\n",
              "    </tr>\n",
              "    <tr>\n",
              "      <th>8</th>\n",
              "      <td>7511</td>\n",
              "      <td>10415.154</td>\n",
              "      <td>-32362.306</td>\n",
              "    </tr>\n",
              "    <tr>\n",
              "      <th>9</th>\n",
              "      <td>7507</td>\n",
              "      <td>18323.507</td>\n",
              "      <td>-74047.038</td>\n",
              "    </tr>\n",
              "    <tr>\n",
              "      <th>10</th>\n",
              "      <td>7508</td>\n",
              "      <td>71479.118</td>\n",
              "      <td>-265934.048</td>\n",
              "    </tr>\n",
              "  </tbody>\n",
              "</table>\n",
              "</div>"
            ],
            "text/plain": [
              "       actual               reg_preds\n",
              "        count        mean        mean\n",
              "decile                               \n",
              "1        7508 1391534.952 1615320.985\n",
              "2        7506  231069.730  444138.459\n",
              "3        7503   54886.766   99347.285\n",
              "4        7513    2095.467   23006.822\n",
              "5        7506     773.335   20711.446\n",
              "6        7509    7240.086    9256.870\n",
              "7        7504    6674.795  -11667.470\n",
              "8        7511   10415.154  -32362.306\n",
              "9        7507   18323.507  -74047.038\n",
              "10       7508   71479.118 -265934.048"
            ]
          },
          "metadata": {},
          "execution_count": 141
        }
      ]
    }
  ]
}