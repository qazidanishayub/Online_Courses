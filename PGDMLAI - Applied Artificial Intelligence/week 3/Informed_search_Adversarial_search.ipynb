{
 "cells": [
  {
   "cell_type": "markdown",
   "metadata": {
    "deletable": false,
    "editable": false,
    "nbgrader": {
     "grade": false,
     "locked": true,
     "solution": false
    }
   },
   "source": [
    "# Informed Search, Adversarial Search, Games\n",
    "\n",
    "\n",
    "**_Author: Jessica Cervi_**\n",
    "\n",
    "**Expected time = 2 hours**\n",
    "\n",
    "**Total points = 90 points**\n",
    "\n",
    "\n",
    "    \n",
    "## Assignment Overview\n",
    "\n",
    "In this assignment, you will become more familiar with another type of informed search algorithm: the Dijkstra algorithm. In the first part of the assignment, you will implement your own version of the algorithm and then you will compare the performance with the `networkx` implementation of it. \n",
    "The second part of the assignment is dedicatedto adversial search algorithms. Adversarial search is an algorithm where there is an \"enemy\" or \"opponent\" changing the state of the problem every step in a direction you do not want. \n",
    "After learning the basic components of a `game`, we will test your knowledge with the implementation of the game tic-tac-toe.\n",
    "\n",
    "\n",
    "This assignment is designed to build your familiarity and comfort coding in Python while also helping you review key topics from the module. As you progress through the assignment, answers will get increasingly complex. It is important that you adopt a data scientist's mindset when completing this assignment. **Remember to run your code from each cell before submitting your assignment.** Running your code beforehand will notify you of errors and give you a chance to fix your errors before submitting. You should view your Vocareum submission as if you are delivering a final project to your manager or client. \n",
    "\n",
    "***Vocareum Tips***\n",
    "- Do not add arguments or options to functions unless you are specifically asked to. This will cause an error in Vocareum.\n",
    "- Do not use a library unless you are expicitly asked to in the question. \n",
    "- You can download the Grading Report after submitting the assignment. This will include feedback and hints on incorrect questions. \n",
    "\n",
    "### Learning Objectives\n",
    "\n",
    "- Write Python codes for informed search, adversarial search, and stochastic games\n",
    "- Understand and implement the Dijkstra algorithm\n",
    "- Complete the search algorithm using Dijkstra from the `netwrokx` library \n",
    "- Understand the concept of a game, game representation, and game tree\n",
    "- Implemement a simple game in Python\n",
    "\n",
    "\n",
    "---\n",
    "\n",
    "## Index: \n",
    "\n",
    "####  Informed Search, Adversarial Search, Games\n",
    "\n",
    "- [Question 1](#q01)\n",
    "- [Question 2](#q02)\n",
    "- [Question 3](#q03)\n",
    "- [Question 4](#q04)\n",
    "- [Question 5](#q05)\n",
    "- [Question 6](#q06)\n",
    "- [Question 7](#q07)\n",
    "- [Question 8](#q08)\n",
    "- [Question 9](#q09)\n",
    "- [Question 10](#q10)\n",
    "- [Question 11](#q11)\n",
    "- [Question 12](#q12)\n",
    "- [Question 13](#q13)"
   ]
  },
  {
   "cell_type": "markdown",
   "metadata": {
    "deletable": false,
    "editable": false,
    "nbgrader": {
     "grade": false,
     "locked": true,
     "solution": false
    }
   },
   "source": [
    "## Informed Search, Adversarial Search, Games\n",
    "\n",
    "### Pathfinding with Dijkstra - Background\n",
    "\n",
    "The first part of this assignment explores applications of path finding through a algorithm: **Dijkstra's**.\n",
    "\n",
    "Dijsktra's algorithm was developed in the 1950s and bears the name of its first author, Edgar Dijkstra.  Dijkstra was working on experiments with Shakey the robot and autonomous transportation.  Dijkstra later recounted that he invented the algorithm in 20 minutes while resting on a walk. \n"
   ]
  },
  {
   "cell_type": "code",
   "execution_count": 2,
   "metadata": {
    "collapsed": true,
    "deletable": false,
    "editable": false,
    "nbgrader": {
     "grade": false,
     "locked": true,
     "solution": false
    }
   },
   "outputs": [],
   "source": [
    "%%capture\n",
    "%matplotlib inline\n",
    "import matplotlib.pyplot as plt\n",
    "import numpy as np\n",
    "import pandas as pd\n",
    "import networkx as nx"
   ]
  },
  {
   "cell_type": "markdown",
   "metadata": {
    "deletable": false,
    "editable": false,
    "nbgrader": {
     "grade": false,
     "locked": true,
     "solution": false
    }
   },
   "source": [
    "### Weighted graphs\n",
    "\n",
    "To get started, we'll consider graphs with *weighted edges*; that is, given a graph, we can associate with each edge numerical weights (or even other kinds of data). Weighted graphs obviously have great utility in transportation or communication networks. An obvious interpretation of numerical edge weights is distance (e.g., lengths of flight paths or roads in a transportation network) but they could have other interpretations (e.g., capacity of a connection in a communication network, etc.).\n",
    "\n",
    "<center>\n",
    "<img src = assets/basic_graph.png>\n",
    "</center>\n",
    "\n",
    "In the image above, for example, the edge $(a,b)$ has weight 3 and the edge $(a,d)$ has weight 1. Remember, edges can be represented as tuples of vertices (in a directed graph, the order of the vertices tells the direction of the edge). When looking for paths in a weighted graph, the edge weights modify the notion of path length and hence alter the determination of efficient routes in a graph."
   ]
  },
  {
   "cell_type": "markdown",
   "metadata": {
    "deletable": false,
    "editable": false,
    "nbgrader": {
     "grade": false,
     "locked": true,
     "solution": false
    }
   },
   "source": [
    "To deal with weighted graphs programmatically, we need to have programmatic representations. In Python, one straightforward representation uses a **dictionary of dictionaries** (extending the version of a dictionary of lists from the last assignment). In this case, the keys at the first level represent the nodes, and the values are dictionaries whose keys are adjacenct vertices and whose values are the weights associated with the edge connecting the two vertices. For example, in the graph above, we would represent vertex `a` as:\n",
    "\n",
    "```python\n",
    "{'a': {'b': 3, 'd': 1}}\n",
    "```\n",
    "\n",
    "Again, for undirected graphs, there can be redundancy in such a representation in deciding whether to represent, for example, the edge connecting vertices `a` and `b` in both the dictionaries associated with vertices `a` and `b`."
   ]
  },
  {
   "cell_type": "markdown",
   "metadata": {
    "deletable": false,
    "editable": false,
    "nbgrader": {
     "grade": false,
     "locked": true,
     "solution": false
    }
   },
   "source": [
    "[Back to top](#Index:) \n",
    "<a id='q01'></a>\n",
    "\n",
    "\n",
    "### Question 1:\n",
    "\n",
    "*5 points*\n",
    "\n",
    "Construct a dictionary of dictionaries to represent the graph in this figure.\n",
    "\n",
    "<center>\n",
    "<img src = assets/basic_graph.png>\n",
    "</center>\n",
    "\n",
    "+ Save the result as `ans_1`.\n",
    "+ You don't have to worry about the repeating edges, i.e., if you have already described the edge connecting `a` and `b` in the dict for `a`, you need not describe that edge again in the dict for `b` (but it is acceptable if you do).\n",
    "+ Every vertex should be represented as a key of the outermost dict."
   ]
  },
  {
   "cell_type": "code",
   "execution_count": 3,
   "metadata": {},
   "outputs": [],
   "source": [
    "### GRADED\n",
    "\n",
    "### YOUR SOLUTION HERE:\n",
    "ans_1 = {'a': {'b': 3, 'd': 1},\n",
    "         'b': {'a': 3, 'c': 2},\n",
    "         'c': {'f': 5, 'b': 2},\n",
    "         'd': {'e': 8, 'a': 1,'f': 12},\n",
    "         'e': {'d':8, 'f': 4},\n",
    "         'f': {'e': 4, 'd': 12, 'c': 5}\n",
    "        }\n",
    "###\n",
    "### YOUR CODE HERE\n",
    "###\n"
   ]
  },
  {
   "cell_type": "code",
   "execution_count": 4,
   "metadata": {
    "collapsed": true,
    "deletable": false,
    "editable": false,
    "nbgrader": {
     "grade": true,
     "grade_id": "Question 01",
     "locked": true,
     "points": "5",
     "solution": false
    }
   },
   "outputs": [],
   "source": [
    "###\n",
    "### AUTOGRADER TEST - DO NOT REMOVE\n",
    "###\n",
    "G = ans_1 # Preserving result in more convenient identifier\n"
   ]
  },
  {
   "cell_type": "markdown",
   "metadata": {
    "deletable": false,
    "editable": false,
    "nbgrader": {
     "grade": false,
     "locked": true,
     "solution": false
    }
   },
   "source": [
    "[Back to top](#Index:) \n",
    "<a id='q02'></a>\n",
    "\n",
    "\n",
    "### Question 2:\n",
    "\n",
    "*5 points*\n",
    "\n",
    "`NetworkX` is a Python language software package for the creation, manipulation, and study of the structure, dynamics, and functions of complex networks.\n",
    "\n",
    "Implementing a weighted graph with `networkx` involves adding a key `weight` within our dictionary.  For example, as we first represented the vertex `a`:\n",
    "\n",
    "```python\n",
    "'a': {'b':  3, 'd':  1}\n",
    "```\n",
    "\n",
    "We will add another layer of nested dictionaries that read as `{'weight': value}`.  For example, vertex `a` becomes:\n",
    "\n",
    "```python\n",
    "'a': {'b': {'weight': 3}, 'd': {'weight': 1}\n",
    "```\n",
    "This is the expected form of input for the `networkx` function `from_dict_of_dicts`.\n",
    "\n",
    "Your task is to modify the definition of `ans_2a` below to be consistent with the requirements for `networkx`'s `from_dict_of_dicts`.\n",
    "```python\n",
    "ans_2a =  {'a': {'b': 3, 'd': 1},\n",
    "         'b': {'c': 2},\n",
    "         'c': {'f': 5},\n",
    "         'd': {'e': 8, 'f': 12},\n",
    "         'e': {'f': 4}}\n",
    "```\n",
    "+ Modify the definition of `ans_2a` by adding an internal layer of `dict`s with the key `weight` associated with the corresponding numerical values.\n",
    "+ Apply `nx.from_dict_of_dicts` to `ans_2a` and assign the result to `ans_2b`."
   ]
  },
  {
   "cell_type": "code",
   "execution_count": 5,
   "metadata": {},
   "outputs": [],
   "source": [
    "### GRADED\n",
    "\n",
    "### YOUR SOLUTION HERE:\n",
    "ans_2a = {'a': {'b': {'weight': 3}, 'd': {'weight': 1}},\n",
    "         'b': {'c':  {'weight': 2}},\n",
    "         'c': {'f':  {'weight': 5}},\n",
    "         'd': {'e': {'weight': 8}, 'f': {'weight': 12}},\n",
    "         'e': {'f':  {'weight': 4}}\n",
    "         }\n",
    "ans_2b = nx.from_dict_of_dicts(ans_2a)\n",
    "###\n",
    "### YOUR CODE HERE\n",
    "###\n"
   ]
  },
  {
   "cell_type": "code",
   "execution_count": 6,
   "metadata": {
    "collapsed": true,
    "deletable": false,
    "editable": false,
    "nbgrader": {
     "grade": true,
     "grade_id": "Question 02",
     "locked": true,
     "points": "5",
     "solution": false
    }
   },
   "outputs": [],
   "source": [
    "###\n",
    "### AUTOGRADER TEST - DO NOT REMOVE\n",
    "###\n"
   ]
  },
  {
   "cell_type": "markdown",
   "metadata": {
    "deletable": false,
    "editable": false,
    "nbgrader": {
     "grade": false,
     "locked": true,
     "solution": false
    }
   },
   "source": [
    "## Dijkstra's Algorithm\n",
    "\n",
    "Now that we know how to work with weighted edges, we can look for *shortest paths* in a graph (treating the weights as distances). The problem that Dijkstra's algorithm aims to solve is simple: you want start at vertex $A$ in a graph and traverse an efficient path (as measured by summing edge weights) to terminate at some different vertex $B$.  Dijkstra suggested the following:\n",
    "\n",
    "1. Mark all nodes unvisited. Create a set of all the unvisited nodes called the *unvisited set*.\n",
    "\n",
    "2. Assign to every node a tentative distance value from $A$: set it to $0$ for the initial node and to $+\\infty$ for all other nodes. Set the initial node as the *current* node.\n",
    "<a id=\"dijkstra-3\"></a>\n",
    "3. For the current node, consider all unvisited neighbours. Calculate their tentative distances to $A$ through the current node. Compare the newly calculated tentative distance to the current assigned value and assign the smaller one. For example, if the current node $X$ is marked with a distance of 6 from $A$, and the edge connecting $X$ with a neighbor $Y$ has length 2, then the distance from $Y$ to $A$ through $X$ will be 6 + 2 = 8. If $X$ was previously marked with a distance greater than 8, then change it to 8. Otherwise, keep the current value.\n",
    "\n",
    "4. When we are done considering all of the unvisited neighbors of the current node, mark the current node as visited and remove it from the unvisited set. A visited node will never be checked again.\n",
    "\n",
    "5. Otherwise, select the unvisited node that is marked with the smallest tentative distance, set it as the new \"current node\", and go back to step 3\n",
    "\n",
    "This animated gif (from [Wikipedia Commons](https://commons.wikimedia.org/wiki/Main_Page)) demonstrates the algorithm in action.\n",
    "\n",
    "<center>\n",
    "<img src = \"assets/Dijkstras_progress_animation.gif\" />\n",
    "    </center>\n",
    "    \n",
    "You will walk through these steps to build your own implementation of Dijkstra's algorithm in a Python function. Following that, you will explore its implementation in the `networkx` library."
   ]
  },
  {
   "cell_type": "markdown",
   "metadata": {
    "deletable": false,
    "editable": false,
    "nbgrader": {
     "grade": false,
     "locked": true,
     "solution": false
    }
   },
   "source": [
    "[Back to top](#Index:) \n",
    "<a id='q03'></a>\n",
    "\n",
    "\n",
    "### Question 3:\n",
    "\n",
    "*10 points*\n",
    "\n",
    "Your first task is to complete the missing lines in the Python function `setup_dijkstra` so that the appropriate output is returned:\n",
    "```python\n",
    "def setup_dijkstra(start):\n",
    "    '''Initialize data structures for Dijkstra's algorithm\n",
    "    INPUT:\n",
    "      start: label of initial vertex\n",
    "    OUTPUT:\n",
    "      D: Dict of distances: initialize with start->0\n",
    "      P: Dict for predecessors (traversal tree, initially empty)\n",
    "      Q: Priority queue (list) of tuples of form (distance, vertex)\n",
    "         Initialize with tuple (0, start)\n",
    "      S: Set for visited vertices (initially empty)\n",
    "    '''\n",
    "    D = ...\n",
    "    P = ...\n",
    "    Q = ...\n",
    "    S = ...\n",
    "    return D, P, Q, S\n",
    "```\n",
    "\n",
    "+ The input to `setup_dijkstra` is the label `start` of the initial node.\n",
    "+ The four Python objects `setup_dijkstra` returns are:\n",
    "  - `D`: a dictionary to store distances to each vertex;\n",
    "  - `P`: a dictionary to represent a traversal tree (initially empty);\n",
    "  - `Q`: a queue (list) to store nodes to visit; and\n",
    "  - `S`: a set to store visited nodes (initially empty).\n",
    "+ Dijkstra's algorithm begins with a starting vertex whose distance from itself is *zero*. Use this fact to initialize `D` and `Q` within `setup_dijkstra` (both of which have non-empty values)."
   ]
  },
  {
   "cell_type": "code",
   "execution_count": 39,
   "metadata": {
    "collapsed": true
   },
   "outputs": [],
   "source": [
    "### GRADED\n",
    "\n",
    "def setup_dijkstra(start):\n",
    "    '''Initialize data structures for Dijkstra's algorithm\n",
    "    INPUT:\n",
    "      start: label of initial vertex\n",
    "    OUTPUT:\n",
    "      D: Dict of distances: initialize with start->0\n",
    "      P: Dict for predecessors (traversal tree, initially empty)\n",
    "      Q: Priority queue (list) of tuples of form (distance, vertex)\n",
    "         Initialize with tuple (0, start)\n",
    "      S: Set for visited vertices (initially empty)\n",
    "    '''\n",
    "    D= {}\n",
    "    D[start]= 0\n",
    "    P= {}\n",
    "    Q= [(0,start)]\n",
    "    S= set()\n",
    "    return D, P, Q, S\n",
    "###\n",
    "### YOUR CODE HERE\n",
    "###\n"
   ]
  },
  {
   "cell_type": "code",
   "execution_count": null,
   "metadata": {
    "collapsed": true,
    "deletable": false,
    "editable": false,
    "nbgrader": {
     "grade": true,
     "grade_id": "Question 03",
     "locked": true,
     "points": "10",
     "solution": false
    }
   },
   "outputs": [],
   "source": [
    "###\n",
    "### AUTOGRADER TEST - DO NOT REMOVE\n",
    "###\n"
   ]
  },
  {
   "cell_type": "markdown",
   "metadata": {
    "deletable": false,
    "editable": false,
    "nbgrader": {
     "grade": false,
     "locked": true,
     "solution": false
    }
   },
   "source": [
    "You may notice in this Python implementation of `setup_dijkstra`, the dictionary `D` of putative distances is initialized with only one key-value pair (that for the vertex `start` being distance `0` from itself). In Dijkstra's algorithm, the initial state has all vertices being at distance $+\\infty$ from the `start` vertex except `start` (which is at distance `0` from itself). This is most simply implemented in Python using [the `dict` method `get`](https://docs.python.org/3/library/stdtypes.html#mapping-types-dict):\n",
    "\n",
    "> **`get`**`(`*`key[, default]`*`)`\n",
    ">\n",
    ">    Return the value for *`key`* if *`key`* is in the dictionary, else *`default`*. If *`default`* is not given, it defaults to `None`, so that this method never raises a `KeyError`.\n",
    "\n",
    "Thus, in our context, with the dictionary `D` storing putative distances of vertices to the initial vertex `start`, the invocation `D.get(V,float('inf'))` works as required. Intuitively, this means that our first steps would certainly be an improvement on infinite distance. Whenever a node is found to be at distance $+\\infty$ from `start`, its distance can be updated (if a shorter path is found) and the corrected distance pushed into the heap."
   ]
  },
  {
   "cell_type": "markdown",
   "metadata": {
    "deletable": false,
    "editable": false,
    "nbgrader": {
     "grade": false,
     "locked": true,
     "solution": false
    }
   },
   "source": [
    "### Relaxation\n",
    "\n",
    "The function `relax_dijkstra` provided below implements the [third step](#dijkstra-3) of Dijkstra's algorithm described above. The Python dictionary `get` method discussed above is used to advantage for the underlying logic. The inputs needed are:\n",
    "\n",
    "+ a graph `G` represented a dictionary of dictionaries with weights (i.e., as in Question 1 rather than as in Question 2).\n",
    "+ two vertices `u` and `v`\n",
    "+ the distance & predecessor dicts `D` and `P` as provided by `setup_dijkstra`.\n",
    "\n",
    "Practically, the relaxation function is used to explore all neighbors of a vertex, and to track the weights of edges traversed to its neighbors. The dictionaries `D` and `P` are updated in place, so calling `relax_dijkstra` at every vertex until reaching the goal builds up the shortest paths."
   ]
  },
  {
   "cell_type": "code",
   "execution_count": 1,
   "metadata": {
    "collapsed": true
   },
   "outputs": [],
   "source": [
    "def relax_dijkstra(G, start, neighbor, D, P):\n",
    "    '''\n",
    "    This function updates the distance & predecessor dictionaries\n",
    "    D & P by comparing their putative distances to the start vertex.\n",
    "    ------\n",
    "    G: Graph as dict of dicts\n",
    "    start: start vertex\n",
    "    neighbor: neighbor vertex\n",
    "    D: dict of dicts keeping track of distances\n",
    "    P: predecessor dictionary to track shortest path trees\n",
    "    '''\n",
    "    # Convenient shorthand for infinity\n",
    "    inf = float('inf')\n",
    "    # Shortcut estimate\n",
    "    d = D.get(start, inf) + G[start][neighbor]\n",
    "    # Compare shortcut to existing distance\n",
    "    if d < D.get(neighbor, inf):\n",
    "        # Update D and P accordingly\n",
    "        D[neighbor], P[neighbor] = d, start\n",
    "        print(D, P)\n",
    "        return True"
   ]
  },
  {
   "cell_type": "code",
   "execution_count": 2,
   "metadata": {
    "collapsed": true,
    "deletable": false,
    "editable": false,
    "nbgrader": {
     "grade": false,
     "locked": true,
     "solution": false
    }
   },
   "outputs": [],
   "source": [
    "G = {'a': {'b': 3, 'd': 1},\n",
    "     'b': {'a': 3, 'c': 2},\n",
    "     'c': {'b': 2, 'f': 5},\n",
    "     'd': {'a': 1, 'e': 8, 'f': 12},\n",
    "     'e': {'d': 8, 'f': 4},\n",
    "     'f': {'c': 5, 'd': 12, 'e': 4}}"
   ]
  },
  {
   "cell_type": "code",
   "execution_count": 3,
   "metadata": {
    "deletable": false,
    "editable": false,
    "nbgrader": {
     "grade": false,
     "locked": true,
     "solution": false
    }
   },
   "outputs": [
    {
     "name": "stdout",
     "output_type": "stream",
     "text": [
      "{'a': 0, 'b': 3} {'b': 'a'}\n",
      "{'a': 0, 'd': 1} {'b': 'a', 'd': 'a'}\n",
      "{'b': 0, 'a': 3} {'b': 'a', 'd': 'a', 'a': 'b'}\n",
      "{'b': 0, 'c': 2} {'b': 'a', 'd': 'a', 'a': 'b', 'c': 'b'}\n",
      "{'c': 0, 'b': 2} {'b': 'c', 'd': 'a', 'a': 'b', 'c': 'b'}\n",
      "{'c': 0, 'f': 5} {'b': 'c', 'd': 'a', 'a': 'b', 'c': 'b', 'f': 'c'}\n",
      "{'d': 0, 'a': 1} {'b': 'c', 'd': 'a', 'a': 'd', 'c': 'b', 'f': 'c'}\n",
      "{'d': 0, 'e': 8} {'b': 'c', 'd': 'a', 'a': 'd', 'c': 'b', 'f': 'c', 'e': 'd'}\n",
      "{'d': 0, 'f': 12} {'b': 'c', 'd': 'a', 'a': 'd', 'c': 'b', 'f': 'd', 'e': 'd'}\n",
      "{'e': 0, 'd': 8} {'b': 'c', 'd': 'e', 'a': 'd', 'c': 'b', 'f': 'd', 'e': 'd'}\n",
      "{'e': 0, 'f': 4} {'b': 'c', 'd': 'e', 'a': 'd', 'c': 'b', 'f': 'e', 'e': 'd'}\n",
      "{'f': 0, 'c': 5} {'b': 'c', 'd': 'e', 'a': 'd', 'c': 'f', 'f': 'e', 'e': 'd'}\n",
      "{'f': 0, 'd': 12} {'b': 'c', 'd': 'f', 'a': 'd', 'c': 'f', 'f': 'e', 'e': 'd'}\n",
      "{'f': 0, 'e': 4} {'b': 'c', 'd': 'f', 'a': 'd', 'c': 'f', 'f': 'e', 'e': 'f'}\n"
     ]
    }
   ],
   "source": [
    "### Implementing on our graph\n",
    "P = {}\n",
    "for u in G:\n",
    "    for v in G[u]:\n",
    "        relax_dijkstra(G, u, v, {u: 0}, P)"
   ]
  },
  {
   "cell_type": "markdown",
   "metadata": {
    "deletable": false,
    "editable": false,
    "nbgrader": {
     "grade": false,
     "locked": true,
     "solution": false
    }
   },
   "source": [
    "Notice that we have added a `print()` statement so that the distance and predecessor dictionary can be viewed.  The first two lines can be understood as first consider the edge `ab` of distance 3.  However, because the dge `ad` is shorted (it has distance 1), we need to update our information about the closest adjacent vertex."
   ]
  },
  {
   "cell_type": "markdown",
   "metadata": {
    "deletable": false,
    "editable": false,
    "nbgrader": {
     "grade": false,
     "locked": true,
     "solution": false
    }
   },
   "source": [
    "<center>\n",
    "    <img src = 'assets/relax.png'/>\n",
    "    </center>\n",
    "\n",
    "Below, we redefine our `relax_dijkstra` function so that we can use without the print statement."
   ]
  },
  {
   "cell_type": "code",
   "execution_count": 4,
   "metadata": {
    "collapsed": true,
    "deletable": false,
    "editable": false,
    "nbgrader": {
     "grade": false,
     "locked": true,
     "solution": false
    }
   },
   "outputs": [],
   "source": [
    "def relax_dijkstra(G, start, neighbor, D, P):\n",
    "    '''\n",
    "    This function updates the distance & predecessor dictionaries\n",
    "    D & P by comparing their putative distances to the start vertex.\n",
    "    ------\n",
    "    G: Graph as dict of dicts\n",
    "    start: start vertex\n",
    "    neighbor: neighbor vertex\n",
    "    D: dict of dicts keeping track of distances\n",
    "    P: predecessor dictionary to track shortest path trees\n",
    "    '''\n",
    "    # Convenient shorthand for infinity\n",
    "    inf = float('inf')\n",
    "    # Shortcut estimate\n",
    "    d = D.get(start, inf) + G[start][neighbor]\n",
    "    # Compare shortcut to existing distance\n",
    "    if d < D.get(neighbor, inf):\n",
    "        # Update D and P accordingly\n",
    "        D[neighbor], P[neighbor] = d, start\n",
    "        return True"
   ]
  },
  {
   "cell_type": "markdown",
   "metadata": {
    "deletable": false,
    "editable": false,
    "nbgrader": {
     "grade": false,
     "locked": true,
     "solution": false
    }
   },
   "source": [
    "### Working with a Priority Queue (Heap)\n",
    "\n",
    "The last piece required to implement Dijkstra's algorithm is a *heap* or *priority queue* to maintain the vertices visited. This data structure permits easy retrieval of the vertex with the lowest distance from the `start` vertex. In Python, the queue is maintained as a list of tuples of the form `(distance, vertex)`. The [Python built-in module `heapq`](https://docs.python.org/3/library/heapq.html) contains functions like `heappush` & `heappop` to add items to and remove items from a priority queue cleanly. Notably, when invoking `heappop`, the item with the lowest pirority (or distance in this case) will be removed before all others. When invoking `heappush`, items are added to the queue while maintaining a structure to enable easy retrieval of the smallest item.\n",
    "\n",
    "Here is an illustrative example from the [`heapq` module documentation](https://docs.python.org/3/library/heapq.html#basic-examples)"
   ]
  },
  {
   "cell_type": "code",
   "execution_count": 5,
   "metadata": {
    "collapsed": true
   },
   "outputs": [],
   "source": [
    "from heapq import heappush, heappop"
   ]
  },
  {
   "cell_type": "code",
   "execution_count": 6,
   "metadata": {},
   "outputs": [
    {
     "data": {
      "text/plain": [
       "(1, 'write spec')"
      ]
     },
     "execution_count": 6,
     "metadata": {},
     "output_type": "execute_result"
    }
   ],
   "source": [
    "h = []\n",
    "heappush(h, (5, 'write code'))\n",
    "heappush(h, (7, 'release product'))\n",
    "heappush(h, (1, 'write spec'))\n",
    "heappush(h, (3, 'create tests'))\n",
    "heappop(h)"
   ]
  },
  {
   "cell_type": "markdown",
   "metadata": {
    "deletable": false,
    "editable": false,
    "nbgrader": {
     "grade": false,
     "locked": true,
     "solution": false
    }
   },
   "source": [
    "[Back to top](#Index:) \n",
    "<a id='q04'></a>\n",
    "\n",
    "\n",
    "### Question 4:\n",
    "\n",
    "*10 points*\n",
    "\n",
    "The purpose of this question preceding is to gain familiarity with the mechanics of using the function `heappop` and working with a priority queue.\n",
    "\n",
    "Complete the function `visited_or_not` (as shown below) using `heappop` (as illustrated above).\n",
    "+ The inputs are the priority queue `Q` of vertices to visit with tentative distances to the start and the set `S` of vertices visited.\n",
    "+ There are no outputs (it returns `None`) but it *does* modify both inputs in-place.\n",
    "+ Your task is to complete the interior of the `while` loop.\n",
    "```python\n",
    "def visited_or_not(Q, S):\n",
    "    '''\n",
    "    Builds up set S of visited vertices using priority queue Q.\n",
    "    INPUT:\n",
    "      Q: Priority queue (list) of tuples of form (distance, vertex)\n",
    "      S: Set for visited vertices\n",
    "    OUTPUT:\n",
    "      None: WARNING, this modifies Q & S in-place!\n",
    "    '''    \n",
    "    while Q:\n",
    "        # pop a (distance, vertex) tuple from priority queue Q\n",
    "        # if the vertex is not in S, add it to S\n",
    "    return None\n",
    "```\n"
   ]
  },
  {
   "cell_type": "code",
   "execution_count": null,
   "metadata": {
    "collapsed": true,
    "nbgrader": {
     "grade": false,
     "grade_id": "",
     "locked": false,
     "points": "10",
     "solution": false
    }
   },
   "outputs": [],
   "source": [
    "### GRADED\n",
    "\n",
    "### YOUR SOLUTION HERE\n",
    "def visited_or_not(Q, S):\n",
    "    '''\n",
    "    Builds up set S of visited vertices using priority queue Q.\n",
    "    INPUT:\n",
    "      Q: Priority queue (list) of tuples of form (distance, vertex)\n",
    "      S: Set for visited vertices\n",
    "    OUTPUT:\n",
    "      None: WARNING, this modifies Q & S in-place!\n",
    "    '''    \n",
    "    return\n",
    "###\n",
    "### YOUR CODE HERE\n",
    "###\n"
   ]
  },
  {
   "cell_type": "code",
   "execution_count": null,
   "metadata": {
    "collapsed": true,
    "deletable": false,
    "editable": false,
    "nbgrader": {
     "grade": true,
     "grade_id": "Question 04",
     "locked": true,
     "points": "10",
     "solution": false
    }
   },
   "outputs": [],
   "source": [
    "###\n",
    "### AUTOGRADER TEST - DO NOT REMOVE\n",
    "###\n"
   ]
  },
  {
   "cell_type": "markdown",
   "metadata": {
    "deletable": false,
    "editable": false,
    "nbgrader": {
     "grade": false,
     "locked": true,
     "solution": false
    }
   },
   "source": [
    "[Back to top](#Index:) \n",
    "<a id='q05'></a>\n",
    "\n",
    "\n",
    "### Question 5:\n",
    "\n",
    "*10 points*\n",
    "\n",
    "You can finally implement Dijkstra's algorithm.\n",
    "+ The basic implementation here has most of the pieces provided.\n",
    "+ The one missing line (within the `for` loop) requires a `heappush`\n",
    "  to push the updated distance information onto the heap.\n",
    " We want to update our queue to reflect the results of the relaxation. Here, we can use the `heappush` function to attach the new information resulting from our relaxation into the queue.\n",
    "\n",
    "```python\n",
    "def dijkstra(graph, start):\n",
    "  '''\n",
    "  This function implements Dijkstra's algorithm on a graph,\n",
    "  determining shortest distances from start to all vertices\n",
    "  in the graph.\n",
    "  INPUT:\n",
    "     graph: dict of dicts to represent weighted graph\n",
    "     start: starting vertex\n",
    "  OUTPUT:\n",
    "     D : dict of distances of each vertex to start\n",
    "     P : dict of predecessors (for paths back to start) \n",
    "  Example:\n",
    "      G = {'a': {'b': 3, 'd': 1},\n",
    "           'b': {'a': 3, 'c': 2},\n",
    "           'c': {'b': 2, 'f': 5},\n",
    "           'd': {'a': 1, 'e': 8, 'f': 12},\n",
    "           'e': {'d': 8, 'f': 4},\n",
    "           'f': {'c': 5, 'd': 12, 'e': 4}}\n",
    "      dijkstra(G, 'a') ====> (D, P) where\n",
    "        ({'a': 0, 'b': 3, 'c': 5, 'd': 1, 'e': 9, 'f': 10},\n",
    "         {'b': 'a', 'c': 'b', 'd': 'a', 'e': 'd', 'f': 'c'})\n",
    "  '''\n",
    "  D, P, Q, S = setup_dijkstra(start)\n",
    "  while Q:                              # Unprocessed nodes?\n",
    "    _, u = heappop(Q)                   # Get closest node\n",
    "    if u in S: continue                 # If visited skip\n",
    "    S.add(u)                            # Visit otherwise\n",
    "    for v in graph[u]:                  # Examine neighbors\n",
    "      relax_dijkstra(graph, u, v, D, P) # Relax edges\n",
    "      ### INSERT MISSING LINE HERE\n",
    "  return D,  P\n",
    "```\n",
    "Complete the function dijkstra below. Use the template code above to fill in the body. Your goal is to determine when and what you want to add to the heap!"
   ]
  },
  {
   "cell_type": "code",
   "execution_count": 13,
   "metadata": {
    "collapsed": true
   },
   "outputs": [],
   "source": [
    "### GRADED\n",
    "\n",
    "### YOUR SOLUTION HERE\n",
    "def dijkstra(graph, start):\n",
    "    '''\n",
    "    This function implements Dijkstra's algorithm on a graph,\n",
    "    determining shortest distances from start to all vertices\n",
    "    in the graph.\n",
    "    INPUT:\n",
    "    graph: dict of dicts to represent weighted graph\n",
    "    start: starting vertex\n",
    "    OUTPUT:\n",
    "    D : dict of distances of each vertex to start\n",
    "    P : dict of predecessors (for paths back to start) \n",
    "    Example:\n",
    "    G = {'a': {'b': 3, 'd': 1},\n",
    "         'b': {'a': 3, 'c': 2},\n",
    "         'c': {'b': 2, 'f': 5},\n",
    "         'd': {'a': 1, 'e': 8, 'f': 12},\n",
    "         'e': {'d': 8, 'f': 4},\n",
    "         'f': {'c': 5, 'd': 12, 'e': 4}}\n",
    "    dijkstra(G, 'a') ====> (D, P) where\n",
    "      ({'a': 0, 'b': 3, 'c': 5, 'd': 1, 'e': 9, 'f': 10},\n",
    "       {'b': 'a', 'c': 'b', 'd': 'a', 'e': 'd', 'f': 'c'})\n",
    "    '''\n",
    "    D, P, Q, S = setup_dijkstra(start)\n",
    "    while Q:\n",
    "      _, u = heappop(Q)\n",
    "      if u in S: continue\n",
    "      S.add(u)\n",
    "      for v in graph[u]:\n",
    "        relax_dijkstra(graph, u, v, D, P)\n",
    "        #INSERT MISSING LINE\n",
    "        heappush(Q, (D[v], v))\n",
    "    return D,  P\n",
    "###\n",
    "### YOUR CODE HERE\n",
    "###\n"
   ]
  },
  {
   "cell_type": "code",
   "execution_count": null,
   "metadata": {
    "collapsed": true,
    "deletable": false,
    "editable": false,
    "nbgrader": {
     "grade": true,
     "grade_id": "Question 05",
     "locked": true,
     "points": "10",
     "solution": false
    }
   },
   "outputs": [],
   "source": [
    "###\n",
    "### AUTOGRADER TEST - DO NOT REMOVE\n",
    "###\n"
   ]
  },
  {
   "cell_type": "markdown",
   "metadata": {},
   "source": [
    "Examples of heuristic function are *Euclidean distance* or *Manhattan distance* (defined later).  For instance, in our Romania map example, from the lectures, we could use the straight-line geographic distance between points as the heuristic function.\n",
    "\n",
    "We will move to implementing these algorithms using the `networkx` library. Now, we will implement `Dijkstra` on a weighted graph representing the Romania map from class.\n"
   ]
  },
  {
   "cell_type": "markdown",
   "metadata": {
    "deletable": false,
    "editable": false,
    "nbgrader": {
     "grade": false,
     "locked": true,
     "solution": false
    }
   },
   "source": [
    "<img src = 'assets/romania_map.png'>"
   ]
  },
  {
   "cell_type": "code",
   "execution_count": 15,
   "metadata": {
    "collapsed": true,
    "deletable": false,
    "editable": false,
    "nbgrader": {
     "grade": false,
     "locked": true,
     "solution": false
    }
   },
   "outputs": [],
   "source": [
    "romania_map = {'Arad': {'Sibiu': {'weight':140}, 'Timisoara': {'weight':118}, 'Zerind': {'weight':75}},\n",
    " 'Bucharest': {'Fagaras': {'weight':211}, 'Giurgiu': {'weight':90}, 'Pitesti': {'weight':101}, 'Urziceni': {'weight':85}},\n",
    " 'Craiova': {'Drobeta': {'weight':120}, 'Pitesti': {'weight':138}, 'Rimnicu': {'weight':146}},\n",
    " 'Drobeta': {'Mehadia': {'weight':75}},\n",
    " 'Eforie': {'Hirsova': {'weight':86}},\n",
    " 'Fagaras': {'Sibiu': {'weight':99}},\n",
    " 'Hirsova': {'Urziceni': {'weight':98}},\n",
    " 'Iasi': {'Neamt': {'weight':87}, 'Vaslui': {'weight':92}},\n",
    " 'Lugoj': {'Mehadia': {'weight':70}, 'Timisoara': {'weight':111}},\n",
    " 'Oradea': {'Sibiu': {'weight':151}, 'Zerind': {'weight':71}},\n",
    " 'Pitesti': {'Rimnicu': {'weight':97}},\n",
    " 'Rimnicu': {'Sibiu': {'weight':80}},\n",
    " 'Urziceni': {'Vaslui': {'weight':142}}}\n",
    "\n",
    "romania_graph = nx.from_dict_of_dicts(romania_map)"
   ]
  },
  {
   "cell_type": "markdown",
   "metadata": {
    "deletable": false,
    "editable": false,
    "nbgrader": {
     "grade": false,
     "locked": true,
     "solution": false
    }
   },
   "source": [
    "[Back to top](#Index:) \n",
    "<a id='q06'></a>\n",
    "\n",
    "\n",
    "### Question 6:\n",
    "\n",
    "*5 points*\n",
    "\n",
    "Your task here is to apply Dijkstra's algorithm as implemented in `networkx` to the graph `romania_graph`.\n",
    "\n",
    "+ Determine the shortest path from `Arad` to `Bucharest` using the function [`nx.dijkstra_path`](https://networkx.github.io/documentation/networkx-1.10/reference/generated/networkx.algorithms.shortest_paths.weighted.dijkstra_path.html) from `networkx`.\n",
    "+ Assign the resulting path to `ans_6`."
   ]
  },
  {
   "cell_type": "code",
   "execution_count": 17,
   "metadata": {},
   "outputs": [
    {
     "name": "stdout",
     "output_type": "stream",
     "text": [
      "Shortest path from Arad to Bucharest:\n",
      "['Arad', 'Sibiu', 'Rimnicu', 'Pitesti', 'Bucharest']\n"
     ]
    }
   ],
   "source": [
    "### GRADED\n",
    "\n",
    "### YOUR SOLUTION HERE\n",
    "ans_6 = nx.dijkstra_path(romania_graph,'Arad','Bucharest',weight = 'weight')\n",
    "###\n",
    "### YOUR CODE HERE\n",
    "###\n",
    "### Verification:\n",
    "print('Shortest path from Arad to Bucharest:\\n{}'.format(ans_6))"
   ]
  },
  {
   "cell_type": "code",
   "execution_count": 18,
   "metadata": {
    "collapsed": true,
    "deletable": false,
    "editable": false,
    "nbgrader": {
     "grade": true,
     "grade_id": "Question 06",
     "locked": true,
     "points": "5",
     "solution": false
    }
   },
   "outputs": [],
   "source": [
    "###\n",
    "### AUTOGRADER TEST - DO NOT REMOVE\n",
    "###\n"
   ]
  },
  {
   "cell_type": "markdown",
   "metadata": {
    "deletable": false,
    "editable": false,
    "nbgrader": {
     "grade": false,
     "locked": true,
     "solution": false
    }
   },
   "source": [
    "## Road network from Sioux Falls\n",
    "\n",
    "As a next example, we have a road network from Sioux Falls, Iowa. You can find more data on transportation networks [here](https://github.com/bstabler/TransportationNetworks). \n",
    "\n",
    "The code below was adapted from the networkx tutorial [here](http://avinashu.com/tutorial/pythontutorialnew/NetworkXBasics.html).  \n",
    "\n",
    "This is simply to demonstrate a path search algorithm using real data to determine a shortest path."
   ]
  },
  {
   "cell_type": "code",
   "execution_count": 19,
   "metadata": {
    "collapsed": true,
    "deletable": false,
    "editable": false,
    "nbgrader": {
     "grade": false,
     "locked": true,
     "solution": false
    }
   },
   "outputs": [],
   "source": [
    "# READ IN DATA ON NODES AND EDGES\n",
    "G3 = nx.DiGraph() # a *directed* graph\n",
    "with open(\"data/SiouxFalls_flow.txt\", \"r\") as f:\n",
    "    line = f.readline()\n",
    "    line = f.readline()\n",
    "    while len(line):\n",
    "        l = line.split()\n",
    "        fromnode = int(l[0])\n",
    "        to = int(l[1])\n",
    "        volume = float(l[2])\n",
    "        cost = int(float(l[3]))\n",
    "        G3.add_edge(fromnode, to, weight = cost)\n",
    "        line = f.readline()"
   ]
  },
  {
   "cell_type": "code",
   "execution_count": 20,
   "metadata": {
    "collapsed": true,
    "deletable": false,
    "editable": false,
    "nbgrader": {
     "grade": false,
     "locked": true,
     "solution": false
    }
   },
   "outputs": [],
   "source": [
    "with open(\"data/SiouxFalls_node.txt\", \"r\") as f:\n",
    "    line = f.readline()\n",
    "    line = f.readline()\n",
    "    while len(line):\n",
    "        line = line.strip(';')\n",
    "        l = line.split()\n",
    "        node = int(l[0])\n",
    "        pos1 = float(l[1])/10000\n",
    "        pos2 = float(l[2])/10000\n",
    "        G3.add_node(node, pos=(pos1,pos2))\n",
    "        line = f.readline()"
   ]
  },
  {
   "cell_type": "code",
   "execution_count": 21,
   "metadata": {
    "deletable": false,
    "editable": false,
    "nbgrader": {
     "grade": false,
     "locked": true,
     "solution": false
    }
   },
   "outputs": [
    {
     "data": {
      "image/png": "[encoded data removed]",
      "text/plain": [
       "<Figure size 576x864 with 1 Axes>"
      ]
     },
     "metadata": {},
     "output_type": "display_data"
    }
   ],
   "source": [
    "# CREATE PLOT OF NETWORK\n",
    "plt.figure(figsize=(8,12))\n",
    "# The positions of each node are stored in a dictionary\n",
    "node_pos=nx.get_node_attributes(G3,'pos')\n",
    "# The edge weights of each arcs are stored in a dictionary\n",
    "arc_weight=nx.get_edge_attributes(G3,'weight')\n",
    "# Determine the shortest path\n",
    "sp = nx.dijkstra_path(G3,source = 1, target = 20)\n",
    "# Create a list of arcs in the shortest path using the zip command and store it in red edges\n",
    "red_edges = list(zip(sp,sp[1:]))\n",
    "# Draw the nodes\n",
    "nx.draw_networkx(G3, node_pos)\n",
    "# Draw the node labels\n",
    "nx.draw_networkx_labels(G3, node_pos)\n",
    "# Draw the edges\n",
    "nx.draw_networkx_edges(G3, node_pos)\n",
    "# Draw the edge labels\n",
    "nx.draw_networkx_edge_labels(G3, node_pos, edge_labels=arc_weight)\n",
    "# Remove the axis\n",
    "plt.axis('off');"
   ]
  },
  {
   "cell_type": "markdown",
   "metadata": {
    "deletable": false,
    "editable": false,
    "nbgrader": {
     "grade": false,
     "locked": true,
     "solution": false
    }
   },
   "source": [
    "[Back to top](#Index:) \n",
    "<a id='q07'></a>\n",
    "\n",
    "\n",
    "### Question 7:\n",
    "\n",
    "*5 points*\n",
    "\n",
    "Use the `networkx` object `G3` just created to compute the following. \n",
    "+ Apply `nx.dijkstra_path` to determine a shortest path from node `13` to node `6`. Assign the result to `ans_7_path`.\n",
    "+ Apply `nx.dijkstra_path_length` to determine the *length* of the shortest path from node `13` to node `6`. Assign the result to `ans_7_length`."
   ]
  },
  {
   "cell_type": "code",
   "execution_count": 22,
   "metadata": {
    "nbgrader": {
     "grade": false,
     "locked": false,
     "solution": false
    }
   },
   "outputs": [],
   "source": [
    "### GRADED\n",
    "\n",
    "### YOUR SOLUTION HERE:\n",
    "ans_7_path = nx.dijkstra_path(G3, 13, 6, weight = \"weight\")\n",
    "ans_7_length = nx.dijkstra_path_length(G3, 13, 6, weight = \"weight\")\n",
    "###\n",
    "### YOUR CODE HERE\n",
    "###\n"
   ]
  },
  {
   "cell_type": "code",
   "execution_count": null,
   "metadata": {
    "collapsed": true,
    "deletable": false,
    "editable": false,
    "nbgrader": {
     "grade": true,
     "grade_id": "Question 07",
     "locked": true,
     "points": "5",
     "solution": false
    }
   },
   "outputs": [],
   "source": [
    "###\n",
    "### AUTOGRADER TEST - DO NOT REMOVE\n",
    "###\n"
   ]
  },
  {
   "cell_type": "markdown",
   "metadata": {
    "deletable": false,
    "editable": false,
    "nbgrader": {
     "grade": false,
     "locked": true,
     "solution": false
    }
   },
   "source": [
    "# Adversarial Search\n",
    "\n",
    "---\n",
    "In this section, we will introduce problems motivated by the example of tic-tac-toe in the lecture and *Chapter 5: Artificial Intelligence a Modern Approach*. Your goal will be to examine some foundational elements of the problems much as those addressed in our search problems in the last module, in the context of adversarial search problems.  To begin, we will explore some of the fundamental ideas in **game theory** and its history.  \n",
    "\n",
    "According to Straffin's *Game Theory and Strategy*, a **game** is any scenario in which:\n",
    "\n",
    "<div class=\"alert alert-info\" role=\"alert\">\n",
    "    <li>There are at least two <i>players</i></li>\n",
    "    <li>Each player has a number of possible <i>strategies</i></li>\n",
    "    <li>The strategies chosen by each player determine the <i>outcome</i> of the game.</li>\n",
    "    <li>Associated to each possible outcome of the game, is a collection of numerical <i>payoffs</i>, one to each player.</li>\n",
    "</div>\n",
    "\n",
    "\n",
    "To begin, lets consider a scenario in which there are two players: Row and Column.  The players each have two strategies -- $A$ or $B$. There are different consequences for the four possible pairings of these strategies depending, and we can represent an example of such a game with a *pay-off matrix* as follows:\n",
    "\n",
    "<table class=\"table\">\n",
    "    <caption>Row vs. Column</caption>\n",
    "  <thead>\n",
    "    <tr>\n",
    "      <th scope=\"col\"> </th>\n",
    "      <th scope=\"col\">A</th>\n",
    "      <th scope=\"col\">B</th>\n",
    "    </tr>\n",
    "  </thead>\n",
    "  <tbody>\n",
    "    <tr>\n",
    "      <th scope=\"row\">A</th>\n",
    "      <td>4</td>\n",
    "      <td>-3</td> \n",
    "    </tr>\n",
    "    <tr>\n",
    "      <th scope=\"row\">B</th>\n",
    "      <td>0</td>\n",
    "      <td>3</td>\n",
    "    </tr> \n",
    "  </tbody>\n",
    "</table>\n",
    "\n",
    "\n",
    "This table is from only the Row player's perspective, and we will view each outcome for player Row to have the equal and opposite outcome or *pay-off* for player Column. To begin our exploration, we need first to represent and simulate playing the game a variety of times to verify our intuitions."
   ]
  },
  {
   "cell_type": "markdown",
   "metadata": {
    "deletable": false,
    "editable": false,
    "nbgrader": {
     "grade": false,
     "locked": true,
     "solution": false
    }
   },
   "source": [
    "### Representation of Games\n",
    "\n",
    "To start, we will use nested lists to represent games.  A **nested list** is a list of lists in Python.  For example:\n",
    "\n",
    "```python\n",
    "[[1,0],[0,1]]\n",
    "```\n",
    "\n",
    "could be interpreted as a matrix\n",
    "\n",
    "$$\\begin{bmatrix}\n",
    "1 & 0 \\\\\n",
    "0 & 1 \\\\\n",
    "\\end{bmatrix}\n",
    "$$"
   ]
  },
  {
   "cell_type": "markdown",
   "metadata": {
    "deletable": false,
    "editable": false,
    "nbgrader": {
     "grade": false,
     "locked": true,
     "solution": false
    }
   },
   "source": [
    "<a id=\"q-representing-games\"></a>\n",
    "[Return to top](#questions)"
   ]
  },
  {
   "cell_type": "markdown",
   "metadata": {
    "deletable": false,
    "editable": false,
    "nbgrader": {
     "grade": false,
     "locked": true,
     "solution": false
    }
   },
   "source": [
    "[Back to top](#Index:) \n",
    "<a id='q08'></a>\n",
    "\n",
    "\n",
    "### Question 08:\n",
    "\n",
    "*5 points*\n",
    "\n",
    "Your first task is to represent the following pay-off matrix in Python as a list of lists:\n",
    "\n",
    "| $\\ $ |  A  |  B  |  C  |  D  | \n",
    "| ----- | ----- | ----- | ----- | ----- |\n",
    "| **A**     | 12    | -1   |   1 |    0 |\n",
    "| **B**      |    5 |    1 |   7 |   -20 |\n",
    "| **C**   |    3 |    2 |    4 |    3 | \n",
    "| **D**    |   -16 |   0 |   0 |    16 | \n",
    "\n",
    "+ Each inner list corresponds to a row of the table above.\n",
    "+ Assign your resulting data structure to the identifier `ans_8`."
   ]
  },
  {
   "cell_type": "code",
   "execution_count": 45,
   "metadata": {},
   "outputs": [
    {
     "data": {
      "text/plain": [
       "[[12, -1, 1, 0], [5, 1, 7, -20], [3, 2, 4, 3], [-16, 0, 0, 16]]"
      ]
     },
     "execution_count": 45,
     "metadata": {},
     "output_type": "execute_result"
    }
   ],
   "source": [
    "### GRADED\n",
    "\n",
    "### YOUR ANSWER BELOW:\n",
    "ans_8 = [[12,-1,1,0],\n",
    "         [5,1,7,-20],\n",
    "         [3,2,4,3],\n",
    "         [-16,0,0,16]]\n",
    "ans_8\n",
    "###\n",
    "### YOUR CODE HERE\n",
    "###\n"
   ]
  },
  {
   "cell_type": "code",
   "execution_count": null,
   "metadata": {
    "collapsed": true,
    "deletable": false,
    "editable": false,
    "nbgrader": {
     "grade": true,
     "grade_id": "Question 08",
     "locked": true,
     "points": "5",
     "solution": false
    }
   },
   "outputs": [],
   "source": [
    "###\n",
    "### AUTOGRADER TEST - DO NOT REMOVE\n",
    "###\n"
   ]
  },
  {
   "cell_type": "markdown",
   "metadata": {
    "deletable": false,
    "editable": false,
    "nbgrader": {
     "grade": false,
     "locked": true,
     "solution": false
    }
   },
   "source": [
    "[Back to top](#Index:) \n",
    "<a id='q09'></a>\n",
    "\n",
    "\n",
    "### Question 09:\n",
    "\n",
    "*5 points*\n",
    "\n",
    "You can now examine the pay-offs in the table from Question 8 to determine if the game is fair.\n",
    "+ If the game corresponding to the table is fair, the expectation for each player would be equal.\n",
    "+ Provide your answer as a Python string chosen from\n",
    "   + `row` (if the row player has an advantage)\n",
    "   + `column` (if the column player has an advantage)\n",
    "   + `none` (if neither has an advantage)\n",
    "+ Assign the result to `ans_9`."
   ]
  },
  {
   "cell_type": "code",
   "execution_count": null,
   "metadata": {
    "collapsed": true
   },
   "outputs": [],
   "source": [
    "### GRADED\n",
    "\n",
    "\n",
    "### YOUR ANSWER BELOW:\n",
    "ans_9 = None\n",
    "###\n",
    "### YOUR CODE HERE\n",
    "###\n"
   ]
  },
  {
   "cell_type": "code",
   "execution_count": null,
   "metadata": {
    "collapsed": true,
    "deletable": false,
    "editable": false,
    "nbgrader": {
     "grade": true,
     "grade_id": "Question 09",
     "locked": true,
     "points": "5",
     "solution": false
    }
   },
   "outputs": [],
   "source": [
    "###\n",
    "### AUTOGRADER TEST - DO NOT REMOVE\n",
    "###\n"
   ]
  },
  {
   "cell_type": "markdown",
   "metadata": {
    "deletable": false,
    "editable": false,
    "nbgrader": {
     "grade": false,
     "locked": true,
     "solution": false
    }
   },
   "source": [
    "### Tic Tac Toe\n",
    "\n",
    "To demonstrate some of the fundamentals in analyzing a game by building and traversing a game tree, we will use the game of Tic Tac Toe.  We use the game to cover some of the fundamental ideas of connecting games to search problems.  To do so, we will write basic functions to implement the game.  In this section, our functions will focus on:\n",
    "\n",
    "- An **`initial_state`** function\n",
    "- A **`player`** function\n",
    "- An **`action`** function\n",
    "- A **`result`** function\n",
    "- A **`terminal_test`** function\n",
    "- A **`utility`** function\n",
    "\n",
    "To begin, we need to decide on some conventions for our board.  Let us define a $3 \\times 3$ board as a nested list of lists.  Here, we will use empty strings to denote an empty cell."
   ]
  },
  {
   "cell_type": "markdown",
   "metadata": {
    "deletable": false,
    "editable": false,
    "nbgrader": {
     "grade": false,
     "locked": true,
     "solution": false
    }
   },
   "source": [
    "[Back to top](#Index:) \n",
    "<a id='q10'></a>\n",
    "\n",
    "\n",
    "### Question 10:\n",
    "\n",
    "*5 points*\n",
    "\n",
    "Create an empty 3 by 3 game board represented using a nested list of lists of empty strings. Assign your response to the identifier `ans_10`."
   ]
  },
  {
   "cell_type": "code",
   "execution_count": 49,
   "metadata": {},
   "outputs": [],
   "source": [
    "### GRADED\n",
    "\n",
    "\n",
    "### YOUR ANSWER BELOW:\n",
    "ans_10 = [['', '', ''], ['', '', ''], ['', '', '']]\n",
    "###\n",
    "### YOUR CODE HERE\n",
    "###\n"
   ]
  },
  {
   "cell_type": "code",
   "execution_count": null,
   "metadata": {
    "collapsed": true,
    "deletable": false,
    "editable": false,
    "nbgrader": {
     "grade": true,
     "grade_id": "Question 10",
     "locked": true,
     "points": "5",
     "solution": false
    }
   },
   "outputs": [],
   "source": [
    "###\n",
    "### AUTOGRADER TEST - DO NOT REMOVE\n",
    "###\n"
   ]
  },
  {
   "cell_type": "markdown",
   "metadata": {
    "deletable": false,
    "editable": false,
    "nbgrader": {
     "grade": false,
     "locked": true,
     "solution": false
    }
   },
   "source": [
    "[Back to top](#Index:) \n",
    "<a id='q11'></a>\n",
    "\n",
    "\n",
    "### Question 11:\n",
    "\n",
    "*5 points*\n",
    "\n",
    "Now, we write a function called initial state that takes no arguments and returns the initial state of the game board. \n",
    "\n",
    "```python\n",
    "def initial_state():\n",
    "    '''\n",
    "    This function returns an initial\n",
    "    empty tic-tac-toe board.\n",
    "    '''\n",
    "    return board\n",
    "```\n",
    "\n",
    "**HINT:** The initial state of the game is the empty board defined above."
   ]
  },
  {
   "cell_type": "code",
   "execution_count": 56,
   "metadata": {
    "collapsed": true
   },
   "outputs": [],
   "source": [
    "### GRADED\n",
    "\n",
    "### YOUR ANSWER BELOW:\n",
    "def initial_state():\n",
    "    '''\n",
    "    This function will return an empty game board when\n",
    "    called.  \n",
    "    '''\n",
    "    return ans_10\n",
    "###\n",
    "### YOUR CODE HERE\n",
    "###\n"
   ]
  },
  {
   "cell_type": "code",
   "execution_count": null,
   "metadata": {
    "collapsed": true,
    "deletable": false,
    "editable": false,
    "nbgrader": {
     "grade": true,
     "grade_id": "Question 11",
     "locked": true,
     "points": "5",
     "solution": false
    }
   },
   "outputs": [],
   "source": [
    "###\n",
    "### AUTOGRADER TEST - DO NOT REMOVE\n",
    "###\n"
   ]
  },
  {
   "cell_type": "markdown",
   "metadata": {
    "deletable": false,
    "editable": false,
    "nbgrader": {
     "grade": false,
     "locked": true,
     "solution": false
    }
   },
   "source": [
    "**`player`**\n",
    "\n",
    "Now, we need to write a `player` function.  Here, we assume that player $X$ will always go first.  Our function will then take a board as an argument, and return the Python string `'X'` or `'O'` according to which player's move it is.\n",
    "\n",
    "Notice that the character returned is in upper case and the character `'O'` is the letter \"O\" and *not* the number zero."
   ]
  },
  {
   "cell_type": "code",
   "execution_count": null,
   "metadata": {
    "collapsed": true,
    "deletable": false,
    "editable": false,
    "nbgrader": {
     "grade": false,
     "locked": true,
     "solution": false
    }
   },
   "outputs": [],
   "source": [
    "def player(board):\n",
    "    '''\n",
    "    This function takes in a board\n",
    "    of tic-tac-toe, and determines\n",
    "    whose move it is\n",
    "    '''\n",
    "    x_count = 0\n",
    "    o_count = 0\n",
    "    for row in board:\n",
    "        for column in row:\n",
    "            if column == 'X':\n",
    "                x_count += 1\n",
    "            elif column == 'O':\n",
    "                o_count += 1\n",
    "    if x_count == o_count:\n",
    "        return 'X'\n",
    "    else:\n",
    "        return 'O'"
   ]
  },
  {
   "cell_type": "markdown",
   "metadata": {
    "deletable": false,
    "editable": false,
    "nbgrader": {
     "grade": false,
     "locked": true,
     "solution": false
    }
   },
   "source": [
    "**`actions`**\n",
    "\n",
    "Now that we have a board and a way to determine the player, we want to take in a game board and return a set of all possible actions.  Here, we want to return a set of (row,column) tuples that identify possible moves for a player given the state of the board.\n",
    "\n",
    "```python\n",
    "def actions(board):\n",
    "    ...\n",
    "    return [(row,column), (row, column), ... ]\n",
    "```"
   ]
  },
  {
   "cell_type": "code",
   "execution_count": 58,
   "metadata": {
    "collapsed": true,
    "deletable": false,
    "editable": false,
    "nbgrader": {
     "grade": false,
     "locked": true,
     "solution": false
    }
   },
   "outputs": [],
   "source": [
    "def actions(board):\n",
    "    '''\n",
    "    This function takes in a board and returns the\n",
    "    a list of tuples of possible next moves.\n",
    "    '''\n",
    "    moves = []\n",
    "    for r, row in enumerate(board):\n",
    "        for c, val in enumerate(row):\n",
    "            if val == '':\n",
    "                moves.append((r, c))\n",
    "    return set(moves)"
   ]
  },
  {
   "cell_type": "code",
   "execution_count": null,
   "metadata": {
    "collapsed": true
   },
   "outputs": [],
   "source": [
    " Result = set()\n",
    "\n",
    "    for k in range(3):\n",
    "\n",
    "        for l in range(3):\n",
    "\n",
    "            if board[k][l] == EMPTY:\n",
    "\n",
    "                Result.add(board[k][l])\n",
    "\n",
    "    return Result\n"
   ]
  },
  {
   "cell_type": "code",
   "execution_count": 59,
   "metadata": {
    "deletable": false,
    "editable": false,
    "nbgrader": {
     "grade": false,
     "locked": true,
     "solution": false
    }
   },
   "outputs": [
    {
     "data": {
      "text/plain": [
       "{(0, 2), (1, 2), (2, 0)}"
      ]
     },
     "execution_count": 59,
     "metadata": {},
     "output_type": "execute_result"
    }
   ],
   "source": [
    "board = [['X','X',''],['O','O',''],['','O','X']]\n",
    "actions(board)"
   ]
  },
  {
   "cell_type": "markdown",
   "metadata": {
    "deletable": false,
    "editable": false,
    "nbgrader": {
     "grade": false,
     "locked": true,
     "solution": false
    }
   },
   "source": [
    "**`result`**\n",
    "\n",
    "This function should take in a board and (row, column) tuple.  We will return a board having made the move for the appropriate player at the given location."
   ]
  },
  {
   "cell_type": "code",
   "execution_count": null,
   "metadata": {
    "collapsed": true,
    "deletable": false,
    "editable": false,
    "nbgrader": {
     "grade": false,
     "locked": true,
     "solution": false
    }
   },
   "outputs": [],
   "source": [
    "def result(board, tup):\n",
    "    '''\n",
    "    This function takes in a tic tac toe\n",
    "    board and tuple of row and column location to \n",
    "    place the players move\n",
    "    '''\n",
    "    p = player(board)\n",
    "    board[tup[0]][tup[1]] = p\n",
    "    return board"
   ]
  },
  {
   "cell_type": "markdown",
   "metadata": {
    "deletable": false,
    "editable": false,
    "nbgrader": {
     "grade": false,
     "locked": true,
     "solution": false
    }
   },
   "source": [
    "**`terminal`**\n",
    "\n",
    "This function will take in a game board and return a boolean value for whether or not the board is in a terminal state (i.e., whether or not any further moves are possible).\n"
   ]
  },
  {
   "cell_type": "code",
   "execution_count": 60,
   "metadata": {
    "collapsed": true,
    "deletable": false,
    "editable": false,
    "nbgrader": {
     "grade": false,
     "locked": true,
     "solution": false
    }
   },
   "outputs": [],
   "source": [
    "def terminal(board):\n",
    "    '''\n",
    "    Given a game board, this function\n",
    "    returns whether or not the board is in\n",
    "    a terminal state.\n",
    "    '''\n",
    "    return not bool(actions(board))"
   ]
  },
  {
   "cell_type": "code",
   "execution_count": 61,
   "metadata": {
    "deletable": false,
    "editable": false,
    "nbgrader": {
     "grade": false,
     "locked": true,
     "solution": false
    }
   },
   "outputs": [
    {
     "name": "stdout",
     "output_type": "stream",
     "text": [
      "False\n",
      "False\n",
      "True\n"
     ]
    }
   ],
   "source": [
    "board_1 = [['', '', 'X'],\n",
    "          ['O', '', ''],\n",
    "          ['', '', '']]\n",
    "\n",
    "board_2 = [['X', 'O', 'X'],\n",
    "          ['O', '', ''],\n",
    "          ['', 'X', '']]\n",
    "\n",
    "board_3 = [['X', 'O', 'X'],\n",
    "          ['O', 'X', 'O'],\n",
    "          ['O', 'X', 'X']]\n",
    "\n",
    "print(terminal(board_1))\n",
    "print(terminal(board_2))\n",
    "print(terminal(board_3))"
   ]
  },
  {
   "cell_type": "markdown",
   "metadata": {
    "deletable": false,
    "editable": false,
    "nbgrader": {
     "grade": false,
     "locked": true,
     "solution": false
    }
   },
   "source": [
    "For example, the function `row_winners` below, accepts a board as an input and returns `'X'` if player `'X'` has completed a row of the tic-tac-toe board, `'O'` if player `'O'` has completed a row of the tic-tac-toe board, or `None` if neither player has completed a row of the tic-tac-toe board."
   ]
  },
  {
   "cell_type": "code",
   "execution_count": 62,
   "metadata": {
    "collapsed": true
   },
   "outputs": [],
   "source": [
    "def row_winners(board):\n",
    "    '''Returns \"X\" or \"O\" or None according to whether either one of the players\n",
    "    has achieved three symbols in a horizontal row.'''\n",
    "    for r, row in enumerate(board):\n",
    "        x = 0\n",
    "        y = 0\n",
    "        for c, val in enumerate(row):\n",
    "            if val == 'X':\n",
    "                x = x + 1\n",
    "            if val == 'O':\n",
    "                y = y + 1\n",
    "        if x == 3:\n",
    "            return 'X'\n",
    "        if y == 3:\n",
    "            return 'O'\n",
    "    return None"
   ]
  },
  {
   "cell_type": "markdown",
   "metadata": {
    "deletable": false,
    "editable": false,
    "nbgrader": {
     "grade": false,
     "locked": true,
     "solution": false
    }
   },
   "source": [
    "[Back to top](#Index:) \n",
    "<a id='q12'></a>\n",
    "\n",
    "\n",
    "### Question 12:\n",
    "\n",
    "*10 points*\n",
    "\n",
    "Following the template given by `row_winner()` above, code a function `column_winner` that accepts a board as an input.\n",
    "This function is similar to our `row_winners` but will determine if one of the players has won column winners by completing a column with their symbol. It should return the winner as `'X'`, `'O'`, or `None`."
   ]
  },
  {
   "cell_type": "code",
   "execution_count": 51,
   "metadata": {
    "collapsed": true
   },
   "outputs": [],
   "source": [
    "### GRADED\n",
    "\n",
    "###YOUR SOLUTION HERE\n",
    "def column_winners(board):\n",
    "    '''Returns \"X\" or \"O\" or None according to whether either one of the players\n",
    "    has achieved three symbols in a vertical column.'''\n",
    "    for r, row in enumerate(board):\n",
    "        x = 0\n",
    "        y = 0\n",
    "        for c, val in enumerate(r):\n",
    "            if c == 'X':\n",
    "                x = x + 1\n",
    "            if c == 'O':\n",
    "                y = y + 1\n",
    "        if x == 3:\n",
    "            return 'X'\n",
    "        if y == 3:\n",
    "            return 'O'\n",
    "    return None\n",
    "###\n",
    "### YOUR CODE HERE\n",
    "###\n"
   ]
  },
  {
   "cell_type": "code",
   "execution_count": 52,
   "metadata": {
    "collapsed": true,
    "deletable": false,
    "editable": false,
    "nbgrader": {
     "grade": true,
     "grade_id": "Question 12",
     "locked": true,
     "points": "10",
     "solution": false
    }
   },
   "outputs": [],
   "source": [
    "###\n",
    "### AUTOGRADER TEST - DO NOT REMOVE\n",
    "###\n"
   ]
  },
  {
   "cell_type": "markdown",
   "metadata": {
    "deletable": false,
    "editable": false,
    "nbgrader": {
     "grade": false,
     "locked": true,
     "solution": false
    }
   },
   "source": [
    "[Back to top](#Index:) \n",
    "<a id='q13'></a>\n",
    "\n",
    "\n",
    "### Question 13:\n",
    "\n",
    "*10 points*\n",
    "\n",
    "Code a function `diagonal_winner` that accepts a board as an input.\n",
    "This function will take in a game board and return whether or not there is a diagonal win.  It should return the winner as `X`, `O`, or `None`."
   ]
  },
  {
   "cell_type": "code",
   "execution_count": null,
   "metadata": {
    "collapsed": true
   },
   "outputs": [],
   "source": [
    "### GRADED\n",
    "\n",
    "### YOUR SOLUTION HERE \n",
    "def diagonal_winners(board):\n",
    "    '''Returns \"X\" or \"O\" or None according to whether either one of the players\n",
    "    has achieved three symbols in sequence along either diagonal.'''\n",
    "    return\n",
    "###\n",
    "### YOUR CODE HERE\n",
    "###\n"
   ]
  },
  {
   "cell_type": "code",
   "execution_count": null,
   "metadata": {
    "collapsed": true,
    "deletable": false,
    "editable": false,
    "nbgrader": {
     "grade": true,
     "grade_id": "Question 13",
     "locked": true,
     "points": "10",
     "solution": false
    }
   },
   "outputs": [],
   "source": [
    "###\n",
    "### AUTOGRADER TEST - DO NOT REMOVE\n",
    "###\n"
   ]
  },
  {
   "cell_type": "markdown",
   "metadata": {
    "deletable": false,
    "editable": false,
    "nbgrader": {
     "grade": false,
     "locked": true,
     "solution": false
    }
   },
   "source": [
    "The function `utility()` below takes as input a board and return a numerical score (i.e., an integer) as follows:\n",
    "\n",
    "- If player `'X'` wins, return `+1`\n",
    "- If player `'O'` wins, return `-1`\n",
    "- If Nobody wins, return `0` (that's the integer zero, not the alphabetical letter `'O'`)"
   ]
  },
  {
   "cell_type": "code",
   "execution_count": null,
   "metadata": {
    "collapsed": true
   },
   "outputs": [],
   "source": [
    "def utility(board):\n",
    "    '''Returns +1, -1 or 0 according to whether player X, player O, or neither player\n",
    "    respectively has won the game.'''\n",
    "    row_result = row_winners(board)\n",
    "    col_result = column_winners(board)\n",
    "    diag_result = diagonal_winners(board)\n",
    "    if (col_result == 'X') or (row_result == 'X') or (diag_result == 'X'):\n",
    "        return +1\n",
    "    elif (col_result == 'O') or (row_result == 'O') or (diag_result == 'O'):\n",
    "        return -1\n",
    "    return 0  # Default condition \n"
   ]
  },
  {
   "cell_type": "markdown",
   "metadata": {
    "deletable": false,
    "editable": false,
    "nbgrader": {
     "grade": false,
     "locked": true,
     "solution": false
    }
   },
   "source": [
    "### The Game Tree\n",
    "\n",
    "Congratulations, you now have all the ingredients necessary for building the game tree for tic-tac-toe.  Similar to what we saw in the first assignment, we could represent a tree as a dictionary where each key corresponds to a ply in the game tree and contains the nodes available at that level.\n",
    "\n",
    "![](assets/tictactoe.png)\n"
   ]
  }
 ],
 "metadata": {
  "celltoolbar": "Edit Metadata",
  "kernelspec": {
   "display_name": "Python 3 [3.7]",
   "language": "python",
   "name": "python3"
  },
  "language_info": {
   "codemirror_mode": {
    "name": "ipython",
    "version": 3
   },
   "file_extension": ".py",
   "mimetype": "text/x-python",
   "name": "python",
   "nbconvert_exporter": "python",
   "pygments_lexer": "ipython3",
   "version": "3.7.5"
  }
 },
 "nbformat": 4,
 "nbformat_minor": 4
}
